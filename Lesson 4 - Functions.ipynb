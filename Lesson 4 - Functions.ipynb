{
 "cells": [
  {
   "cell_type": "markdown",
   "metadata": {},
   "source": [
    "# Определение функций\n",
    "* *Определение функции* начинается с зарезервированного слова `def`\n",
    "* За ним следует имя функции и список *формальных параметров*, заключенный в скобки\n",
    "* Операторы, которые формируют *тело функции* начинаются со следующей строки, и должны иметь отступ."
   ]
  },
  {
   "cell_type": "code",
   "execution_count": 1,
   "metadata": {
    "collapsed": false
   },
   "outputs": [
    {
     "name": "stdout",
     "output_type": "stream",
     "text": [
      "1\n",
      "1\n",
      "2\n",
      "3\n",
      "5\n",
      "8\n"
     ]
    }
   ],
   "source": [
    "def fib(n):\n",
    "    a, b = 0, 1\n",
    "    while b < n:\n",
    "        print(b)\n",
    "        a, b = b, a+b\n",
    "\n",
    "fib(10)"
   ]
  },
  {
   "cell_type": "markdown",
   "metadata": {},
   "source": [
    "# Возврат значений\n",
    "* Чтоб вернуть что-то из функции, используется оператор `return`\n",
    "* Оператор `return` без параметров возвращает `None`\n",
    "* Если при выполнении функции интерпретатор дошел до конца и не встретил ни одного оператора `return`, то функция тоже вернет None"
   ]
  },
  {
   "cell_type": "code",
   "execution_count": 2,
   "metadata": {
    "collapsed": false
   },
   "outputs": [
    {
     "name": "stdout",
     "output_type": "stream",
     "text": [
      "42\n"
     ]
    }
   ],
   "source": [
    "def foo():\n",
    "    return 42\n",
    "print(foo())"
   ]
  },
  {
   "cell_type": "code",
   "execution_count": 3,
   "metadata": {
    "collapsed": false
   },
   "outputs": [
    {
     "name": "stdout",
     "output_type": "stream",
     "text": [
      "None\n"
     ]
    }
   ],
   "source": [
    "def foo():\n",
    "    return\n",
    "print(foo())"
   ]
  },
  {
   "cell_type": "code",
   "execution_count": 4,
   "metadata": {
    "collapsed": false
   },
   "outputs": [
    {
     "name": "stdout",
     "output_type": "stream",
     "text": [
      "42\n",
      "None\n"
     ]
    }
   ],
   "source": [
    "def foo(x):\n",
    "    if x > 0:\n",
    "        return 42\n",
    "\n",
    "print(foo(10))  # здесь возвращается 42\n",
    "print(foo(-5))  # а здесь - None"
   ]
  },
  {
   "cell_type": "code",
   "execution_count": 5,
   "metadata": {
    "collapsed": false
   },
   "outputs": [
    {
     "name": "stdout",
     "output_type": "stream",
     "text": [
      "None\n"
     ]
    }
   ],
   "source": [
    "def foo():\n",
    "    pass\n",
    "print(foo())"
   ]
  },
  {
   "cell_type": "markdown",
   "metadata": {},
   "source": [
    "\n",
    "Можно модифицировать функцию `fib` чтоб она возвращала какое-то значение, а не печатала его:"
   ]
  },
  {
   "cell_type": "code",
   "execution_count": 6,
   "metadata": {
    "collapsed": false
   },
   "outputs": [
    {
     "name": "stdout",
     "output_type": "stream",
     "text": [
      "[1, 1, 2, 3, 5, 8]\n"
     ]
    }
   ],
   "source": [
    "def fib(n):\n",
    "    a, b = 0, 1\n",
    "    result = []\n",
    "    while b < n:\n",
    "        result.append(b)\n",
    "        a, b = b, a+b\n",
    "    return result\n",
    "\n",
    "x = fib(10)  # вызов функции\n",
    "print(x)     # вывод результата"
   ]
  },
  {
   "cell_type": "markdown",
   "metadata": {},
   "source": [
    "## Возврат нескольких значений\n",
    "Если нужно вернуть несколько значений, можно вернуть список, или кортеж."
   ]
  },
  {
   "cell_type": "code",
   "execution_count": 7,
   "metadata": {
    "collapsed": false
   },
   "outputs": [
    {
     "data": {
      "text/plain": [
       "[1, 2]"
      ]
     },
     "execution_count": 7,
     "metadata": {},
     "output_type": "execute_result"
    }
   ],
   "source": [
    "def foo():\n",
    "    return [1, 2]\n",
    "foo()"
   ]
  },
  {
   "cell_type": "code",
   "execution_count": 8,
   "metadata": {
    "collapsed": false
   },
   "outputs": [
    {
     "data": {
      "text/plain": [
       "(1, 2)"
      ]
     },
     "execution_count": 8,
     "metadata": {},
     "output_type": "execute_result"
    }
   ],
   "source": [
    "def foo():\n",
    "    return 1, 2\n",
    "foo()"
   ]
  },
  {
   "cell_type": "markdown",
   "metadata": {},
   "source": [
    "Если функция возвращает несколько значений, их можно \"распаковать\" в несколько переменных:"
   ]
  },
  {
   "cell_type": "code",
   "execution_count": 9,
   "metadata": {
    "collapsed": false
   },
   "outputs": [
    {
     "name": "stdout",
     "output_type": "stream",
     "text": [
      "a = 1\n",
      "b = 2\n"
     ]
    }
   ],
   "source": [
    "def foo():\n",
    "    return 1, 2\n",
    "\n",
    "a, b = foo()\n",
    "print(\"a =\", a)\n",
    "print(\"b =\", b)"
   ]
  },
  {
   "cell_type": "markdown",
   "metadata": {},
   "source": [
    "# Docstring\n",
    "* Первым выражением в теле функции может быть строковый литерал — этот литерал является строкой документации функции, или `docstring`\n",
    "* Есть инструменты, которые используют `docstring` чтобы сгенерировать документацию по коду\n",
    "* Docstring всегда можно получить с помощью магического свойства `__doc__`"
   ]
  },
  {
   "cell_type": "code",
   "execution_count": 10,
   "metadata": {
    "collapsed": false
   },
   "outputs": [
    {
     "name": "stdout",
     "output_type": "stream",
     "text": [
      " Получить ряд чисел Фибоначчи от 1 до n \n"
     ]
    }
   ],
   "source": [
    "def fib(n):\n",
    "    \"\"\" Получить ряд чисел Фибоначчи от 1 до n \"\"\"\n",
    "    a, b = 0, 1\n",
    "    result = []\n",
    "    while b < n:\n",
    "        result.append(b)\n",
    "        a, b = b, a+b\n",
    "    return result\n",
    "\n",
    "print(fib.__doc__)"
   ]
  },
  {
   "cell_type": "markdown",
   "metadata": {},
   "source": [
    "IDE умеют показывать описания функций в месте их вызова, используя информацию из `docstring`:\n",
    "<img src=\"docstring.png\" width=\"400px\" />"
   ]
  },
  {
   "cell_type": "markdown",
   "metadata": {},
   "source": [
    "\n",
    "Так же в `dosctring` можно добавить описание формальных параметров (которое будет включено в документацию), и их типы. Хотя **на выполнение программы это не повлияет**, IDE смогут проверять типы данных на этапе написания кода и предупреждать о возможных ошибках. А еще будет работать автодополнение."
   ]
  },
  {
   "cell_type": "code",
   "execution_count": 11,
   "metadata": {
    "collapsed": true
   },
   "outputs": [],
   "source": [
    "def fib(n):\n",
    "    \"\"\"\n",
    "    Получить ряд чисел Фибоначчи от 1 до n\n",
    "\n",
    "    :param n: верхняя граница ряда Фибоначчи\n",
    "\n",
    "    :type n: int\n",
    "    :rtype: list\n",
    "    \"\"\"\n",
    "    a, b = 0, 1\n",
    "    result = []\n",
    "    while b < n:\n",
    "        result.append(b)\n",
    "        a, b = b, a+b\n",
    "    return result"
   ]
  },
  {
   "cell_type": "code",
   "execution_count": 12,
   "metadata": {
    "collapsed": true
   },
   "outputs": [],
   "source": [
    "def fib(n):\n",
    "    \"\"\"\n",
    "    Получить ряд чисел Фибоначчи от 1 до n\n",
    "\n",
    "    :param int n: верхняя граница ряда Фибоначчи\n",
    "    :rtype: list\n",
    "    \"\"\"\n",
    "    a, b = 0, 1\n",
    "    result = []\n",
    "    while b < n:\n",
    "        result.append(b)\n",
    "        a, b = b, a+b\n",
    "    return result"
   ]
  },
  {
   "cell_type": "markdown",
   "metadata": {},
   "source": [
    "В Python 3 можно использовать type hints, описанные в PEP 484\n",
    "* https://www.python.org/dev/peps/pep-0484/\n",
    "* https://docs.python.org/3/library/typing.html"
   ]
  },
  {
   "cell_type": "code",
   "execution_count": 13,
   "metadata": {
    "collapsed": true
   },
   "outputs": [],
   "source": [
    "def fib(n: int) -> list:\n",
    "    \"\"\"\n",
    "    Получить ряд чисел Фибоначчи от 1 до n\n",
    "    :param n: верхняя граница ряда Фибоначчи\n",
    "    \"\"\"\n",
    "    a, b = 0, 1\n",
    "    result = []\n",
    "    while b < n:\n",
    "        result.append(b)\n",
    "        a, b = b, a+b\n",
    "    return result"
   ]
  },
  {
   "cell_type": "markdown",
   "metadata": {},
   "source": [
    "# Области видимости (scope)\n",
    "Чтоб получить значение переменной, области видимости просматриваются в слебующем порядке:\n",
    "\n",
    "* локальный scope функции\n",
    "* тот scope, из которого функция была вызыана\n",
    "* глобальный scope\n",
    "\n",
    "При сохранении значения переменной (например, в результате присваивания), это значение *всегда* сохраняется в локальный scope."
   ]
  },
  {
   "cell_type": "code",
   "execution_count": 14,
   "metadata": {
    "collapsed": false
   },
   "outputs": [
    {
     "name": "stdout",
     "output_type": "stream",
     "text": [
      "25 10\n"
     ]
    }
   ],
   "source": [
    "# пример 1 - чтение глобальной переменной\n",
    "def foo():\n",
    "    a = 25\n",
    "    print(a, b)\n",
    "\n",
    "b = 10\n",
    "foo()"
   ]
  },
  {
   "cell_type": "code",
   "execution_count": 16,
   "metadata": {
    "collapsed": false
   },
   "outputs": [
    {
     "name": "stdout",
     "output_type": "stream",
     "text": [
      "25\n",
      "10\n"
     ]
    }
   ],
   "source": [
    "# пример 2 - объявление локальной переменной,\n",
    "# которая скрывает глобальную с таким же именем\n",
    "def foo():\n",
    "    x = 25\n",
    "    print(x)\n",
    "\n",
    "x = 10\n",
    "foo()\n",
    "print(x)"
   ]
  },
  {
   "cell_type": "code",
   "execution_count": 17,
   "metadata": {
    "collapsed": false
   },
   "outputs": [
    {
     "name": "stdout",
     "output_type": "stream",
     "text": [
      "10\n"
     ]
    }
   ],
   "source": [
    "# пример 3 попытка перезаписать глобальную переменную\n",
    "def foo():\n",
    "    x = 25  # здесь будет создана новая локальная переменная\n",
    "\n",
    "x = 10\n",
    "foo()\n",
    "print(x)"
   ]
  },
  {
   "cell_type": "markdown",
   "metadata": {},
   "source": [
    "Но если все-таки очень хочется изменить значение глобальной переменной, ее нужно объявить с ключевым словом `global`. Но так делать не надо."
   ]
  },
  {
   "cell_type": "code",
   "execution_count": 20,
   "metadata": {
    "collapsed": false
   },
   "outputs": [
    {
     "name": "stdout",
     "output_type": "stream",
     "text": [
      "25\n"
     ]
    }
   ],
   "source": [
    "# пример 4\n",
    "def foo():\n",
    "    global x\n",
    "    x = 25\n",
    "\n",
    "x = 10\n",
    "foo()\n",
    "print(x)"
   ]
  },
  {
   "cell_type": "markdown",
   "metadata": {},
   "source": [
    "# Значения по-умолчанию\n",
    "При объявлении функции можно задать значения по умолчанию для одного или более параметров. Таким образом создаётся функция, которая может быть вызвана с меньшим количеством параметров, чем в её определении:"
   ]
  },
  {
   "cell_type": "code",
   "execution_count": 21,
   "metadata": {
    "collapsed": false
   },
   "outputs": [
    {
     "name": "stdout",
     "output_type": "stream",
     "text": [
      "15\n",
      "33\n",
      "60\n"
     ]
    }
   ],
   "source": [
    "def foo(a, b=2, c=3):\n",
    "    return a + b + c\n",
    "\n",
    "print(foo(10))\n",
    "print(foo(10, 20))\n",
    "print(foo(10, 20, 30))"
   ]
  },
  {
   "cell_type": "markdown",
   "metadata": {},
   "source": [
    "Значения по умолчанию вычисляются в месте определения функции, в *определяющей* области видимости:"
   ]
  },
  {
   "cell_type": "code",
   "execution_count": 22,
   "metadata": {
    "collapsed": false
   },
   "outputs": [
    {
     "name": "stdout",
     "output_type": "stream",
     "text": [
      "5\n"
     ]
    }
   ],
   "source": [
    "i = 5\n",
    "\n",
    "def f(arg=i):\n",
    "    print(arg)\n",
    "\n",
    "i = 6\n",
    "f()"
   ]
  },
  {
   "cell_type": "markdown",
   "metadata": {},
   "source": [
    "Значение по умолчанию вычисляется **только один раз**. Это особенно важно помнить, когда значением по умолчанию является изменяемый объект, такой как список или словарь."
   ]
  },
  {
   "cell_type": "code",
   "execution_count": 26,
   "metadata": {
    "collapsed": false
   },
   "outputs": [
    {
     "name": "stdout",
     "output_type": "stream",
     "text": [
      "[1]\n",
      "[1, 2]\n",
      "[1, 2, 3]\n"
     ]
    }
   ],
   "source": [
    "def foo(a, lst=[]):\n",
    "    lst.append(a)\n",
    "    return lst\n",
    "\n",
    "print(foo(1))\n",
    "print(foo(2))\n",
    "print(foo(3))"
   ]
  },
  {
   "cell_type": "markdown",
   "metadata": {},
   "source": [
    "Если все же нужно использовать именно изменяемый объект, можно добавить параметр, равный `None`, и внутри функции создать нужный изменяемый объект."
   ]
  },
  {
   "cell_type": "code",
   "execution_count": 24,
   "metadata": {
    "collapsed": false
   },
   "outputs": [
    {
     "name": "stdout",
     "output_type": "stream",
     "text": [
      "[1]\n",
      "[2]\n",
      "[3]\n"
     ]
    }
   ],
   "source": [
    "def foo(a, lst=None):\n",
    "    if lst is None:\n",
    "        lst = []\n",
    "    lst.append(a)\n",
    "    return lst\n",
    "\n",
    "print(foo(1))\n",
    "print(foo(2))\n",
    "print(foo(3))"
   ]
  },
  {
   "cell_type": "markdown",
   "metadata": {},
   "source": [
    "# Именованные параметры\n",
    "Функции также могут быть вызваны с использованием именованных параметров (`keyword arguments`) в форме `key = value`"
   ]
  },
  {
   "cell_type": "code",
   "execution_count": 27,
   "metadata": {
    "collapsed": false
   },
   "outputs": [
    {
     "name": "stdout",
     "output_type": "stream",
     "text": [
      "46\n",
      "8\n",
      "23\n",
      "0\n",
      "6\n"
     ]
    }
   ],
   "source": [
    "def foo(a=1, b=2, c=3):\n",
    "    return a + b + c\n",
    "\n",
    "print(foo(b=42))\n",
    "print(foo(c=5))\n",
    "print(foo(a=10, b=10))\n",
    "print(foo(a=0, b=0, c=0))\n",
    "\n",
    "print(foo())"
   ]
  },
  {
   "cell_type": "markdown",
   "metadata": {},
   "source": [
    "При вызове функции, список параметров может содержать любое количество позиционных (`positional`) параметров, за которыми может следовать любое количество именованных. Указывать сначала именованые, а потом позиционные параметры (или смешивать их) - нельзя.\n",
    "\n",
    "Имена формальных параметров, совпадающие с именами позиционных параметров, не могут использоваться в качестве именованных в одном и том же вызове."
   ]
  },
  {
   "cell_type": "code",
   "execution_count": 28,
   "metadata": {
    "collapsed": true
   },
   "outputs": [],
   "source": [
    "def foo(a=1, b=2, c=3):\n",
    "    return a + b + c"
   ]
  },
  {
   "cell_type": "code",
   "execution_count": 29,
   "metadata": {
    "collapsed": false
   },
   "outputs": [
    {
     "ename": "SyntaxError",
     "evalue": "positional argument follows keyword argument (<ipython-input-29-4e0a8d648346>, line 1)",
     "output_type": "error",
     "traceback": [
      "\u001b[0;36m  File \u001b[0;32m\"<ipython-input-29-4e0a8d648346>\"\u001b[0;36m, line \u001b[0;32m1\u001b[0m\n\u001b[0;31m    foo(a=1, 2)\u001b[0m\n\u001b[0m            ^\u001b[0m\n\u001b[0;31mSyntaxError\u001b[0m\u001b[0;31m:\u001b[0m positional argument follows keyword argument\n"
     ]
    }
   ],
   "source": [
    "foo(a=1, 2)"
   ]
  },
  {
   "cell_type": "code",
   "execution_count": 30,
   "metadata": {
    "collapsed": false
   },
   "outputs": [
    {
     "ename": "SyntaxError",
     "evalue": "positional argument follows keyword argument (<ipython-input-30-9b7403235f32>, line 1)",
     "output_type": "error",
     "traceback": [
      "\u001b[0;36m  File \u001b[0;32m\"<ipython-input-30-9b7403235f32>\"\u001b[0;36m, line \u001b[0;32m1\u001b[0m\n\u001b[0;31m    foo(a=1, 2, b=2)\u001b[0m\n\u001b[0m            ^\u001b[0m\n\u001b[0;31mSyntaxError\u001b[0m\u001b[0;31m:\u001b[0m positional argument follows keyword argument\n"
     ]
    }
   ],
   "source": [
    "foo(a=1, 2, b=2)"
   ]
  },
  {
   "cell_type": "code",
   "execution_count": 32,
   "metadata": {
    "collapsed": false
   },
   "outputs": [
    {
     "ename": "TypeError",
     "evalue": "foo() got multiple values for argument 'a'",
     "output_type": "error",
     "traceback": [
      "\u001b[0;31m---------------------------------------------------------------------------\u001b[0m",
      "\u001b[0;31mTypeError\u001b[0m                                 Traceback (most recent call last)",
      "\u001b[0;32m<ipython-input-32-548de668fb94>\u001b[0m in \u001b[0;36m<module>\u001b[0;34m()\u001b[0m\n\u001b[0;32m----> 1\u001b[0;31m \u001b[0mfoo\u001b[0m\u001b[0;34m(\u001b[0m\u001b[0;36m1\u001b[0m\u001b[0;34m,\u001b[0m \u001b[0ma\u001b[0m\u001b[0;34m=\u001b[0m\u001b[0;36m1\u001b[0m\u001b[0;34m)\u001b[0m\u001b[0;34m\u001b[0m\u001b[0m\n\u001b[0m",
      "\u001b[0;31mTypeError\u001b[0m: foo() got multiple values for argument 'a'"
     ]
    }
   ],
   "source": [
    "foo(1, a=1)"
   ]
  },
  {
   "cell_type": "code",
   "execution_count": 35,
   "metadata": {
    "collapsed": false
   },
   "outputs": [
    {
     "name": "stdout",
     "output_type": "stream",
     "text": [
      "a= 25\n",
      "b= 5\n",
      "c= 3\n",
      "a= 32\n",
      "b= 2\n",
      "c= 10\n"
     ]
    }
   ],
   "source": [
    "def foo(a=1, b=2, c=3):\n",
    "    print(\"a=\", a)\n",
    "    print(\"b=\", b)\n",
    "    print(\"c=\", c)\n",
    "\n",
    "foo(25, b=5)\n",
    "foo(32, c=10)"
   ]
  },
  {
   "cell_type": "markdown",
   "metadata": {},
   "source": [
    "# Списки параметров произвольной длины\n",
    "Можно указать, что функция может быть вызвана с произвольным числом аргументов (`*args`), при этом сами параметры будут обернуты в *кортеж*. \n",
    "\n",
    "В начале может быть указано 0 или больше обычных позиционных параметров. Все формальные параметры, которые следуют за параметром `*args`, могут быть *только именованными*."
   ]
  },
  {
   "cell_type": "code",
   "execution_count": 36,
   "metadata": {
    "collapsed": false
   },
   "outputs": [
    {
     "name": "stdout",
     "output_type": "stream",
     "text": [
      "Hello, John!\n",
      "Hello, John Doe!\n",
      "Hello, John William Doe!\n"
     ]
    }
   ],
   "source": [
    "def say_hello(*args):\n",
    "    print(\"Hello, \" + \" \".join(args) + \"!\")\n",
    "\n",
    "say_hello(\"John\")\n",
    "say_hello(\"John\", \"Doe\")\n",
    "say_hello(\"John\", \"William\", \"Doe\")"
   ]
  },
  {
   "cell_type": "code",
   "execution_count": 37,
   "metadata": {
    "collapsed": false,
    "scrolled": true
   },
   "outputs": [
    {
     "name": "stdout",
     "output_type": "stream",
     "text": [
      "2\n",
      "15\n"
     ]
    }
   ],
   "source": [
    "def foo(x, *args):\n",
    "    return x + sum(args)\n",
    "\n",
    "print(foo(2))\n",
    "print(foo(1, 2, 3, 4, 5))"
   ]
  },
  {
   "cell_type": "code",
   "execution_count": 40,
   "metadata": {
    "collapsed": false
   },
   "outputs": [
    {
     "name": "stdout",
     "output_type": "stream",
     "text": [
      "1\n",
      "(2, 3, 4)\n",
      "10\n"
     ]
    }
   ],
   "source": [
    "def foo(x, *args, y):\n",
    "    print(x)\n",
    "    print(args)\n",
    "    print(y)\n",
    "foo(1, 2, 3, 4, y=10)"
   ]
  },
  {
   "cell_type": "code",
   "execution_count": 42,
   "metadata": {
    "collapsed": false
   },
   "outputs": [
    {
     "name": "stdout",
     "output_type": "stream",
     "text": [
      "()\n",
      "<class 'tuple'>\n"
     ]
    }
   ],
   "source": [
    "def foo(*args):\n",
    "    print(args)\n",
    "    print(type(args))\n",
    "foo()"
   ]
  },
  {
   "cell_type": "markdown",
   "metadata": {},
   "source": [
    "# Распаковка списков параметров\n",
    "Иногда параметры, которые уже содержатся в списке или в кортеже, должны быть распакованы для вызова функции, требующей отдельных позиционных параметров. Пример такой функции - `range`. Такое может быть полезно, если вы пишете функцию, которая принимает произвольный список параметров, который нужно передать в другую функцию."
   ]
  },
  {
   "cell_type": "code",
   "execution_count": 43,
   "metadata": {
    "collapsed": false
   },
   "outputs": [
    {
     "name": "stdout",
     "output_type": "stream",
     "text": [
      "[1, 3, 5, 7, 9, 11, 13]\n"
     ]
    }
   ],
   "source": [
    "print( list(range(1, 15, 2)) )"
   ]
  },
  {
   "cell_type": "code",
   "execution_count": 44,
   "metadata": {
    "collapsed": false
   },
   "outputs": [
    {
     "name": "stdout",
     "output_type": "stream",
     "text": [
      "[1, 3, 5, 7, 9, 11, 13]\n"
     ]
    }
   ],
   "source": [
    "args = (1, 15, 2)\n",
    "print( list(range(*args)) )"
   ]
  },
  {
   "cell_type": "markdown",
   "metadata": {},
   "source": [
    "# Произвольный набор именованных параметров\n",
    "Можно объявить функцию так, чтоб она могла быть вызвана с произвольным числом именованных аргументов (`**kwargs`). При этом сами параметры будут обернуты в *словарь*. "
   ]
  },
  {
   "cell_type": "code",
   "execution_count": 45,
   "metadata": {
    "collapsed": false
   },
   "outputs": [
    {
     "name": "stdout",
     "output_type": "stream",
     "text": [
      "{}\n",
      "{'a': 1, 'b': 2}\n",
      "{'second': 20, 'first': 10}\n"
     ]
    }
   ],
   "source": [
    "def foo(**kw):\n",
    "    print(kw)\n",
    "\n",
    "foo()\n",
    "foo(a=1, b=2)\n",
    "foo(first=10, second=20)"
   ]
  },
  {
   "cell_type": "markdown",
   "metadata": {},
   "source": [
    "# Использование функций как значений\n",
    "\n",
    "В Python функции являются [объектами высшего порядка](https://ru.wikipedia.org/wiki/Функция_высшего_порядка) - т.е. функцию можно присвоить переменной, или передать в другую функцию как аргумент."
   ]
  },
  {
   "cell_type": "code",
   "execution_count": 46,
   "metadata": {
    "collapsed": false
   },
   "outputs": [
    {
     "name": "stdout",
     "output_type": "stream",
     "text": [
      "3\n"
     ]
    }
   ],
   "source": [
    "def foo(x, y):\n",
    "    return x + y\n",
    "\n",
    "f = foo\n",
    "res = f(1, 2)\n",
    "print(res)"
   ]
  },
  {
   "cell_type": "code",
   "execution_count": 48,
   "metadata": {
    "collapsed": false
   },
   "outputs": [
    {
     "name": "stdout",
     "output_type": "stream",
     "text": [
      "64\n"
     ]
    }
   ],
   "source": [
    "def foo(x):\n",
    "    return x + 3\n",
    "\n",
    "def bar(func, x):\n",
    "    return func(x) * func(x)\n",
    "\n",
    "res = bar(foo, 5)\n",
    "print(res)"
   ]
  },
  {
   "cell_type": "markdown",
   "metadata": {},
   "source": [
    "# `lambda` функции\n",
    "`lambda` функции это небольшие безымянные функции, которые могут быть объявлены непосредственно там, где их нужно использовать.\n",
    "\n",
    "Объявление `lambda` функции начинается с ключевого слова `lambda`, за которым идет список формальных параметров (требования такие же, как и к обычным функциям), а дальше через двоеточие - оператор для вычисления возвращаемого значения (т.е. то, что в обычной функции было бы записано после `return`).\n",
    "\n",
    "Тело `lambda` функции может содержать только один оператор."
   ]
  },
  {
   "cell_type": "code",
   "execution_count": 49,
   "metadata": {
    "collapsed": false
   },
   "outputs": [
    {
     "name": "stdout",
     "output_type": "stream",
     "text": [
      "100\n"
     ]
    }
   ],
   "source": [
    "foo = lambda x: x + 3\n",
    "\n",
    "def bar(func, x):\n",
    "    return func(x) * func(x)\n",
    "\n",
    "res = bar(foo, 7)\n",
    "print(res)"
   ]
  },
  {
   "cell_type": "code",
   "execution_count": 51,
   "metadata": {
    "collapsed": false
   },
   "outputs": [
    {
     "name": "stdout",
     "output_type": "stream",
     "text": [
      "64\n"
     ]
    }
   ],
   "source": [
    "def bar(func, x):\n",
    "    return func(x) * func(x)\n",
    "\n",
    "res = bar(lambda x: x + 3, 5)\n",
    "print(res)"
   ]
  },
  {
   "cell_type": "markdown",
   "metadata": {},
   "source": [
    "# Несколько примеров\n",
    "`lambda` функции очень удобно использовать для того, чтоб писать обработку объектов-контейнеров (таких как списки или словари) в функциональном стиле (с помощью функций `map`, `filter` и `functools.reduce`)."
   ]
  },
  {
   "cell_type": "code",
   "execution_count": 52,
   "metadata": {
    "collapsed": true
   },
   "outputs": [],
   "source": [
    "lst = [1, 3, 5, 2, 4, 2, 5, 6]"
   ]
  },
  {
   "cell_type": "code",
   "execution_count": 53,
   "metadata": {
    "collapsed": false
   },
   "outputs": [
    {
     "name": "stdout",
     "output_type": "stream",
     "text": [
      "[2, 4, 2, 6]\n"
     ]
    }
   ],
   "source": [
    "# вернуть список, состоящий только из четных элементов\n",
    "sub_list = list(filter(lambda x: not x % 2, lst))\n",
    "print(sub_list)"
   ]
  },
  {
   "cell_type": "code",
   "execution_count": 55,
   "metadata": {
    "collapsed": false
   },
   "outputs": [
    {
     "name": "stdout",
     "output_type": "stream",
     "text": [
      "14\n"
     ]
    }
   ],
   "source": [
    "# посчитать сумму четных элементов\n",
    "import functools\n",
    "sum = functools.reduce(\n",
    "    lambda a, b: a + b,\n",
    "    filter(lambda x: not x % 2, lst))\n",
    "print(sum)"
   ]
  },
  {
   "cell_type": "code",
   "execution_count": 56,
   "metadata": {
    "collapsed": false
   },
   "outputs": [
    {
     "name": "stdout",
     "output_type": "stream",
     "text": [
      "4\n"
     ]
    }
   ],
   "source": [
    "# посчитать количество четных элементов\n",
    "import functools\n",
    "count = functools.reduce(\n",
    "    lambda a, b: a + b,\n",
    "    map(lambda x: 1 if not x % 2 else 0, lst)\n",
    ")\n",
    "print(count)"
   ]
  },
  {
   "cell_type": "markdown",
   "metadata": {},
   "source": [
    "Статья на эту тему: https://habrahabr.ru/post/257903/"
   ]
  },
  {
   "cell_type": "markdown",
   "metadata": {
    "collapsed": true
   },
   "source": [
    "# Дополнительные материалы\n",
    "1. https://ru.wikibooks.org/wiki/Python/Учебник_Python_3.1 - разделы 5.6 - 5.8\n",
    "2. https://docs.python.org/3/tutorial/ - разделы 4.7 - 4.8"
   ]
  }
 ],
 "metadata": {
  "kernelspec": {
   "display_name": "Python 3",
   "language": "python",
   "name": "python3"
  },
  "language_info": {
   "codemirror_mode": {
    "name": "ipython",
    "version": 3
   },
   "file_extension": ".py",
   "mimetype": "text/x-python",
   "name": "python",
   "nbconvert_exporter": "python",
   "pygments_lexer": "ipython3",
   "version": "3.5.2"
  }
 },
 "nbformat": 4,
 "nbformat_minor": 1
}
