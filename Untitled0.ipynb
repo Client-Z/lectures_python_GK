{
 "cells": [
  {
   "cell_type": "code",
   "execution_count": 6,
   "metadata": {
    "collapsed": false
   },
   "outputs": [
    {
     "name": "stdout",
     "output_type": "stream",
     "text": [
      "Enter length between rows: 2\n",
      "Enter length between tears: 1\n",
      "Enter free length laces: 3\n",
      "Enter quantity tears: 4\n",
      "Length tears:  26\n"
     ]
    }
   ],
   "source": [
    "len_rows = int(input('Enter length between rows: '))\n",
    "len_tears = int(input('Enter length between tears: '))\n",
    "free_length = int(input('Enter free length laces: '))\n",
    "quantity_tears = int(input('Enter quantity tears: '))\n",
    "\n",
    "len_tears = len_tears * (quantity_tears - 1) * 2\n",
    "len_rows = ((len_rows * 2) * quantity_tears) - len_rows\n",
    "length_laces = len_rows + len_tears + free_length * 2\n",
    "\n",
    "print('Length tears: ', length_laces)"
   ]
  },
  {
   "cell_type": "code",
   "execution_count": 58,
   "metadata": {
    "collapsed": false
   },
   "outputs": [
    {
     "name": "stdout",
     "output_type": "stream",
     "text": [
      "Celsius: 24 Fahrenheit: 0\n",
      "Celsius: 10 Fahrenheit: 50.0\n",
      "Celsius: 37.77777777777778 Fahrenheit: 100\n"
     ]
    }
   ],
   "source": [
    "class Temperature:\n",
    "\t\"\"\"docstring for Temperature\"\"\"\n",
    "\tdef __init__(self, celsius):\n",
    "\t\tself.__celsius = celsius\n",
    "\t\tself.__fahrenheit = 0\n",
    "        \n",
    "\t@property\n",
    "\tdef celsius(self):\n",
    "\t\treturn self.__celsius\n",
    "\n",
    "\t@celsius.setter\n",
    "\tdef celsius(self, value):\n",
    "\t\tself.__celsius = value\n",
    "\t\tself.__fahrenheit = (value*(9/5)) + 32\n",
    "        \n",
    "\t@property\n",
    "\tdef fahrenheit(self):\n",
    "\t\treturn self.__fahrenheit\n",
    "\n",
    "\t@fahrenheit.setter\n",
    "\tdef fahrenheit(self, value):\n",
    "\t\tself.__fahrenheit = value\n",
    "\t\tself.__celsius = (value - 32)*(5/9)\n",
    "\n",
    "\n",
    "\tdef __str__(self):\n",
    "\t\treturn 'Celsius: {0} Fahrenheit: {1}'.format(self.celsius, self.fahrenheit)\n",
    "\n",
    "house = Temperature(24)\n",
    "print(house)\n",
    "house.celsius = 10\n",
    "print(house)\n",
    "house.fahrenheit = 100\n",
    "print(house)"
   ]
  },
  {
   "cell_type": "code",
   "execution_count": null,
   "metadata": {
    "collapsed": true
   },
   "outputs": [],
   "source": []
  }
 ],
 "metadata": {
  "kernelspec": {
   "display_name": "Python 3",
   "language": "python",
   "name": "python3"
  },
  "language_info": {
   "codemirror_mode": {
    "name": "ipython",
    "version": 3
   },
   "file_extension": ".py",
   "mimetype": "text/x-python",
   "name": "python",
   "nbconvert_exporter": "python",
   "pygments_lexer": "ipython3",
   "version": "3.5.2"
  }
 },
 "nbformat": 4,
 "nbformat_minor": 1
}
