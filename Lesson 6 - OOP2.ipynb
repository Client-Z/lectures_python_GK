{
 "cells": [
  {
   "cell_type": "markdown",
   "metadata": {},
   "source": [
    "# Наследование"
   ]
  },
  {
   "cell_type": "markdown",
   "metadata": {},
   "source": [
    "** Наследование ** — механизм языка, позволяющий описать новый класс на основе уже существующего (родительского, базового) класса.\n",
    "* Класс-потомок может добавить собственные методы и свойства, а также пользоваться родительскими методами и свойствами.\n",
    "* Позволяет строить иерархии классов.\n",
    "* Является одним из основных принципов объектно-ориентированного\n",
    "программирования."
   ]
  },
  {
   "cell_type": "markdown",
   "metadata": {},
   "source": [
    "В версиях до 2.2 некоторые объектно-ориентированные возможности Python были заметно ограничены. Начиная с версии 2.2, объектная система Python была существенно переработана и дополнена.\n",
    "* В целях совместимости с существующим кодом в Python 2 существуют две системы типов: классы нового типа (new-style classes) и классы старого типа (old-style classes, classic classes).\n",
    "* Для создания класса нового типа следует унаследовать его от любого другого класса нового типа. Все стандартные классы являются классами нового типа. Базовым из них является класс object.\n",
    "* Если в Python 2 не указывать базовый класс или унаследовать его от другого класса старого типа, то данный класс является классом старого типа.\n",
    "\n",
    "_Классы старого типа нужны только для обратной совместимости. В новом коде следует использовать *только классы нового типа*._"
   ]
  },
  {
   "cell_type": "markdown",
   "metadata": {},
   "source": [
    "### В Python 3 все классы являются классами нового типа и наследуются по умолчанию от object."
   ]
  },
  {
   "cell_type": "code",
   "execution_count": 3,
   "metadata": {
    "collapsed": false
   },
   "outputs": [
    {
     "name": "stdout",
     "output_type": "stream",
     "text": [
      "Hello\n",
      "Hello world!\n",
      "Hello world  and Evgen!\n"
     ]
    }
   ],
   "source": [
    "class Base():\n",
    "    def __init__(self):\n",
    "        self.greeting = \"Hello\"\n",
    "        \n",
    "    def method(self):\n",
    "        print(self.greeting)\n",
    "        \n",
    "class Inh(Base):\n",
    "    pass\n",
    "\n",
    "class OtherInh(Base):\n",
    "    def __init__(self, greeting):\n",
    "        self.greeting = greeting\n",
    "        \n",
    "        \n",
    "class AndOtherInh(Base):\n",
    "    def __init__(self, greeting):\n",
    "        self.greeting = greeting\n",
    "\n",
    "    def method(self, name):\n",
    "        print('{0} and {1}!'.format(self.greeting, name))\n",
    "\n",
    "if __name__ == '__main__':\n",
    "    inh = Inh()\n",
    "    inh.method()\n",
    "    \n",
    "    other_inh = OtherInh(\"Hello world!\")\n",
    "    other_inh.method()\n",
    "    \n",
    "    and_other_inh = AndOtherInh(\"Hello world \")\n",
    "    and_other_inh.method(\"Evgen\")"
   ]
  },
  {
   "cell_type": "code",
   "execution_count": 4,
   "metadata": {
    "collapsed": false
   },
   "outputs": [
    {
     "name": "stdout",
     "output_type": "stream",
     "text": [
      "**********\n",
      "**********\n",
      "**********\n",
      "**********\n",
      "**********\n",
      "**********\n",
      "**********\n",
      "**********\n",
      "**********\n",
      "**********\n",
      "\n",
      "\n",
      "*\n",
      "**\n",
      "***\n",
      "****\n"
     ]
    }
   ],
   "source": [
    "class Figure(object):\n",
    "    def __init__(self, side):\n",
    "        self.side = side\n",
    "\n",
    "\n",
    "class Square(Figure):\n",
    "    def draw(self):\n",
    "        for i in range(self.side):\n",
    "            print('*' * self.side)\n",
    "\n",
    "\n",
    "class Triangle(Figure):\n",
    "    def draw(self):\n",
    "        for i in range(self.side):\n",
    "            print('*' * i)\n",
    "\n",
    "\n",
    "if __name__ == '__main__':\n",
    "    square = Square(10)\n",
    "    square.draw()\n",
    "\n",
    "    print()\n",
    "\n",
    "    triangle = Triangle(5)\n",
    "    triangle.draw()"
   ]
  },
  {
   "cell_type": "markdown",
   "metadata": {},
   "source": [
    "При множественном наследовании у класса может быть более одного предка. В этом случае класс наследует методы всех предков. Достоинство такого подхода в большей гибкости, однако он может быть потенциальным источником ошибок.\n",
    "\n",
    "Список базовых классов указывается через запятую в круглых скобках после имени данного класса:\n",
    "```\n",
    "   class Pegasus(Horse, Bird):\n",
    "       pass\n",
    "```"
   ]
  },
  {
   "cell_type": "code",
   "execution_count": 5,
   "metadata": {
    "collapsed": false
   },
   "outputs": [
    {
     "name": "stdout",
     "output_type": "stream",
     "text": [
      "I am flying.\n",
      "\n",
      "I am running.\n",
      "\n",
      "I am flying.\n",
      "I am running.\n"
     ]
    }
   ],
   "source": [
    "\"\"\"\n",
    "Пример множественного наследования\n",
    "\"\"\"\n",
    "\n",
    "class Bird(object):\n",
    "    def fly(self):\n",
    "        print('I am flying.')\n",
    "\n",
    "\n",
    "class Horse(object):\n",
    "    def run(self):\n",
    "        print('I am running.')\n",
    "\n",
    "\n",
    "class Pegasus(Horse, Bird):\n",
    "    pass\n",
    "\n",
    "\n",
    "def main():\n",
    "    bird = Bird()\n",
    "    horse = Horse()\n",
    "    pegasus = Pegasus()\n",
    "\n",
    "    bird.fly()\n",
    "    # bird.run()  # ошибка\n",
    "    print()\n",
    "\n",
    "    # horse.fly()  # ошибка\n",
    "    horse.run()\n",
    "    print()\n",
    "\n",
    "    pegasus.fly()\n",
    "    pegasus.run()\n",
    "\n",
    "\n",
    "if __name__ == '__main__':\n",
    "    main()"
   ]
  },
  {
   "cell_type": "markdown",
   "metadata": {},
   "source": [
    "### Method Resolution Order\n",
    "https://en.wikipedia.org/wiki/C3_linearization"
   ]
  },
  {
   "cell_type": "code",
   "execution_count": 12,
   "metadata": {
    "collapsed": false
   },
   "outputs": [
    {
     "name": "stdout",
     "output_type": "stream",
     "text": [
      "Base:\n",
      "Base attribute\n",
      "Base method, current class is Base\n",
      "\n",
      "Child:\n",
      "Redefined attribute\n",
      "Base attribute\n"
     ]
    }
   ],
   "source": [
    "\"\"\"\n",
    "Недостатки такого подхода:\n",
    " - усложняется рефакторинг и поддержка кода (хотя эта проблема\n",
    "   решается путём использования таких IDE, как PyCharm);\n",
    " - логика кода жёстко привязана к иерархии наследования классов\n",
    "   и подвержена ошибкам, особенно при использовании множественного\n",
    "   наследования.\n",
    "\"\"\"\n",
    "\n",
    "class Base:\n",
    "    attr = 'Base attribute'\n",
    "\n",
    "    def method(self):\n",
    "        print('Base method, current class is', self.__class__.__name__)\n",
    "\n",
    "\n",
    "class Child(Base):\n",
    "    attr = 'Redefined attribute'\n",
    "\n",
    "    @staticmethod\n",
    "    def get_superclass_attr():\n",
    "        return Base.attr  # получение атрибута класса Base\n",
    "\n",
    "    \n",
    "    def get_super(self):\n",
    "        return super().attr\n",
    "    \n",
    "    def method(self):  # переопределение метода\n",
    "        Base.method(self)  # вызов метода суперкласса\n",
    "        print('Child method, current class is', self.__class__.__name__)\n",
    "\n",
    "\n",
    "def main():\n",
    "    print('Base:')\n",
    "    print(Base.attr)\n",
    "    base_instance = Base()\n",
    "    base_instance.method()\n",
    "\n",
    "    print()\n",
    "\n",
    "    print('Child:')\n",
    "    print(Child.attr)\n",
    "    print(Child.get_superclass_attr())\n",
    "    child_instance = Child()\n",
    "    child_instance.get_super()\n",
    "\n",
    "\n",
    "if __name__ == '__main__':\n",
    "    main()"
   ]
  },
  {
   "cell_type": "markdown",
   "metadata": {},
   "source": [
    "Для классов нового типа доступен другой способ, решающий описанные ранее\n",
    "проблемы. Существует специальный класс super, экземпляры которого являются\n",
    "специальными прокси-объектами, привязанными к данной иерархии классов\n",
    "и предоставляющими доступ к атрибутам следующего класса в линеаризации\n",
    "того класса, в котором был создан объект super.\n",
    "\n",
    "Таким образом, при помощи super можно получить доступ к атрибутам\n",
    "и методам суперкласса, не называя его имени, причём это будет давать\n",
    "корректные результаты даже при использовании множественного наследования.\n",
    "\n",
    "В Python 2 в качестве параметров конструктора super передаются текующий\n",
    "класс и экземпляр текущего класса. super ищет класс-предок в линеаризации\n",
    "указанного класса и все обращения к атрибутам созданного объекта отображаются\n",
    "на найденный класс, причём все методы привязаны к указанному объекту-экземпляру.\n",
    "\n",
    "Пример: ``` super(MyClass, self).method() ```\n",
    "\n",
    "В Python 3 данные параметры можно не указывать. В таком случае будут\n",
    "автоматически получены текущий класс и экземпляр. То есть, вызов\n",
    "\n",
    "``` super().method() ```\n",
    "\n",
    "эквивалентен\n",
    "\n",
    "``` super(__class__, self).method() ```"
   ]
  },
  {
   "cell_type": "code",
   "execution_count": 13,
   "metadata": {
    "collapsed": false
   },
   "outputs": [
    {
     "name": "stdout",
     "output_type": "stream",
     "text": [
      "Base:\n",
      "Base attribute\n",
      "Base method, current class is Base\n",
      "\n",
      "Child:\n",
      "Redefined attribute\n",
      "Base attribute\n",
      "Base method, current class is Child\n",
      "Child method, current class is Child\n",
      "\n"
     ]
    }
   ],
   "source": [
    "class Base(object):\n",
    "    attr = 'Base attribute'\n",
    "\n",
    "    def method(self):\n",
    "        print('Base method, current class is', self.__class__.__name__)\n",
    "\n",
    "\n",
    "class Child(Base):\n",
    "    attr = 'Redefined attribute'\n",
    "\n",
    "    def get_superclass_attr(self):\n",
    "        return super().attr  # получение атрибута класса Base\n",
    "\n",
    "    def method(self):  # переопределение метода\n",
    "        super().method()  # вызов метода суперкласса\n",
    "        print('Child method, current class is', self.__class__.__name__)\n",
    "\n",
    "\n",
    "if __name__ == '__main__':\n",
    "    print('Base:')\n",
    "    print(Base.attr)\n",
    "    base_instance = Base()\n",
    "    base_instance.method()\n",
    "\n",
    "    print()\n",
    "\n",
    "    print('Child:')\n",
    "    print(Child.attr)\n",
    "    child_instance = Child()\n",
    "    print(child_instance.get_superclass_attr())\n",
    "    child_instance.method()\n",
    "\n",
    "    print()    "
   ]
  },
  {
   "cell_type": "markdown",
   "metadata": {},
   "source": [
    "В большинстве языков программирования, в которых есть конструкция,\n",
    "аналогичная super(), она может вызвана только внутри соответсвующего\n",
    "метода подкласса, причём часто только в качестве его первого оператора\n",
    "(впрочем, это наиболее типичный сценарий её использования).\n",
    "В Python, как \"побочный эффект\" того, как работает его реализация super,\n",
    "её можно вызвать где угодно, даже за пределами класса."
   ]
  },
  {
   "cell_type": "code",
   "execution_count": 14,
   "metadata": {
    "collapsed": false
   },
   "outputs": [
    {
     "name": "stdout",
     "output_type": "stream",
     "text": [
      "Base method, current class is Child\n"
     ]
    }
   ],
   "source": [
    "super(Child, child_instance).method()"
   ]
  },
  {
   "cell_type": "code",
   "execution_count": 24,
   "metadata": {
    "collapsed": false
   },
   "outputs": [
    {
     "name": "stdout",
     "output_type": "stream",
     "text": [
      "Bird\n",
      "Can fly: True\n",
      "Can run: False\n",
      "\n",
      "Horse\n",
      "Can fly: False\n",
      "Can run: True\n",
      "\n",
      "Pegasus\n",
      "Can fly: True\n",
      "Can run: True\n",
      "\n"
     ]
    }
   ],
   "source": [
    "# -*- coding: utf-8 -*-\n",
    "\n",
    "\"\"\"\n",
    "Пример использования super при множественном наследовании\n",
    "\"\"\"\n",
    "\n",
    "\n",
    "class Animal(object):\n",
    "    def __init__(self):\n",
    "        self.can_fly = False\n",
    "        self.can_run = False\n",
    "\n",
    "    def print_abilities(self):\n",
    "        print(self.__class__.__name__)\n",
    "        print('Can fly:', self.can_fly)\n",
    "        print('Can run:', self.can_run)\n",
    "        print()\n",
    "\n",
    "\n",
    "class Bird(Animal):\n",
    "    def __init__(self):\n",
    "        super().__init__()\n",
    "        self.can_fly = True\n",
    "\n",
    "\n",
    "class Horse(Animal):\n",
    "    def __init__(self):\n",
    "        super().__init__()\n",
    "        self.can_run = True\n",
    "\n",
    "\n",
    "class Pegasus(Horse, Bird):\n",
    "    pass\n",
    "\n",
    "\n",
    "def main():\n",
    "    bird = Bird()\n",
    "    bird.print_abilities()\n",
    "\n",
    "    horse = Horse()\n",
    "    horse.print_abilities()\n",
    "\n",
    "    pegasus = Pegasus()\n",
    "    pegasus.print_abilities()\n",
    "\n",
    "\n",
    "if __name__ == '__main__':\n",
    "    main()"
   ]
  },
  {
   "cell_type": "markdown",
   "metadata": {},
   "source": [
    "** isinstance(obj, cls) ** проверяет, является ли obj экземпляром класса cls\n",
    "или класса, который является наследником класса cls"
   ]
  },
  {
   "cell_type": "code",
   "execution_count": 25,
   "metadata": {
    "collapsed": false
   },
   "outputs": [
    {
     "name": "stdout",
     "output_type": "stream",
     "text": [
      "True\n",
      "False\n",
      "True\n",
      "True\n",
      "True\n",
      "True\n",
      "False\n",
      "True\n",
      "False\n"
     ]
    }
   ],
   "source": [
    "print(isinstance(8, int))  # True\n",
    "print(isinstance('str', int))  # False\n",
    "print(isinstance(True, bool))  # True\n",
    "print(isinstance(True, int))  # True, так как bool -- подкласс int\n",
    "print(isinstance('a string', object))  # True, всё является объектами\n",
    "print(isinstance(None, object))  # True, даже None\n",
    "print(isinstance(False, str))  # False\n",
    "print(isinstance(int, type))  # True, любой класс -- объект-экземпляр метакласса type\n",
    "print(isinstance(42, type))  # False, 42 -- это не тип данных"
   ]
  },
  {
   "cell_type": "markdown",
   "metadata": {},
   "source": [
    "** issubclass(cls, base) ** проверяет, является ли класс cls наследником класса base."
   ]
  },
  {
   "cell_type": "code",
   "execution_count": 16,
   "metadata": {
    "collapsed": false
   },
   "outputs": [
    {
     "name": "stdout",
     "output_type": "stream",
     "text": [
      "True\n",
      "False\n",
      "False\n",
      "False\n",
      "True\n",
      "True\n",
      "True\n",
      "True\n"
     ]
    }
   ],
   "source": [
    "print(issubclass(bool, int))  # True\n",
    "print(issubclass(float, int))  # False\n",
    "print(issubclass(int, float))  # False\n",
    "print(issubclass(complex, type))  # False\n",
    "print(issubclass(complex, object))  # True, всё наследуется от object\n",
    "\n",
    "class Base(object):\n",
    "    pass\n",
    "\n",
    "class Child(Base):\n",
    "    pass\n",
    "\n",
    "print(issubclass(Child, Base))  # True\n",
    "print(issubclass(Base, object))  # True\n",
    "print(issubclass(Child, object))  # True по транзитивности"
   ]
  },
  {
   "cell_type": "code",
   "execution_count": null,
   "metadata": {
    "collapsed": true
   },
   "outputs": [],
   "source": []
  }
 ],
 "metadata": {
  "kernelspec": {
   "display_name": "Python 3",
   "language": "python",
   "name": "python3"
  },
  "language_info": {
   "codemirror_mode": {
    "name": "ipython",
    "version": 3
   },
   "file_extension": ".py",
   "mimetype": "text/x-python",
   "name": "python",
   "nbconvert_exporter": "python",
   "pygments_lexer": "ipython3",
   "version": "3.5.2"
  }
 },
 "nbformat": 4,
 "nbformat_minor": 0
}
