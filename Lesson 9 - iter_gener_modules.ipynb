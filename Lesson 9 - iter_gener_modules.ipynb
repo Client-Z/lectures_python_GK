{
 "cells": [
  {
   "cell_type": "markdown",
   "metadata": {},
   "source": [
    "## Итераторы и генераторы"
   ]
  },
  {
   "cell_type": "markdown",
   "metadata": {},
   "source": [
    "* Контейнер – это тип данных, который инкапсулирует в себе значения других типов.\n",
    "* Итерабельный объект (в оригинальной терминологии – существительное «iterable») – это объект, который может возвращать значения по одному за раз. Примеры: все контейнеры и последовательности (списки, строки и т.д.), файлы, а также экземпляры любых классов, в которых\n",
    "определён метод ```__iter__()``` или ```__getitem__()```.\n",
    "* Итерабельные объекты могут быть использованы внутри цикла for, а также во многих других\n",
    "случаях, когда ожидается последовательность (функции sum(), zip(), map() и т.д.).\n",
    "* Когда итерабельный объект передаётся во встроенную функцию iter(), она возвращает итератор для\n",
    "данного объекта, который позволяет один раз пройти по значениям итерабельного объекта."
   ]
  },
  {
   "cell_type": "markdown",
   "metadata": {},
   "source": [
    "### Итераторы"
   ]
  },
  {
   "cell_type": "markdown",
   "metadata": {},
   "source": [
    "* Итератор (iterator) – это объект, который представляет поток данных. Повторяемые вызовы метода ```__next__()``` (next() в Python 2) итератора или передача его встроенной функции next() возвращает последующие элементы потока.\n",
    "* Если больше не осталось данных, выбрасывается исключение StopIteration. После этого итератор исчерпан и любые последующие вызовы его метода ```__next__()``` снова генерируют исключение StopIteration.\n",
    "* Итераторы обязаны иметь метод ```__iter__```, который возвращает сам объект итератора, так что любой итератор также является итерабельным объектом и может быть использован почти везде, где принимаются итерабельные объекты."
   ]
  },
  {
   "cell_type": "code",
   "execution_count": 1,
   "metadata": {
    "collapsed": false
   },
   "outputs": [
    {
     "name": "stdout",
     "output_type": "stream",
     "text": [
      "5\n",
      "5\n"
     ]
    }
   ],
   "source": [
    "my_list = [1, 2, 5, 7, 32, 148]\n",
    "\n",
    "print(my_list[2])\n",
    "print(my_list.__getitem__(2))"
   ]
  },
  {
   "cell_type": "code",
   "execution_count": 3,
   "metadata": {
    "collapsed": false
   },
   "outputs": [
    {
     "name": "stdout",
     "output_type": "stream",
     "text": [
      "1\n",
      "2\n",
      "5\n",
      "7\n",
      "32\n",
      "148\n"
     ]
    },
    {
     "ename": "StopIteration",
     "evalue": "",
     "output_type": "error",
     "traceback": [
      "\u001b[0;31m---------------------------------------------------------------------------\u001b[0m",
      "\u001b[0;31mStopIteration\u001b[0m                             Traceback (most recent call last)",
      "\u001b[0;32m<ipython-input-3-fb8354075b78>\u001b[0m in \u001b[0;36m<module>\u001b[0;34m()\u001b[0m\n\u001b[1;32m      7\u001b[0m \u001b[0mprint\u001b[0m\u001b[0;34m(\u001b[0m\u001b[0mnext\u001b[0m\u001b[0;34m(\u001b[0m\u001b[0miterator\u001b[0m\u001b[0;34m)\u001b[0m\u001b[0;34m)\u001b[0m\u001b[0;34m\u001b[0m\u001b[0m\n\u001b[1;32m      8\u001b[0m \u001b[0mprint\u001b[0m\u001b[0;34m(\u001b[0m\u001b[0mnext\u001b[0m\u001b[0;34m(\u001b[0m\u001b[0miterator\u001b[0m\u001b[0;34m)\u001b[0m\u001b[0;34m)\u001b[0m\u001b[0;34m\u001b[0m\u001b[0m\n\u001b[0;32m----> 9\u001b[0;31m \u001b[0mprint\u001b[0m\u001b[0;34m(\u001b[0m\u001b[0mnext\u001b[0m\u001b[0;34m(\u001b[0m\u001b[0miterator\u001b[0m\u001b[0;34m)\u001b[0m\u001b[0;34m)\u001b[0m\u001b[0;34m\u001b[0m\u001b[0m\n\u001b[0m",
      "\u001b[0;31mStopIteration\u001b[0m: "
     ]
    }
   ],
   "source": [
    "iterator = iter(my_list)\n",
    "\n",
    "print(next(iterator))\n",
    "print(next(iterator))\n",
    "print(next(iterator))\n",
    "print(next(iterator))\n",
    "print(next(iterator))\n",
    "print(next(iterator))\n",
    "print(next(iterator))"
   ]
  },
  {
   "cell_type": "code",
   "execution_count": 1,
   "metadata": {
    "collapsed": false
   },
   "outputs": [
    {
     "name": "stdout",
     "output_type": "stream",
     "text": [
      "iterable[0] = 0\n",
      "iterable[3] = 6\n",
      "\n",
      "0\n",
      "2\n",
      "4\n",
      "6\n",
      "8\n"
     ]
    }
   ],
   "source": [
    "class SimpleIterable(object):\n",
    "    \"\"\"Класс итерабельного объекта с методом __getitem__\"\"\"\n",
    "\n",
    "    def __getitem__(self, index):\n",
    "        if 0 <= index < 5:\n",
    "            return index * 2\n",
    "        else:\n",
    "            raise IndexError('iterable index out of range')\n",
    "\n",
    "\n",
    "# Создание объекта\n",
    "iterable = SimpleIterable()\n",
    "\n",
    "# Вывод некоторых значений\n",
    "print('iterable[0] =', iterable[0])\n",
    "print('iterable[3] =', iterable[3])\n",
    "print()\n",
    "\n",
    "# Итерирование\n",
    "for i in iterable:\n",
    "    print(i)"
   ]
  },
  {
   "cell_type": "markdown",
   "metadata": {},
   "source": [
    "### Генераторы"
   ]
  },
  {
   "cell_type": "markdown",
   "metadata": {},
   "source": [
    "* Функция-генератор (generator function) – это функция, которая возвращает специальный итератор генератора (generator iterator) (также объект-генератор – generator object). Она характеризуется наличием ключевого слова yield внутри функции.\n",
    "* Термин генератор (generator), в зависимости от контекста, может означать либо функцию-генератор, либо итератор генератора (чаще всего, последнее).\n",
    "* Методы ```__iter__``` и ```__next__``` у генераторов создаются автоматически.\n",
    "* yield замораживает состояние функции-генератора и возвращает текущее значение. После следующего\n",
    "вызова ```__next__()``` функция-генератор продолжает своё выполнение с того места, где она была\n",
    "приостановлена.\n",
    "* Когда выполнение функции-генераторы завершается (при помощи ключевого слова return или достижения\n",
    "конца функции), возникает исключение StopIteration."
   ]
  },
  {
   "cell_type": "code",
   "execution_count": 12,
   "metadata": {
    "collapsed": false
   },
   "outputs": [
    {
     "data": {
      "text/plain": [
       "<generator object gen at 0x7f84183d6258>"
      ]
     },
     "execution_count": 12,
     "metadata": {},
     "output_type": "execute_result"
    }
   ],
   "source": [
    "def gen():\n",
    "    yield print(\"Hello\")\n",
    "    yield print(\"Wold\")\n",
    "    \n",
    "gen()"
   ]
  },
  {
   "cell_type": "code",
   "execution_count": 19,
   "metadata": {
    "collapsed": false
   },
   "outputs": [
    {
     "data": {
      "text/plain": [
       "['__class__',\n",
       " '__del__',\n",
       " '__delattr__',\n",
       " '__dir__',\n",
       " '__doc__',\n",
       " '__eq__',\n",
       " '__format__',\n",
       " '__ge__',\n",
       " '__getattribute__',\n",
       " '__gt__',\n",
       " '__hash__',\n",
       " '__init__',\n",
       " '__iter__',\n",
       " '__le__',\n",
       " '__lt__',\n",
       " '__name__',\n",
       " '__ne__',\n",
       " '__new__',\n",
       " '__next__',\n",
       " '__qualname__',\n",
       " '__reduce__',\n",
       " '__reduce_ex__',\n",
       " '__repr__',\n",
       " '__setattr__',\n",
       " '__sizeof__',\n",
       " '__str__',\n",
       " '__subclasshook__',\n",
       " 'close',\n",
       " 'gi_code',\n",
       " 'gi_frame',\n",
       " 'gi_running',\n",
       " 'gi_yieldfrom',\n",
       " 'send',\n",
       " 'throw']"
      ]
     },
     "execution_count": 19,
     "metadata": {},
     "output_type": "execute_result"
    }
   ],
   "source": [
    "dir(gen())"
   ]
  },
  {
   "cell_type": "code",
   "execution_count": 20,
   "metadata": {
    "collapsed": true
   },
   "outputs": [],
   "source": [
    "g = gen()"
   ]
  },
  {
   "cell_type": "code",
   "execution_count": 21,
   "metadata": {
    "collapsed": false
   },
   "outputs": [
    {
     "data": {
      "text/plain": [
       "<generator object gen at 0x105b4a518>"
      ]
     },
     "execution_count": 21,
     "metadata": {},
     "output_type": "execute_result"
    }
   ],
   "source": [
    "g"
   ]
  },
  {
   "cell_type": "code",
   "execution_count": 24,
   "metadata": {
    "collapsed": false
   },
   "outputs": [
    {
     "ename": "StopIteration",
     "evalue": "",
     "output_type": "error",
     "traceback": [
      "\u001b[0;31m---------------------------------------------------------------------------\u001b[0m",
      "\u001b[0;31mStopIteration\u001b[0m                             Traceback (most recent call last)",
      "\u001b[0;32m<ipython-input-24-5f315c5de15b>\u001b[0m in \u001b[0;36m<module>\u001b[0;34m()\u001b[0m\n\u001b[0;32m----> 1\u001b[0;31m \u001b[0mnext\u001b[0m\u001b[0;34m(\u001b[0m\u001b[0mg\u001b[0m\u001b[0;34m)\u001b[0m\u001b[0;34m\u001b[0m\u001b[0m\n\u001b[0m",
      "\u001b[0;31mStopIteration\u001b[0m: "
     ]
    }
   ],
   "source": [
    "next(g)"
   ]
  },
  {
   "cell_type": "markdown",
   "metadata": {},
   "source": [
    "### Выражения-генераторы\n",
    "Некоторые простые генераторы могут быть записаны в виде выражения. Они выглядят как выражение, содержащее некоторые переменные, после которого одно или несколько ключевых слов for, задающих, какие значения должны принимать данные переменные (синтаксис соответствует заголовку цикла for), и ноль или несколько условий, фильтрующих генерируемые значения (синтаксис соответствует заголовку оператора if). Такие выражения называются выражениями-генераторами (generator expressions)."
   ]
  },
  {
   "cell_type": "code",
   "execution_count": 26,
   "metadata": {
    "collapsed": false
   },
   "outputs": [
    {
     "name": "stdout",
     "output_type": "stream",
     "text": [
      "4\n",
      "5\n",
      "6\n",
      "9\n",
      "10\n",
      "11\n",
      "16\n",
      "17\n",
      "18\n",
      "25\n",
      "26\n",
      "27\n",
      "=======================\n",
      "4\n",
      "5\n",
      "6\n",
      "9\n",
      "10\n",
      "11\n",
      "16\n",
      "17\n",
      "18\n",
      "25\n",
      "26\n",
      "27\n",
      "\n",
      "20\n"
     ]
    }
   ],
   "source": [
    "def generator():\n",
    "    for x in range(2,7):\n",
    "        for y in range(3):\n",
    "            if x != 6:\n",
    "                yield x ** 2 + y\n",
    "                \n",
    "for number in generator():\n",
    "    print(number)\n",
    "    \n",
    "print(\"=======================\")\n",
    "generator = (x ** 2 + y for x in range(2, 7) for y in range(3) if x != 6)\n",
    "for number in generator:\n",
    "    print(number)\n",
    "\n",
    "print()\n",
    "\n",
    "print(sum(2 * x for x in range(5)))"
   ]
  },
  {
   "cell_type": "markdown",
   "metadata": {},
   "source": [
    "В Python 3 существуют так называемые подгенераторы (__subgenerators__). Если в функции-генераторе встречается пара ключевых слов yield from, после которых следует объект-генератор, то данный генератор делегирует доступ к подгенератору, пока он не завершится (не закончатся его значения), после чего продолжает своё исполнение.\n",
    "```\n",
    "                    def generator():\n",
    "                        ...\n",
    "                         yield from subgenerator()\n",
    "                         ...\n",
    "```"
   ]
  },
  {
   "cell_type": "code",
   "execution_count": 26,
   "metadata": {
    "collapsed": false
   },
   "outputs": [
    {
     "name": "stdout",
     "output_type": "stream",
     "text": [
      "0\n",
      "2\n",
      "4\n",
      "6\n",
      "8\n",
      "10\n",
      "12\n",
      "14\n",
      "16\n",
      "18\n",
      "end\n"
     ]
    }
   ],
   "source": [
    "def generator():\n",
    "    yield from (2 * x for x in range(10))\n",
    "    yield \"end\"\n",
    "    \n",
    "for value in generator():\n",
    "    print(value)"
   ]
  },
  {
   "cell_type": "code",
   "execution_count": 29,
   "metadata": {
    "collapsed": false
   },
   "outputs": [
    {
     "name": "stdout",
     "output_type": "stream",
     "text": [
      "Got data: 66\n",
      "Total count: 1\n",
      "Average: 66.0\n",
      "\n",
      "Got data: 4\n",
      "Total count: 2\n",
      "Average: 35.0\n",
      "\n",
      "Got data: 0\n",
      "Total count: 3\n",
      "Average: 23.333333333333332\n",
      "\n",
      "Got data: 78\n",
      "Total count: 4\n",
      "Average: 37.0\n",
      "\n",
      "Got data: 16\n",
      "Total count: 5\n",
      "Average: 32.8\n",
      "\n",
      "Got data: 86\n",
      "Total count: 6\n",
      "Average: 41.666666666666664\n",
      "\n",
      "Got data: 59\n",
      "Total count: 7\n",
      "Average: 44.142857142857146\n",
      "\n",
      "Got data: 8\n",
      "Total count: 8\n",
      "Average: 39.625\n",
      "\n",
      "Got data: 10\n",
      "Total count: 9\n",
      "Average: 36.333333333333336\n",
      "\n",
      "Got data: 92\n",
      "Total count: 10\n",
      "Average: 41.9\n",
      "\n",
      "Got data: 87\n",
      "Total count: 11\n",
      "Average: 46.0\n",
      "\n",
      "Got data: 47\n",
      "Total count: 12\n",
      "Average: 46.083333333333336\n",
      "\n",
      "Got data: 29\n",
      "Total count: 13\n",
      "Average: 44.76923076923077\n",
      "\n",
      "Got data: 47\n",
      "Total count: 14\n",
      "Average: 44.92857142857143\n",
      "\n",
      "Got data: 51\n",
      "Total count: 15\n",
      "Average: 45.333333333333336\n",
      "\n",
      "Got data: 48\n",
      "Total count: 16\n",
      "Average: 45.5\n",
      "\n",
      "Got data: 12\n",
      "Total count: 17\n",
      "Average: 43.529411764705884\n",
      "\n",
      "Got data: 35\n",
      "Total count: 18\n",
      "Average: 43.05555555555556\n",
      "\n",
      "Got data: 94\n",
      "Total count: 19\n",
      "Average: 45.73684210526316\n",
      "\n",
      "Got data: 62\n",
      "Total count: 20\n",
      "Average: 46.55\n",
      "\n"
     ]
    },
    {
     "ename": "KeyboardInterrupt",
     "evalue": "",
     "output_type": "error",
     "traceback": [
      "\u001b[0;31m---------------------------------------------------------------------------\u001b[0m",
      "\u001b[0;31mKeyboardInterrupt\u001b[0m                         Traceback (most recent call last)",
      "\u001b[0;32m<ipython-input-29-d40bc66771bc>\u001b[0m in \u001b[0;36m<module>\u001b[0;34m()\u001b[0m\n\u001b[1;32m     66\u001b[0m \u001b[0;34m\u001b[0m\u001b[0m\n\u001b[1;32m     67\u001b[0m \u001b[0;32mif\u001b[0m \u001b[0m__name__\u001b[0m \u001b[0;34m==\u001b[0m \u001b[0;34m'__main__'\u001b[0m\u001b[0;34m:\u001b[0m\u001b[0;34m\u001b[0m\u001b[0m\n\u001b[0;32m---> 68\u001b[0;31m     \u001b[0mmain\u001b[0m\u001b[0;34m(\u001b[0m\u001b[0;34m)\u001b[0m\u001b[0;34m\u001b[0m\u001b[0m\n\u001b[0m",
      "\u001b[0;32m<ipython-input-29-d40bc66771bc>\u001b[0m in \u001b[0;36mmain\u001b[0;34m()\u001b[0m\n\u001b[1;32m     60\u001b[0m     \u001b[0;31m# Цикл событий (event loop)\u001b[0m\u001b[0;34m\u001b[0m\u001b[0;34m\u001b[0m\u001b[0m\n\u001b[1;32m     61\u001b[0m     \u001b[0;32mwhile\u001b[0m \u001b[0;32mTrue\u001b[0m\u001b[0;34m:\u001b[0m\u001b[0;34m\u001b[0m\u001b[0m\n\u001b[0;32m---> 62\u001b[0;31m         \u001b[0mnext\u001b[0m\u001b[0;34m(\u001b[0m\u001b[0mproducer\u001b[0m\u001b[0;34m)\u001b[0m\u001b[0;34m\u001b[0m\u001b[0m\n\u001b[0m\u001b[1;32m     63\u001b[0m \u001b[0;34m\u001b[0m\u001b[0m\n\u001b[1;32m     64\u001b[0m \u001b[0;34m\u001b[0m\u001b[0m\n",
      "\u001b[0;31mKeyboardInterrupt\u001b[0m: "
     ]
    }
   ],
   "source": [
    "import time\n",
    "import random\n",
    "\n",
    "\n",
    "def sleep(seconds):\n",
    "    \"\"\"Сопрограмма, которая приостанавливает сопрограмму,\n",
    "    из которой была вызвана, на заданное количество секунд\"\"\"\n",
    "\n",
    "    initial_time = time.time()\n",
    "    while time.time() - initial_time < seconds:\n",
    "        yield\n",
    "\n",
    "\n",
    "def gen_data():\n",
    "    \"\"\"Функция генерации данных (например, показания с какого-то датчика)\"\"\"\n",
    "\n",
    "    return random.randint(0, 100)\n",
    "\n",
    "\n",
    "def consume():\n",
    "    \"\"\"Сопрограмма обработки данных\"\"\"\n",
    "\n",
    "    running_sum = 0\n",
    "    count = 0\n",
    "\n",
    "    while True:\n",
    "        data = yield\n",
    "        running_sum += data\n",
    "        count += 1\n",
    "        print('Got data: {}\\nTotal count: {}\\nAverage: {}\\n'.format(\n",
    "            data, count, running_sum / count))\n",
    "\n",
    "\n",
    "def produce(consumer):\n",
    "    \"\"\"Сопрограмма выдачи данных\"\"\"\n",
    "\n",
    "    while True:\n",
    "        yield from sleep(0.5)\n",
    "        data = gen_data()\n",
    "        consumer.send(data)\n",
    "        yield\n",
    "\n",
    "def another_method():\n",
    "    while True:\n",
    "        print (\"Async hello\")\n",
    "        sleep(10)\n",
    "        yield\n",
    "\n",
    "        \n",
    "def main():\n",
    "    # Создание обработчика данных\n",
    "    consumer = consume()\n",
    "    # Запуск сопрограммы\n",
    "    consumer.send(None)\n",
    "\n",
    "    # Создание производителя данных\n",
    "    producer = produce(consumer)\n",
    "\n",
    "    # Цикл событий (event loop)\n",
    "    while True:\n",
    "        next(producer)\n",
    "        \n",
    "        \n",
    "\n",
    "\n",
    "if __name__ == '__main__':\n",
    "    main()"
   ]
  },
  {
   "cell_type": "code",
   "execution_count": 1,
   "metadata": {
    "collapsed": false
   },
   "outputs": [
    {
     "name": "stdout",
     "output_type": "stream",
     "text": [
      "Got data: 86\n",
      "Total count: 1\n",
      "Average: 86.0\n",
      "\n",
      "Got data: 90\n",
      "Total count: 2\n",
      "Average: 88.0\n",
      "\n",
      "Hello from another task\n",
      "Got data: 94\n",
      "Total count: 3\n",
      "Average: 90.0\n",
      "\n",
      "Got data: 69\n",
      "Total count: 4\n",
      "Average: 84.75\n",
      "\n",
      "Got data: 83\n",
      "Total count: 5\n",
      "Average: 84.4\n",
      "\n",
      "Got data: 13\n",
      "Total count: 6\n",
      "Average: 72.5\n",
      "\n",
      "Got data: 18\n",
      "Total count: 7\n",
      "Average: 64.71428571428571\n",
      "\n",
      "Got data: 99\n",
      "Total count: 8\n",
      "Average: 69.0\n",
      "\n",
      "Got data: 91\n",
      "Total count: 9\n",
      "Average: 71.44444444444444\n",
      "\n",
      "Got data: 87\n",
      "Total count: 10\n",
      "Average: 73.0\n",
      "\n",
      "Got data: 4\n",
      "Total count: 11\n",
      "Average: 66.72727272727273\n",
      "\n",
      "Got data: 6\n",
      "Total count: 12\n",
      "Average: 61.666666666666664\n",
      "\n",
      "Got data: 14\n",
      "Total count: 13\n",
      "Average: 58.0\n",
      "\n",
      "Got data: 27\n",
      "Total count: 14\n",
      "Average: 55.785714285714285\n",
      "\n",
      "Got data: 78\n",
      "Total count: 15\n",
      "Average: 57.266666666666666\n",
      "\n",
      "Got data: 65\n",
      "Total count: 16\n",
      "Average: 57.75\n",
      "\n",
      "Got data: 51\n",
      "Total count: 17\n",
      "Average: 57.35294117647059\n",
      "\n",
      "Got data: 2\n",
      "Total count: 18\n",
      "Average: 54.27777777777778\n",
      "\n",
      "Got data: 85\n",
      "Total count: 19\n",
      "Average: 55.89473684210526\n",
      "\n",
      "Got data: 38\n",
      "Total count: 20\n",
      "Average: 55.0\n",
      "\n",
      "Got data: 74\n",
      "Total count: 21\n",
      "Average: 55.904761904761905\n",
      "\n"
     ]
    },
    {
     "ename": "KeyboardInterrupt",
     "evalue": "",
     "output_type": "error",
     "traceback": [
      "\u001b[0;31m---------------------------------------------------------------------------\u001b[0m",
      "\u001b[0;31mKeyboardInterrupt\u001b[0m                         Traceback (most recent call last)",
      "\u001b[0;32m<ipython-input-1-7ee44551520a>\u001b[0m in \u001b[0;36m<module>\u001b[0;34m()\u001b[0m\n\u001b[1;32m     28\u001b[0m \u001b[0;34m\u001b[0m\u001b[0m\n\u001b[1;32m     29\u001b[0m \u001b[0;34m\u001b[0m\u001b[0m\n\u001b[0;32m---> 30\u001b[0;31m \u001b[0mmain\u001b[0m\u001b[0;34m(\u001b[0m\u001b[0;34m)\u001b[0m\u001b[0;34m\u001b[0m\u001b[0m\n\u001b[0m",
      "\u001b[0;32m<ipython-input-1-7ee44551520a>\u001b[0m in \u001b[0;36mmain\u001b[0;34m()\u001b[0m\n\u001b[1;32m     25\u001b[0m     \u001b[0mloop\u001b[0m \u001b[0;34m=\u001b[0m \u001b[0masyncio\u001b[0m\u001b[0;34m.\u001b[0m\u001b[0mget_event_loop\u001b[0m\u001b[0;34m(\u001b[0m\u001b[0;34m)\u001b[0m\u001b[0;34m\u001b[0m\u001b[0m\n\u001b[1;32m     26\u001b[0m     \u001b[0mtasks\u001b[0m \u001b[0;34m=\u001b[0m \u001b[0;34m[\u001b[0m\u001b[0mconsume\u001b[0m\u001b[0;34m(\u001b[0m\u001b[0;34m)\u001b[0m\u001b[0;34m,\u001b[0m \u001b[0manother_task\u001b[0m\u001b[0;34m(\u001b[0m\u001b[0;34m)\u001b[0m\u001b[0;34m]\u001b[0m\u001b[0;34m\u001b[0m\u001b[0m\n\u001b[0;32m---> 27\u001b[0;31m     \u001b[0mloop\u001b[0m\u001b[0;34m.\u001b[0m\u001b[0mrun_until_complete\u001b[0m\u001b[0;34m(\u001b[0m\u001b[0masyncio\u001b[0m\u001b[0;34m.\u001b[0m\u001b[0mwait\u001b[0m\u001b[0;34m(\u001b[0m\u001b[0mtasks\u001b[0m\u001b[0;34m)\u001b[0m\u001b[0;34m)\u001b[0m\u001b[0;34m\u001b[0m\u001b[0m\n\u001b[0m\u001b[1;32m     28\u001b[0m \u001b[0;34m\u001b[0m\u001b[0m\n\u001b[1;32m     29\u001b[0m \u001b[0;34m\u001b[0m\u001b[0m\n",
      "\u001b[0;32m/usr/lib/python3.5/asyncio/base_events.py\u001b[0m in \u001b[0;36mrun_until_complete\u001b[0;34m(self, future)\u001b[0m\n\u001b[1;32m    373\u001b[0m         \u001b[0mfuture\u001b[0m\u001b[0;34m.\u001b[0m\u001b[0madd_done_callback\u001b[0m\u001b[0;34m(\u001b[0m\u001b[0m_run_until_complete_cb\u001b[0m\u001b[0;34m)\u001b[0m\u001b[0;34m\u001b[0m\u001b[0m\n\u001b[1;32m    374\u001b[0m         \u001b[0;32mtry\u001b[0m\u001b[0;34m:\u001b[0m\u001b[0;34m\u001b[0m\u001b[0m\n\u001b[0;32m--> 375\u001b[0;31m             \u001b[0mself\u001b[0m\u001b[0;34m.\u001b[0m\u001b[0mrun_forever\u001b[0m\u001b[0;34m(\u001b[0m\u001b[0;34m)\u001b[0m\u001b[0;34m\u001b[0m\u001b[0m\n\u001b[0m\u001b[1;32m    376\u001b[0m         \u001b[0;32mexcept\u001b[0m\u001b[0;34m:\u001b[0m\u001b[0;34m\u001b[0m\u001b[0m\n\u001b[1;32m    377\u001b[0m             \u001b[0;32mif\u001b[0m \u001b[0mnew_task\u001b[0m \u001b[0;32mand\u001b[0m \u001b[0mfuture\u001b[0m\u001b[0;34m.\u001b[0m\u001b[0mdone\u001b[0m\u001b[0;34m(\u001b[0m\u001b[0;34m)\u001b[0m \u001b[0;32mand\u001b[0m \u001b[0;32mnot\u001b[0m \u001b[0mfuture\u001b[0m\u001b[0;34m.\u001b[0m\u001b[0mcancelled\u001b[0m\u001b[0;34m(\u001b[0m\u001b[0;34m)\u001b[0m\u001b[0;34m:\u001b[0m\u001b[0;34m\u001b[0m\u001b[0m\n",
      "\u001b[0;32m/usr/lib/python3.5/asyncio/base_events.py\u001b[0m in \u001b[0;36mrun_forever\u001b[0;34m(self)\u001b[0m\n\u001b[1;32m    343\u001b[0m         \u001b[0;32mtry\u001b[0m\u001b[0;34m:\u001b[0m\u001b[0;34m\u001b[0m\u001b[0m\n\u001b[1;32m    344\u001b[0m             \u001b[0;32mwhile\u001b[0m \u001b[0;32mTrue\u001b[0m\u001b[0;34m:\u001b[0m\u001b[0;34m\u001b[0m\u001b[0m\n\u001b[0;32m--> 345\u001b[0;31m                 \u001b[0mself\u001b[0m\u001b[0;34m.\u001b[0m\u001b[0m_run_once\u001b[0m\u001b[0;34m(\u001b[0m\u001b[0;34m)\u001b[0m\u001b[0;34m\u001b[0m\u001b[0m\n\u001b[0m\u001b[1;32m    346\u001b[0m                 \u001b[0;32mif\u001b[0m \u001b[0mself\u001b[0m\u001b[0;34m.\u001b[0m\u001b[0m_stopping\u001b[0m\u001b[0;34m:\u001b[0m\u001b[0;34m\u001b[0m\u001b[0m\n\u001b[1;32m    347\u001b[0m                     \u001b[0;32mbreak\u001b[0m\u001b[0;34m\u001b[0m\u001b[0m\n",
      "\u001b[0;32m/usr/lib/python3.5/asyncio/base_events.py\u001b[0m in \u001b[0;36m_run_once\u001b[0;34m(self)\u001b[0m\n\u001b[1;32m   1274\u001b[0m                            timeout * 1e3, dt * 1e3)\n\u001b[1;32m   1275\u001b[0m         \u001b[0;32melse\u001b[0m\u001b[0;34m:\u001b[0m\u001b[0;34m\u001b[0m\u001b[0m\n\u001b[0;32m-> 1276\u001b[0;31m             \u001b[0mevent_list\u001b[0m \u001b[0;34m=\u001b[0m \u001b[0mself\u001b[0m\u001b[0;34m.\u001b[0m\u001b[0m_selector\u001b[0m\u001b[0;34m.\u001b[0m\u001b[0mselect\u001b[0m\u001b[0;34m(\u001b[0m\u001b[0mtimeout\u001b[0m\u001b[0;34m)\u001b[0m\u001b[0;34m\u001b[0m\u001b[0m\n\u001b[0m\u001b[1;32m   1277\u001b[0m         \u001b[0mself\u001b[0m\u001b[0;34m.\u001b[0m\u001b[0m_process_events\u001b[0m\u001b[0;34m(\u001b[0m\u001b[0mevent_list\u001b[0m\u001b[0;34m)\u001b[0m\u001b[0;34m\u001b[0m\u001b[0m\n\u001b[1;32m   1278\u001b[0m \u001b[0;34m\u001b[0m\u001b[0m\n",
      "\u001b[0;32m/usr/lib/python3.5/selectors.py\u001b[0m in \u001b[0;36mselect\u001b[0;34m(self, timeout)\u001b[0m\n\u001b[1;32m    439\u001b[0m             \u001b[0mready\u001b[0m \u001b[0;34m=\u001b[0m \u001b[0;34m[\u001b[0m\u001b[0;34m]\u001b[0m\u001b[0;34m\u001b[0m\u001b[0m\n\u001b[1;32m    440\u001b[0m             \u001b[0;32mtry\u001b[0m\u001b[0;34m:\u001b[0m\u001b[0;34m\u001b[0m\u001b[0m\n\u001b[0;32m--> 441\u001b[0;31m                 \u001b[0mfd_event_list\u001b[0m \u001b[0;34m=\u001b[0m \u001b[0mself\u001b[0m\u001b[0;34m.\u001b[0m\u001b[0m_epoll\u001b[0m\u001b[0;34m.\u001b[0m\u001b[0mpoll\u001b[0m\u001b[0;34m(\u001b[0m\u001b[0mtimeout\u001b[0m\u001b[0;34m,\u001b[0m \u001b[0mmax_ev\u001b[0m\u001b[0;34m)\u001b[0m\u001b[0;34m\u001b[0m\u001b[0m\n\u001b[0m\u001b[1;32m    442\u001b[0m             \u001b[0;32mexcept\u001b[0m \u001b[0mInterruptedError\u001b[0m\u001b[0;34m:\u001b[0m\u001b[0;34m\u001b[0m\u001b[0m\n\u001b[1;32m    443\u001b[0m                 \u001b[0;32mreturn\u001b[0m \u001b[0mready\u001b[0m\u001b[0;34m\u001b[0m\u001b[0m\n",
      "\u001b[0;31mKeyboardInterrupt\u001b[0m: "
     ]
    }
   ],
   "source": [
    "import random\n",
    "import asyncio\n",
    "\n",
    "async def consume():\n",
    "    running_sum = 0\n",
    "    count = 0\n",
    "    while True:\n",
    "        data = await produce()\n",
    "        running_sum += data\n",
    "        count += 1\n",
    "        print('Got data: {}\\nTotal count: {}\\nAverage: {}\\n'.format(\n",
    "            data, count, running_sum / count))\n",
    "\n",
    "\n",
    "async def produce():\n",
    "    await asyncio.sleep(0.5)\n",
    "    return random.randint(0, 100)\n",
    "\n",
    "async def another_task():\n",
    "    await asyncio.sleep(1.2)\n",
    "    print (\"Hello from another task\")\n",
    "\n",
    "\n",
    "def main():\n",
    "    loop = asyncio.get_event_loop()\n",
    "    tasks = [consume(), another_task()]\n",
    "    loop.run_until_complete(asyncio.wait(tasks))\n",
    "        \n",
    "\n",
    "main()"
   ]
  },
  {
   "cell_type": "markdown",
   "metadata": {},
   "source": [
    "## Модули"
   ]
  },
  {
   "cell_type": "markdown",
   "metadata": {},
   "source": [
    "__Модуль__ – функционально законченный фрагмент программы, оформленный в виде отдельного файла с исходным кодом или поименованной непрерывной её части. Модули позволяют разбивать сложные задачи на более мелкие в соответствии с принципом модульности.\n",
    "Обычно проектируются таким образом, чтобы предоставлять программистам удобную для многократного использования функциональность (интерфейс) в виде набора функций, классов, констант.\n",
    "\n",
    "Файл, который содержит исходный код на языке Python, является модулем."
   ]
  },
  {
   "cell_type": "markdown",
   "metadata": {},
   "source": [
    "### Импортирование модуля\n",
    "\n",
    "```\n",
    "      import module_name\n",
    "      import module_name as new_name\n",
    "\n",
    "```\n",
    "\n",
    "Изначальное название импортированного модуля доступно как его глобальная переменная ```__name__```. У модуля, запущенного как скрипта, ```__name__``` равен ```“__main__”```."
   ]
  },
  {
   "cell_type": "markdown",
   "metadata": {},
   "source": [
    "__ Модули загружаются только один раз. Все последующие попытки их импортировать лишь возвращают ссылки на уже загруженные модули.__"
   ]
  },
  {
   "cell_type": "code",
   "execution_count": 5,
   "metadata": {
    "collapsed": false
   },
   "outputs": [
    {
     "data": {
      "text/plain": [
       "['In',\n",
       " 'Out',\n",
       " '_',\n",
       " '__',\n",
       " '___',\n",
       " '__builtin__',\n",
       " '__builtins__',\n",
       " '__doc__',\n",
       " '__loader__',\n",
       " '__name__',\n",
       " '__package__',\n",
       " '__spec__',\n",
       " '_dh',\n",
       " '_i',\n",
       " '_i1',\n",
       " '_i2',\n",
       " '_i3',\n",
       " '_i4',\n",
       " '_i5',\n",
       " '_ih',\n",
       " '_ii',\n",
       " '_iii',\n",
       " '_oh',\n",
       " '_sh',\n",
       " 'another_task',\n",
       " 'asyncio',\n",
       " 'consume',\n",
       " 'exit',\n",
       " 'get_ipython',\n",
       " 'main',\n",
       " 'produce',\n",
       " 'quit',\n",
       " 'random']"
      ]
     },
     "execution_count": 5,
     "metadata": {},
     "output_type": "execute_result"
    }
   ],
   "source": [
    "dir()"
   ]
  },
  {
   "cell_type": "code",
   "execution_count": 6,
   "metadata": {
    "collapsed": false
   },
   "outputs": [
    {
     "data": {
      "text/plain": [
       "['In',\n",
       " 'Out',\n",
       " '_',\n",
       " '_5',\n",
       " '__',\n",
       " '___',\n",
       " '__builtin__',\n",
       " '__builtins__',\n",
       " '__doc__',\n",
       " '__loader__',\n",
       " '__name__',\n",
       " '__package__',\n",
       " '__spec__',\n",
       " '_dh',\n",
       " '_i',\n",
       " '_i1',\n",
       " '_i2',\n",
       " '_i3',\n",
       " '_i4',\n",
       " '_i5',\n",
       " '_i6',\n",
       " '_ih',\n",
       " '_ii',\n",
       " '_iii',\n",
       " '_oh',\n",
       " '_sh',\n",
       " 'another_task',\n",
       " 'asyncio',\n",
       " 'consume',\n",
       " 'exit',\n",
       " 'get_ipython',\n",
       " 'main',\n",
       " 'math',\n",
       " 'produce',\n",
       " 'quit',\n",
       " 'random']"
      ]
     },
     "execution_count": 6,
     "metadata": {},
     "output_type": "execute_result"
    }
   ],
   "source": [
    "import math\n",
    "dir()"
   ]
  },
  {
   "cell_type": "markdown",
   "metadata": {
    "collapsed": true
   },
   "source": [
    "### Импортирование модуля\n",
    "```\n",
    "import module_name\n",
    "      import module_name as new_name\n",
    "```\n",
    "### Импортирование имён из модуля\n",
    "\n",
    "```\n",
    "from module import name\n",
    "from module import name1, name2\n",
    "from module import *\n",
    "from module import name as new_name\n",
    "from module import name1 as new_name1, name2 as new_name2\n",
    "```\n",
    "\n",
    "Если вместо списка имён указать символ ```*```, то импортируются все имена, кроме тех, которые начинаются с символа подчёркивания.\n",
    "\n",
    "Импортирование всех имён (from module import ```*```) удобно в интерактивной сессии интерпретатора, но нежелетельно в коде"
   ]
  },
  {
   "cell_type": "code",
   "execution_count": 12,
   "metadata": {
    "collapsed": false
   },
   "outputs": [],
   "source": [
    "import math as математика\n",
    "from math import pi as пи"
   ]
  },
  {
   "cell_type": "code",
   "execution_count": 9,
   "metadata": {
    "collapsed": false
   },
   "outputs": [
    {
     "data": {
      "text/plain": [
       "['__doc__',\n",
       " '__file__',\n",
       " '__loader__',\n",
       " '__name__',\n",
       " '__package__',\n",
       " '__spec__',\n",
       " 'acos',\n",
       " 'acosh',\n",
       " 'asin',\n",
       " 'asinh',\n",
       " 'atan',\n",
       " 'atan2',\n",
       " 'atanh',\n",
       " 'ceil',\n",
       " 'copysign',\n",
       " 'cos',\n",
       " 'cosh',\n",
       " 'degrees',\n",
       " 'e',\n",
       " 'erf',\n",
       " 'erfc',\n",
       " 'exp',\n",
       " 'expm1',\n",
       " 'fabs',\n",
       " 'factorial',\n",
       " 'floor',\n",
       " 'fmod',\n",
       " 'frexp',\n",
       " 'fsum',\n",
       " 'gamma',\n",
       " 'gcd',\n",
       " 'hypot',\n",
       " 'inf',\n",
       " 'isclose',\n",
       " 'isfinite',\n",
       " 'isinf',\n",
       " 'isnan',\n",
       " 'ldexp',\n",
       " 'lgamma',\n",
       " 'log',\n",
       " 'log10',\n",
       " 'log1p',\n",
       " 'log2',\n",
       " 'modf',\n",
       " 'nan',\n",
       " 'pi',\n",
       " 'pow',\n",
       " 'radians',\n",
       " 'sin',\n",
       " 'sinh',\n",
       " 'sqrt',\n",
       " 'tan',\n",
       " 'tanh',\n",
       " 'trunc']"
      ]
     },
     "execution_count": 9,
     "metadata": {},
     "output_type": "execute_result"
    }
   ],
   "source": [
    "dir(математика)"
   ]
  },
  {
   "cell_type": "code",
   "execution_count": 10,
   "metadata": {
    "collapsed": false
   },
   "outputs": [
    {
     "name": "stdout",
     "output_type": "stream",
     "text": [
      "3.141592653589793\n"
     ]
    }
   ],
   "source": [
    "print(пи)"
   ]
  },
  {
   "cell_type": "markdown",
   "metadata": {},
   "source": [
    "### Пути поиска модулей\n",
    "* При импортировании модулей интерпретатор Python ищет их в директориях и архивах, список которых доступен как для чтения, так и для модификации в виде переменной path встроенного модуля sys.\n",
    "* По умолчанию sys.path состоит из директории с запускаемым скриптом, содержимого переменной окружения PYTHONPATH и стандартного расположения модулей, специфичного для конкретной платформы и интерпретатора.\n",
    "* Для ускорения загрузки модулей Python кеширует байт-код и производит компиляцию модуля только в том случае, если исходный код был изменён. Python 3 сохраняет файлы байт-кода .pyc в каталоге ```__pycache__```, Python 2 – рядом с файлами исходного кода."
   ]
  },
  {
   "cell_type": "code",
   "execution_count": 13,
   "metadata": {
    "collapsed": false
   },
   "outputs": [
    {
     "name": "stdout",
     "output_type": "stream",
     "text": [
      "fibonacci\n",
      "__main__\n",
      "[1, 1, 2, 3, 5, 8, 13, 21, 34, 55]\n",
      "6765\n"
     ]
    }
   ],
   "source": [
    "# Импортирование модуля\n",
    "import fibonacci\n",
    "\n",
    "# Вывод имени модуля\n",
    "print(fibonacci.__name__)  # доступ к глобальной переменной другого модуля\n",
    "# Вывод имени текущего модуля\n",
    "print(__name__)            # доступ к глобальной переменной текущего модуля\n",
    "\n",
    "# Использование функций модуля\n",
    "print(list(fibonacci.fibonacci_numbers(10)))\n",
    "print(fibonacci.nth_fibonacci(20))"
   ]
  },
  {
   "cell_type": "code",
   "execution_count": 15,
   "metadata": {
    "collapsed": false
   },
   "outputs": [
    {
     "data": {
      "text/plain": [
       "['fibonacci.cpython-35.pyc']"
      ]
     },
     "execution_count": 15,
     "metadata": {},
     "output_type": "execute_result"
    }
   ],
   "source": [
    "from os import listdir\n",
    "listdir(\"__pycache__\")"
   ]
  },
  {
   "cell_type": "markdown",
   "metadata": {},
   "source": [
    "### Пакеты\n",
    "\n",
    "* Модули могут объединяться в пакеты. Пакеты служат как пространства имён для модулей и способ их структурирования.\n",
    "* Любой пакет является модулем, но не каждый модуль является пакетом.\n",
    "* Как правило, модули представляются в виде файлов, в пакеты — каталогов в файловой системе (но не всегда).\n",
    "* Для того, чтобы каталог был пакетом, в нём должен находиться файл ```__init__.py```\n",
    "* Он автоматически выполняется при импортировании соответствующего модуля и может содержать определённые действия для инициализации или быть пустым."
   ]
  },
  {
   "cell_type": "markdown",
   "metadata": {},
   "source": [
    "```\n",
    "import package.module\n",
    "import package.submodule.module\n",
    "from package import *\n",
    "```\n",
    "\n",
    "Для того, чтобы можно было импортировать все имена пакета * пакет должен описывать список ```__all__```который содержит имена подпакетов и модулей.\n",
    "\n",
    "Относительный импорт\n",
    "\n",
    "```\n",
    "from . import name\n",
    "from .. import name\n",
    "from .package import name\n",
    "from ..package import name\n",
    "```"
   ]
  },
  {
   "cell_type": "code",
   "execution_count": null,
   "metadata": {
    "collapsed": true
   },
   "outputs": [],
   "source": []
  }
 ],
 "metadata": {
  "kernelspec": {
   "display_name": "Python 3",
   "language": "python",
   "name": "python3"
  },
  "language_info": {
   "codemirror_mode": {
    "name": "ipython",
    "version": 3
   },
   "file_extension": ".py",
   "mimetype": "text/x-python",
   "name": "python",
   "nbconvert_exporter": "python",
   "pygments_lexer": "ipython3",
   "version": "3.5.2"
  }
 },
 "nbformat": 4,
 "nbformat_minor": 0
}
