{
 "cells": [
  {
   "cell_type": "markdown",
   "metadata": {},
   "source": [
    "# Тестирование"
   ]
  },
  {
   "cell_type": "markdown",
   "metadata": {},
   "source": [
    "Тестирование – это проверка, которая позволяет определить: соответствует ли реальное поведение программы ожидаемому, выполнив специально созданный набор тестов."
   ]
  },
  {
   "cell_type": "markdown",
   "metadata": {},
   "source": [
    "Тест – это выполнение определенных условий и действий, другая функция или метод, необходимых для проверки работы тестируемой функции/метода/класса или её части."
   ]
  },
  {
   "cell_type": "markdown",
   "metadata": {},
   "source": [
    "Литература:\n",
    "    * Python Unit Testing Framework - https://docs.python.org/2/library/unittest.html\n",
    "    * Как тестируют в Google - https://www.ozon.ru/context/detail/id/24868052/\n",
    "    * Документация, специфичная для вашего фреймворка"
   ]
  },
  {
   "cell_type": "markdown",
   "metadata": {},
   "source": [
    "Вопросы? - _dimkat@gmail.com_"
   ]
  },
  {
   "cell_type": "markdown",
   "metadata": {},
   "source": [
    "## Пирамида тестирования"
   ]
  },
  {
   "cell_type": "markdown",
   "metadata": {},
   "source": [
    "![Testing Pyramid](http://www.a1qa.ru/wp-content/uploads/2016/05/test-pyramid.png)"
   ]
  },
  {
   "cell_type": "markdown",
   "metadata": {},
   "source": [
    "## Unit tests"
   ]
  },
  {
   "cell_type": "markdown",
   "metadata": {},
   "source": [
    "* test fixture - меры, которые необходимо предпринять перед запуском тестов и после них;\n",
    "* test case - сам тест, который вызявает проверяемую функцию/метод и проверят соответсвие ожидаемого выхода при известных входах;\n",
    "* test suite - коллекция тестов или других коллекций тестов;\n",
    "* test runner - среда управления запуском тестов и доставки их результатов до пользователя."
   ]
  },
  {
   "cell_type": "code",
   "execution_count": 53,
   "metadata": {
    "collapsed": true
   },
   "outputs": [],
   "source": [
    "import unittest\n",
    "\n",
    "class TestStringMethods(unittest.TestCase):\n",
    "    def test_upper(self):\n",
    "        self.assertEqual('foo'.upper(), 'FOO')\n",
    "\n",
    "    def test_isupper(self):\n",
    "        self.assertTrue('FOO'.isupper())\n",
    "        self.assertFalse('Foo'.isupper())\n",
    "        \n",
    "    def test_split(self):\n",
    "        s = 'hello world'\n",
    "        self.assertEqual(s.split(), ['hello', 'world'])\n",
    "        # check that s.split fails when the separator is not a string\n",
    "        with self.assertRaises(TypeError):\n",
    "            s.split(2)"
   ]
  },
  {
   "cell_type": "code",
   "execution_count": 54,
   "metadata": {
    "collapsed": false
   },
   "outputs": [],
   "source": [
    "def run_tests(classname):\n",
    "    class_to_test = classname()\n",
    "    suite = unittest.TestLoader().loadTestsFromModule(class_to_test)\n",
    "    unittest.TextTestRunner().run(suite)"
   ]
  },
  {
   "cell_type": "code",
   "execution_count": 55,
   "metadata": {
    "collapsed": false
   },
   "outputs": [
    {
     "name": "stderr",
     "output_type": "stream",
     "text": [
      "...\n",
      "----------------------------------------------------------------------\n",
      "Ran 3 tests in 0.002s\n",
      "\n",
      "OK\n"
     ]
    }
   ],
   "source": [
    "run_tests(TestStringMethods)"
   ]
  },
  {
   "cell_type": "markdown",
   "metadata": {},
   "source": [
    "Доступные методы: https://docs.python.org/2/library/unittest.html#assert-methods"
   ]
  },
  {
   "cell_type": "markdown",
   "metadata": {},
   "source": [
    "## setUp() и tearDown()"
   ]
  },
  {
   "cell_type": "markdown",
   "metadata": {},
   "source": [
    "Тестов может быть много, а подготовка данных к ним занимать много строк кода."
   ]
  },
  {
   "cell_type": "code",
   "execution_count": 56,
   "metadata": {
    "collapsed": false
   },
   "outputs": [
    {
     "name": "stdout",
     "output_type": "stream",
     "text": [
      "True\n"
     ]
    }
   ],
   "source": [
    "import requests\n",
    "\n",
    "class RedditParser(object):\n",
    "    def __init__(self, url=\"https://www.reddit.com/\"):\n",
    "        self._url = url\n",
    "        self._text_content = ''\n",
    "    \n",
    "    def _GetHTMLBody(self):\n",
    "        response = requests.get(self._url)\n",
    "        self._text_content = response.text\n",
    "        \n",
    "    def WordOnPage(self, word):\n",
    "        return True if word in self._text_content else False\n",
    "        \n",
    "parser = RedditParser()\n",
    "parser._GetHTMLBody()\n",
    "print(parser.WordOnPage(\"CEO\"))"
   ]
  },
  {
   "cell_type": "code",
   "execution_count": 57,
   "metadata": {
    "collapsed": false
   },
   "outputs": [
    {
     "name": "stderr",
     "output_type": "stream",
     "text": [
      "..\n",
      "----------------------------------------------------------------------\n",
      "Ran 2 tests in 0.002s\n",
      "\n",
      "OK\n"
     ]
    }
   ],
   "source": [
    "_TEST_PAGE_CONTENT = \"<html><body><p>I'm a page content.</p></body></html>\"\n",
    "\n",
    "class TestRedditParser(unittest.TestCase):\n",
    "    def setUp(self):\n",
    "        self.parser = RedditParser()\n",
    "        self.parser._text_content = _TEST_PAGE_CONTENT\n",
    "    \n",
    "    def testWordOnPage(self):\n",
    "        self.assertTrue(self.parser.WordOnPage(\"page\"))\n",
    "    \n",
    "    def testWordNotOnPage(self):\n",
    "        self.assertFalse(self.parser.WordOnPage(\"foo\"))\n",
    "        \n",
    "run_tests(TestRedditParser)"
   ]
  },
  {
   "cell_type": "markdown",
   "metadata": {},
   "source": [
    "Другие методы установки среды выполнения:\n",
    "    * setUpClass() и tearDownClass();\n",
    "    * setUpModule() и tearDownModule()."
   ]
  },
  {
   "cell_type": "markdown",
   "metadata": {
    "collapsed": true
   },
   "source": [
    "# Mocks"
   ]
  },
  {
   "cell_type": "markdown",
   "metadata": {},
   "source": [
    "unittest.mock - https://docs.python.org/3/library/unittest.mock.html"
   ]
  },
  {
   "cell_type": "markdown",
   "metadata": {},
   "source": [
    "Mock - это библиотека, которая позволяет вам заменить часть вашей системы в тестах каким либо ложным, фиктивным объектом и сформулировать утверждение, как он должен был быть использован.\n",
    "\n",
    "Термины:\n",
    "    * Mock\n",
    "    * Fake\n",
    "    * Stub"
   ]
  },
  {
   "cell_type": "markdown",
   "metadata": {},
   "source": [
    "```python\n",
    "from unittest.mock import MagicMock\n",
    "thing = ProductionClass()\n",
    "thing.method = MagicMock(return_value=3)\n",
    "thing.method(3, 4, 5, key='value')\n",
    "```\n",
    "\n",
    "```bash\n",
    "3\n",
    "```\n",
    "\n",
    "```python\n",
    "thing.method.assert_called_with(3, 4, 5, key='value')\n",
    "```"
   ]
  },
  {
   "cell_type": "code",
   "execution_count": 58,
   "metadata": {
    "collapsed": false
   },
   "outputs": [
    {
     "name": "stdout",
     "output_type": "stream",
     "text": [
      "True\n"
     ]
    }
   ],
   "source": [
    "import requests\n",
    "\n",
    "class RedditParser(object):\n",
    "    def __init__(self, url=\"https://www.reddit.com/\"):\n",
    "        self._url = url\n",
    "    \n",
    "    def _GetHTMLBody(self):\n",
    "        response = requests.get(self._url)\n",
    "        return response.text\n",
    "        \n",
    "    def WordOnPage(self, word):\n",
    "        return True if word in self._GetHTMLBody() else False\n",
    "        \n",
    "parser = RedditParser()\n",
    "print(parser.WordOnPage(\"CEO\"))"
   ]
  },
  {
   "cell_type": "code",
   "execution_count": 59,
   "metadata": {
    "collapsed": false
   },
   "outputs": [],
   "source": [
    "import unittest.mock as mock\n",
    "\n",
    "_TEST_PAGE_CONTENT = \"<html><body><p>I'm a page content.</p></body></html>\"\n",
    "\n",
    "class TestRedditParser2(unittest.TestCase):\n",
    "    def testWordOnPage(self):\n",
    "        parser = RedditParser()\n",
    "        with mock.patch.object(RedditParser, '_GetHTMLBody', return_value=_TEST_PAGE_CONTENT):\n",
    "            self.assertTrue(parser.WordOnPage(\"page\"))\n",
    "    \n",
    "    def testWordNotOnPage(self):\n",
    "        parser = RedditParser()\n",
    "        with mock.patch.object(RedditParser, '_GetHTMLBody', return_value=_TEST_PAGE_CONTENT):\n",
    "            self.assertFalse(parser.WordOnPage(\"foo\"))"
   ]
  },
  {
   "cell_type": "code",
   "execution_count": 60,
   "metadata": {
    "collapsed": false
   },
   "outputs": [
    {
     "name": "stderr",
     "output_type": "stream",
     "text": [
      "..\n",
      "----------------------------------------------------------------------\n",
      "Ran 2 tests in 0.002s\n",
      "\n",
      "OK\n"
     ]
    }
   ],
   "source": [
    "run_tests(TestRedditParser2)"
   ]
  },
  {
   "cell_type": "markdown",
   "metadata": {},
   "source": [
    "Изменять поведение объектов - части системы можно разными способами (см. документацию):\n",
    "    * Прямая перегрузка;\n",
    "    * setUp/tearDown;\n",
    "    * Контекстый менеджер;\n",
    "    * Декоратор."
   ]
  },
  {
   "cell_type": "code",
   "execution_count": 61,
   "metadata": {
    "collapsed": true
   },
   "outputs": [],
   "source": [
    "import unittest.mock as mock\n",
    "\n",
    "_TEST_PAGE_CONTENT = \"<html><body><p>I'm a page content.</p></body></html>\"\n",
    "\n",
    "class TestRedditParser3(unittest.TestCase):\n",
    "    @mock.patch.object(RedditParser, '_GetHTMLBody', return_value=_TEST_PAGE_CONTENT)\n",
    "    def testWordOnPage(self, mock_GetHTMLBody):\n",
    "        parser = RedditParser()\n",
    "        with mock.patch.object(RedditParser, '_GetHTMLBody', return_value=_TEST_PAGE_CONTENT):\n",
    "            self.assertTrue(parser.WordOnPage(\"page\"))\n",
    "    \n",
    "    @mock.patch.object(RedditParser, '_GetHTMLBody', return_value=_TEST_PAGE_CONTENT)\n",
    "    def testWordNotOnPage(self, mock_GetHTMLBody):\n",
    "        parser = RedditParser()\n",
    "        with mock.patch.object(RedditParser, '_GetHTMLBody', return_value=_TEST_PAGE_CONTENT):\n",
    "            self.assertFalse(parser.WordOnPage(\"foo\"))"
   ]
  },
  {
   "cell_type": "code",
   "execution_count": 62,
   "metadata": {
    "collapsed": false
   },
   "outputs": [
    {
     "name": "stderr",
     "output_type": "stream",
     "text": [
      "..\n",
      "----------------------------------------------------------------------\n",
      "Ran 2 tests in 0.003s\n",
      "\n",
      "OK\n"
     ]
    }
   ],
   "source": [
    "run_tests(TestRedditParser3)"
   ]
  },
  {
   "cell_type": "markdown",
   "metadata": {},
   "source": [
    "* Надо изменить поведение целого модуля или библиотеки? -> mock.patch\n",
    "* Надо изменить поведение функции или метода? -> mock.patch.object"
   ]
  },
  {
   "cell_type": "code",
   "execution_count": null,
   "metadata": {
    "collapsed": true
   },
   "outputs": [],
   "source": []
  }
 ],
 "metadata": {
  "anaconda-cloud": {},
  "kernelspec": {
   "display_name": "Python 3",
   "language": "python",
   "name": "python3"
  },
  "language_info": {
   "codemirror_mode": {
    "name": "ipython",
    "version": 3
   },
   "file_extension": ".py",
   "mimetype": "text/x-python",
   "name": "python",
   "nbconvert_exporter": "python",
   "pygments_lexer": "ipython3",
   "version": "3.5.2"
  }
 },
 "nbformat": 4,
 "nbformat_minor": 1
}
