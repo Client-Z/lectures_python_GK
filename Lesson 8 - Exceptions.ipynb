{
 "cells": [
  {
   "cell_type": "markdown",
   "metadata": {},
   "source": [
    "# Исключения (exceptions)\n",
    "\n",
    "**Исключения** – механизм языка, предназначенный для описания реакции программы на ошибки и другие возможные проблемы, которые могут возникнуть при выполнении программы и приводят к невозможности (или бессмысленности) дальнейшей отработки программой ее базового алгоритма.\n",
    "\n",
    "Даже если оператор или выражение является синтаксически правильным, попытка его выполнить может привести к ошибке. Ошибки, возникшие во время выполнения программы, называются **исключениями**, и соответствуют незапланированному состоянию программы (т.е. исключительной ситуации, такой, которая при нормальном выполнении не должна возникать)."
   ]
  },
  {
   "cell_type": "code",
   "execution_count": 1,
   "metadata": {
    "collapsed": false
   },
   "outputs": [
    {
     "ename": "ZeroDivisionError",
     "evalue": "division by zero",
     "output_type": "error",
     "traceback": [
      "\u001b[0;31m---------------------------------------------------------------------------\u001b[0m",
      "\u001b[0;31mZeroDivisionError\u001b[0m                         Traceback (most recent call last)",
      "\u001b[0;32m<ipython-input-1-0a3ea1f4c203>\u001b[0m in \u001b[0;36m<module>\u001b[0;34m()\u001b[0m\n\u001b[1;32m      1\u001b[0m \u001b[0mx\u001b[0m\u001b[0;34m,\u001b[0m \u001b[0my\u001b[0m \u001b[0;34m=\u001b[0m \u001b[0;36m10\u001b[0m\u001b[0;34m,\u001b[0m \u001b[0;36m0\u001b[0m\u001b[0;34m\u001b[0m\u001b[0m\n\u001b[0;32m----> 2\u001b[0;31m \u001b[0mprint\u001b[0m\u001b[0;34m(\u001b[0m\u001b[0mx\u001b[0m \u001b[0;34m/\u001b[0m \u001b[0my\u001b[0m\u001b[0;34m)\u001b[0m\u001b[0;34m\u001b[0m\u001b[0m\n\u001b[0m",
      "\u001b[0;31mZeroDivisionError\u001b[0m: division by zero"
     ]
    }
   ],
   "source": [
    "x, y = 10, 0\n",
    "print(x / y)"
   ]
  },
  {
   "cell_type": "code",
   "execution_count": 2,
   "metadata": {
    "collapsed": false
   },
   "outputs": [
    {
     "ename": "KeyError",
     "evalue": "'boo'",
     "output_type": "error",
     "traceback": [
      "\u001b[0;31m---------------------------------------------------------------------------\u001b[0m",
      "\u001b[0;31mKeyError\u001b[0m                                  Traceback (most recent call last)",
      "\u001b[0;32m<ipython-input-2-7a3c5f25924a>\u001b[0m in \u001b[0;36m<module>\u001b[0;34m()\u001b[0m\n\u001b[1;32m      1\u001b[0m \u001b[0md\u001b[0m \u001b[0;34m=\u001b[0m \u001b[0;34m{\u001b[0m\u001b[0;34m\"key\"\u001b[0m\u001b[0;34m:\u001b[0m \u001b[0;34m\"value\"\u001b[0m\u001b[0;34m}\u001b[0m\u001b[0;34m\u001b[0m\u001b[0m\n\u001b[0;32m----> 2\u001b[0;31m \u001b[0mprint\u001b[0m\u001b[0;34m(\u001b[0m\u001b[0md\u001b[0m\u001b[0;34m[\u001b[0m\u001b[0;34m\"boo\"\u001b[0m\u001b[0;34m]\u001b[0m\u001b[0;34m)\u001b[0m\u001b[0;34m\u001b[0m\u001b[0m\n\u001b[0m",
      "\u001b[0;31mKeyError\u001b[0m: 'boo'"
     ]
    }
   ],
   "source": [
    "d = {\"key\": \"value\"}\n",
    "print(d[\"boo\"])"
   ]
  },
  {
   "cell_type": "code",
   "execution_count": 3,
   "metadata": {
    "collapsed": false
   },
   "outputs": [
    {
     "ename": "NameError",
     "evalue": "name 'my_var0' is not defined",
     "output_type": "error",
     "traceback": [
      "\u001b[0;31m---------------------------------------------------------------------------\u001b[0m",
      "\u001b[0;31mNameError\u001b[0m                                 Traceback (most recent call last)",
      "\u001b[0;32m<ipython-input-3-c789656303af>\u001b[0m in \u001b[0;36m<module>\u001b[0;34m()\u001b[0m\n\u001b[1;32m      1\u001b[0m \u001b[0mmy_var\u001b[0m \u001b[0;34m=\u001b[0m \u001b[0;36m42\u001b[0m\u001b[0;34m\u001b[0m\u001b[0m\n\u001b[0;32m----> 2\u001b[0;31m \u001b[0mprint\u001b[0m\u001b[0;34m(\u001b[0m\u001b[0mmy_var0\u001b[0m\u001b[0;34m)\u001b[0m\u001b[0;34m\u001b[0m\u001b[0m\n\u001b[0m",
      "\u001b[0;31mNameError\u001b[0m: name 'my_var0' is not defined"
     ]
    }
   ],
   "source": [
    "my_var = 42\n",
    "print(my_var0)"
   ]
  },
  {
   "cell_type": "markdown",
   "metadata": {},
   "source": [
    "В первом примере программа пытается поделить на ноль, а т.к. наша программа – не Чак Норрис и делить на ноль не умеет, возникает исключительная ситуация, о чем она сообщает нам с помошью исключения `ZeroDivisionError`. Во втором примере мы пытаемся получить из словаря элемент по ключу, которого не существует, и получаем исключение `KeyError`. В третем примере, мы пытаемся вывести значение несуществующей переменной, и получаем исключение `NameError`. "
   ]
  },
  {
   "cell_type": "markdown",
   "metadata": {},
   "source": [
    "# Список встроенных исключений\n",
    "\n",
    "Описан в [документации](https://docs.python.org/3/library/exceptions.html).\n",
    "\n",
    "```\n",
    "BaseException\n",
    " +-- SystemExit\n",
    " +-- KeyboardInterrupt\n",
    " +-- GeneratorExit\n",
    " +-- Exception\n",
    "      +-- StopIteration\n",
    "      +-- StopAsyncIteration\n",
    "      +-- ArithmeticError\n",
    "      |    +-- FloatingPointError\n",
    "      |    +-- OverflowError\n",
    "      |    +-- ZeroDivisionError\n",
    "      +-- AssertionError\n",
    "      +-- AttributeError\n",
    "      +-- BufferError\n",
    "      +-- EOFError\n",
    "      +-- ImportError\n",
    "      +-- LookupError\n",
    "      |    +-- IndexError\n",
    "      |    +-- KeyError\n",
    "      +-- MemoryError\n",
    "      +-- NameError\n",
    "      |    +-- UnboundLocalError\n",
    "      +-- OSError\n",
    "      |    +-- BlockingIOError\n",
    "      |    +-- ChildProcessError\n",
    "      |    +-- ConnectionError\n",
    "      |    |    +-- BrokenPipeError\n",
    "      |    |    +-- ConnectionAbortedError\n",
    "      |    |    +-- ConnectionRefusedError\n",
    "      |    |    +-- ConnectionResetError\n",
    "      |    +-- FileExistsError\n",
    "      |    +-- FileNotFoundError\n",
    "      |    +-- InterruptedError\n",
    "      |    +-- IsADirectoryError\n",
    "      |    +-- NotADirectoryError\n",
    "      |    +-- PermissionError\n",
    "      |    +-- ProcessLookupError\n",
    "      |    +-- TimeoutError\n",
    "      +-- ReferenceError\n",
    "      +-- RuntimeError\n",
    "      |    +-- NotImplementedError\n",
    "      |    +-- RecursionError\n",
    "      +-- SyntaxError\n",
    "      |    +-- IndentationError\n",
    "      |         +-- TabError\n",
    "      +-- SystemError\n",
    "      +-- TypeError\n",
    "      +-- ValueError\n",
    "      |    +-- UnicodeError\n",
    "      |         +-- UnicodeDecodeError\n",
    "      |         +-- UnicodeEncodeError\n",
    "      |         +-- UnicodeTranslateError\n",
    "      +-- Warning\n",
    "           +-- DeprecationWarning\n",
    "           +-- PendingDeprecationWarning\n",
    "           +-- RuntimeWarning\n",
    "           +-- SyntaxWarning\n",
    "           +-- UserWarning\n",
    "           +-- FutureWarning\n",
    "           +-- ImportWarning\n",
    "           +-- UnicodeWarning\n",
    "           +-- BytesWarning\n",
    "           +-- ResourceWarning\n",
    "```"
   ]
  },
  {
   "cell_type": "markdown",
   "metadata": {},
   "source": [
    "В Python 2 иерархия встроенных исключений немного [отличается](https://docs.python.org/2/library/exceptions.html)."
   ]
  },
  {
   "cell_type": "markdown",
   "metadata": {},
   "source": [
    "# Обработка исключений\n",
    "\n",
    "Для обработки исключений используется оператор `try`, например:"
   ]
  },
  {
   "cell_type": "code",
   "execution_count": null,
   "metadata": {
    "collapsed": false
   },
   "outputs": [],
   "source": [
    "while True:\n",
    "    try:\n",
    "        x = int(input(\"please enter a number: \"))\n",
    "        y = 1 / x\n",
    "        break\n",
    "    except ValueError:\n",
    "        print(\"oops! try again ...\")\n",
    "\n",
    "print(\"you've entered:\", x)\n",
    "print(\"y =\", y)"
   ]
  },
  {
   "cell_type": "markdown",
   "metadata": {},
   "source": [
    "Этот оператор работает так:\n",
    "* Вначале выполняется код внутри блока `try` (операторы между ключевыми словами `try` и `except`).\n",
    "* Если исключений не было, блок `except` пропускается, и выполняется код, который следует дальше.\n",
    "* Если возникло исключение, остальная часть кода блока `try` (от места возникновения исключения, и до конца блока) *пропускается*. Если **тип исключения** совпадает с типом, указанном в блоке `except`, выполнение переходит к этому блоку, а после него - выполняется код, следующий за оператором `try...except`.\n",
    "* Если не найдено ни одного блока `except` с подходящим типом исключения, оно попадает во внешний оператор `try` (т.е. они могут быть вложенными); если обработчик так и не был найден, Python выведет сообщение об ошибке и **traceback**, а затем завершит программу."
   ]
  },
  {
   "cell_type": "markdown",
   "metadata": {},
   "source": [
    "\n",
    "Если нужно не просто поймать исключение какого-то типа, а и сделать что-то с **самим объектом исключения** (например, залогировать его), его можно сохранить в переменную."
   ]
  },
  {
   "cell_type": "code",
   "execution_count": null,
   "metadata": {
    "collapsed": false
   },
   "outputs": [],
   "source": [
    "while True:\n",
    "    try:\n",
    "        x = int(input(\"please enter a number: \"))\n",
    "        y = 1 / x\n",
    "        break\n",
    "    except ValueError as e:\n",
    "        print(str(e) + \", try again ...\")\n",
    "\n",
    "print(\"you've entered:\", x)\n",
    "print(\"y =\", y)\n"
   ]
  },
  {
   "cell_type": "markdown",
   "metadata": {},
   "source": [
    "\n",
    "Можно указывать несколько типов исключений в одном блоке `except` (если их нужно обработать одинаково):"
   ]
  },
  {
   "cell_type": "code",
   "execution_count": null,
   "metadata": {
    "collapsed": false
   },
   "outputs": [],
   "source": [
    "while True:\n",
    "    try:\n",
    "        x = int(input(\"please enter a number: \"))\n",
    "        y = 1 / x\n",
    "        break\n",
    "    except (ValueError, ZeroDivisionError):\n",
    "        print(\"oops! try again ...\")\n",
    "\n",
    "print(\"x =\", x)\n",
    "print(\"y =\", y)"
   ]
  },
  {
   "cell_type": "markdown",
   "metadata": {},
   "source": [
    "\n",
    "Сохранять объект исключения в переменную в этом случае тоже можно:"
   ]
  },
  {
   "cell_type": "code",
   "execution_count": null,
   "metadata": {
    "collapsed": false
   },
   "outputs": [],
   "source": [
    "while True:\n",
    "    try:\n",
    "        x = int(input(\"please enter a number: \"))\n",
    "        y = 1 / x\n",
    "        break\n",
    "    except (ValueError, ZeroDivisionError) as e:\n",
    "        print(str(e) + \", try again ...\")\n",
    "\n",
    "print(\"x =\", x)\n",
    "print(\"y =\", y)"
   ]
  },
  {
   "cell_type": "markdown",
   "metadata": {},
   "source": [
    "\n",
    "Одному блоку `try` может соответствовать несколько блоков `except`:"
   ]
  },
  {
   "cell_type": "code",
   "execution_count": null,
   "metadata": {
    "collapsed": false
   },
   "outputs": [],
   "source": [
    "while True:\n",
    "    try:\n",
    "        x = int(input(\"please enter a number: \"))\n",
    "        y = 1 / x\n",
    "        break\n",
    "    except ValueError:\n",
    "        print(\"oops! incorrect number, try again ...\")\n",
    "    except ZeroDivisionError:\n",
    "        print(\"oops! zero devision error, try again ...\")\n",
    "\n",
    "print(\"x =\", x)\n",
    "print(\"y =\", y)"
   ]
  },
  {
   "cell_type": "markdown",
   "metadata": {},
   "source": [
    "\n",
    "В блоке `except` можно не указывать класс исключения, но это плохая практика (так же, как и указание класса `Exception`, от которого наследуется большинство исключений) – если так сделать, программа сможет перехватить исключение, которое она не ждет, и обработать его неправильно, что может привести к дальнейшему неправильному выполнению."
   ]
  },
  {
   "cell_type": "code",
   "execution_count": null,
   "metadata": {
    "collapsed": false
   },
   "outputs": [],
   "source": [
    "import json\n",
    "\n",
    "try:\n",
    "    with open(\"input.json\", \"r\") as fp:\n",
    "        # функция json.load бросает ValueError в случае ошибок\n",
    "        data = json.load(fp)\n",
    "\n",
    "except Exception:\n",
    "    print(\"could not decode JSON in file 'input.json'\")"
   ]
  },
  {
   "cell_type": "markdown",
   "metadata": {},
   "source": [
    "\n",
    "Так же, у оператора `try ... except` может быть ветка `else` которая выполняется в том случае, если выполнение блока `try` завершилось без ошибок."
   ]
  },
  {
   "cell_type": "code",
   "execution_count": null,
   "metadata": {
    "collapsed": false
   },
   "outputs": [],
   "source": [
    "try:\n",
    "    x = int(input(\"please enter x: \"))\n",
    "    y = int(input(\"please enter y: \"))\n",
    "except ValueError:\n",
    "    print(\"you've entered an incorrect number\")\n",
    "else:\n",
    "    print(\"x/y =\", x/y)"
   ]
  },
  {
   "cell_type": "markdown",
   "metadata": {},
   "source": [
    "\n",
    "Блок `else` является дополнением к блоку `except`, и должен идти после него; наличие блока `else` *без* блока `except` не допускается.\n"
   ]
  },
  {
   "cell_type": "code",
   "execution_count": null,
   "metadata": {
    "collapsed": false
   },
   "outputs": [],
   "source": [
    "try:\n",
    "    raise ValueError()\n",
    "else:\n",
    "    pass"
   ]
  },
  {
   "cell_type": "markdown",
   "metadata": {},
   "source": [
    "# Оператор `raise`\n",
    "\n",
    "Бросить исключение можно с помощью оператора `raise`, в который передается объект исключения:"
   ]
  },
  {
   "cell_type": "code",
   "execution_count": null,
   "metadata": {
    "collapsed": false
   },
   "outputs": [],
   "source": [
    "raise ValueError()"
   ]
  },
  {
   "cell_type": "markdown",
   "metadata": {},
   "source": [
    "\n",
    "Класс исключения – это такой же класс, как и все остальные, и то, какие параметры может принимать конструктор, зависит то класса. Но обычно конструктор классов исключений позволяет задать как минимум сообщение, описывающее ошибку."
   ]
  },
  {
   "cell_type": "code",
   "execution_count": null,
   "metadata": {
    "collapsed": false
   },
   "outputs": [],
   "source": [
    "raise ValueError(\"Hello, world!\")"
   ]
  },
  {
   "cell_type": "markdown",
   "metadata": {},
   "source": [
    "\n",
    "Оператор `raise` можно использовать внутри блока `except`. Это может быть полезным в двух случаях: если нужно перехватить исключение, и бросить вместо него свое, или если нужно залогировать исключение, и пробросить его на обработку \"вверх\".\n",
    "\n",
    "В первом случае хорошей практикой является использование оператора `raise ... from`, чтоб сохранить оригинальный объект исключения."
   ]
  },
  {
   "cell_type": "code",
   "execution_count": null,
   "metadata": {
    "collapsed": false
   },
   "outputs": [],
   "source": [
    "try:\n",
    "    raise NameError(\"Hi there!\")\n",
    "except NameError as e:\n",
    "    raise ValueError(\"Hello again!\") from e"
   ]
  },
  {
   "cell_type": "markdown",
   "metadata": {},
   "source": [
    "Если же нужно залогировать ошибку и бросить ее наверх, можно написать `raise` без указания объекта исключения."
   ]
  },
  {
   "cell_type": "code",
   "execution_count": null,
   "metadata": {
    "collapsed": false
   },
   "outputs": [],
   "source": [
    "try:\n",
    "    raise ValueError(\"I am an error!\")\n",
    "except ValueError as e:\n",
    "    print(\"an error has occurred: \" + str(e))\n",
    "    raise"
   ]
  },
  {
   "cell_type": "markdown",
   "metadata": {},
   "source": [
    "# Создание своих исключений\n",
    "\n",
    "Любое исключение является классом, который должен быть унаследован от `Exception` (или от его потомка). Потому можно определять собственные типы исключений, чтобы обрабатывать особые ситуации, которые могут возникнуть в ваших программах."
   ]
  },
  {
   "cell_type": "code",
   "execution_count": null,
   "metadata": {
    "collapsed": false
   },
   "outputs": [],
   "source": [
    "class InputError(Exception):\n",
    "    pass\n",
    "\n",
    "try:\n",
    "    x = int(input(\"please enter x:\"))\n",
    "except ValueError as e:\n",
    "    raise InputError(\"invalid number\") from e\n",
    "else:\n",
    "    print(\"x =\", x)"
   ]
  },
  {
   "cell_type": "markdown",
   "metadata": {},
   "source": [
    "# Clean-up Actions\n",
    "\n",
    "У оператора `try` может быть необязательный блок `finally`, который предназначен для описания действий, связанных с очисткой или освобождением ресурсов (например: закрытие файла, отключение от базы данных, удаление временных файлов и т.д.). Блок `finally` выполняется **всегда** после выполнения оператора `try` независимо от того, были исключения, или нет.\n",
    "\n",
    "Если исключение было брошено, но небыло обработано в блоке `except`, после выполнения блока `finally` это же исключение будет проброшено \"вверх\" для дальнейшей обработке."
   ]
  },
  {
   "cell_type": "code",
   "execution_count": 5,
   "metadata": {
    "collapsed": false
   },
   "outputs": [
    {
     "name": "stdout",
     "output_type": "stream",
     "text": [
      "hello from 'try'\n",
      "hello from 'finally'\n"
     ]
    },
    {
     "ename": "ValueError",
     "evalue": "",
     "output_type": "error",
     "traceback": [
      "\u001b[0;31m---------------------------------------------------------------------------\u001b[0m",
      "\u001b[0;31mValueError\u001b[0m                                Traceback (most recent call last)",
      "\u001b[0;32m<ipython-input-5-9eeea44dcec8>\u001b[0m in \u001b[0;36m<module>\u001b[0;34m()\u001b[0m\n\u001b[1;32m      2\u001b[0m     \u001b[0mprint\u001b[0m\u001b[0;34m(\u001b[0m\u001b[0;34m\"hello from 'try'\"\u001b[0m\u001b[0;34m)\u001b[0m\u001b[0;34m\u001b[0m\u001b[0m\n\u001b[1;32m      3\u001b[0m     \u001b[0;31m#raise NameError()\u001b[0m\u001b[0;34m\u001b[0m\u001b[0;34m\u001b[0m\u001b[0m\n\u001b[0;32m----> 4\u001b[0;31m     \u001b[0;32mraise\u001b[0m \u001b[0mValueError\u001b[0m\u001b[0;34m(\u001b[0m\u001b[0;34m)\u001b[0m\u001b[0;34m\u001b[0m\u001b[0m\n\u001b[0m\u001b[1;32m      5\u001b[0m \u001b[0;34m\u001b[0m\u001b[0m\n\u001b[1;32m      6\u001b[0m \u001b[0;32mexcept\u001b[0m \u001b[0mNameError\u001b[0m\u001b[0;34m:\u001b[0m\u001b[0;34m\u001b[0m\u001b[0m\n",
      "\u001b[0;31mValueError\u001b[0m: "
     ]
    }
   ],
   "source": [
    "try:\n",
    "    print(\"hello from 'try'\")\n",
    "    #raise NameError()\n",
    "    raise ValueError()\n",
    "\n",
    "except NameError:\n",
    "    print(\"hello from 'except'\")\n",
    "finally:\n",
    "    print(\"hello from 'finally'\")"
   ]
  },
  {
   "cell_type": "markdown",
   "metadata": {},
   "source": [
    "Блок `finally` так же выполняется при выходе из оператора `try` по любым другим условиям (например, возврат из функции с помошью `return`)."
   ]
  },
  {
   "cell_type": "code",
   "execution_count": 1,
   "metadata": {
    "collapsed": false
   },
   "outputs": [
    {
     "name": "stdout",
     "output_type": "stream",
     "text": [
      "hello from finally!\n",
      "Hello world\n"
     ]
    }
   ],
   "source": [
    "def foo(*args):\n",
    "    try:\n",
    "        return \" \".join(args)\n",
    "    finally:\n",
    "        print(\"hello from finally!\")\n",
    "\n",
    "res = foo(\"Hello\", \"world\")\n",
    "print(res)"
   ]
  },
  {
   "cell_type": "code",
   "execution_count": 6,
   "metadata": {
    "collapsed": false
   },
   "outputs": [
    {
     "name": "stdout",
     "output_type": "stream",
     "text": [
      "sum = 21\n",
      "file closed\n"
     ]
    }
   ],
   "source": [
    "values = []\n",
    "fp = open(\"input.txt\")\n",
    "\n",
    "try:\n",
    "    # читаем строки файла в переменную values\n",
    "    values = fp.readlines()\n",
    "\n",
    "    # создаем список, в котором каждый элемент списка values преобразован в int\n",
    "    values = list(map(int, values))\n",
    "\n",
    "except ValueError as e:\n",
    "    print(\"error: \" + str(e))\n",
    "else:\n",
    "    print(\"sum =\", sum(values))\n",
    "finally:\n",
    "    fp.close()\n",
    "    print(\"file closed\")"
   ]
  },
  {
   "cell_type": "markdown",
   "metadata": {},
   "source": [
    "# Полная структура оператора `try`\n",
    "* блок `try` является обязательным;\n",
    "* должен присутствовать хотя бы один блок `except` или `finally`;\n",
    "* блоков `except` может быть несколько, а `finally` может быть только один;\n",
    "* блок `finally` должен идти после блоков `except`;\n",
    "* блок `else` является необязательным, но так как это дополнение к блокам `except`, `else` должен идти после `except` (и перед `finally`);\n",
    "* наличие блоков `finally` и `else` (**без** `except`) не допускается"
   ]
  },
  {
   "cell_type": "code",
   "execution_count": null,
   "metadata": {
    "collapsed": false
   },
   "outputs": [],
   "source": [
    "try:\n",
    "    pass  # защищенный блок кода\n",
    "except ValueError as e:\n",
    "    pass  # блок обработки исключений класса ExceptionClass1\n",
    "except TypeError as e:\n",
    "    pass  # блок обработки исключений класса ExceptionClass2\n",
    "else:\n",
    "    pass  # этот блок выполняется если в блоке try не было исключений\n",
    "finally:\n",
    "    pass  # блок очистки - выполняется всегда"
   ]
  },
  {
   "cell_type": "code",
   "execution_count": null,
   "metadata": {
    "collapsed": true
   },
   "outputs": [],
   "source": []
  }
 ],
 "metadata": {
  "kernelspec": {
   "display_name": "Python 3",
   "language": "python",
   "name": "python3"
  },
  "language_info": {
   "codemirror_mode": {
    "name": "ipython",
    "version": 3
   },
   "file_extension": ".py",
   "mimetype": "text/x-python",
   "name": "python",
   "nbconvert_exporter": "python",
   "pygments_lexer": "ipython3",
   "version": "3.5.2"
  }
 },
 "nbformat": 4,
 "nbformat_minor": 1
}
