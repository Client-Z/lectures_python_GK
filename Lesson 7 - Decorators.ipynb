{
 "cells": [
  {
   "cell_type": "markdown",
   "metadata": {},
   "source": [
    "# Вложенные функции и замыкания"
   ]
  },
  {
   "cell_type": "markdown",
   "metadata": {},
   "source": [
    "Допустим, мы хотим решить такую **задачу**: есть функция, которая выполняет какие-то расчеты, и мы хотим вывести время ее выполнения."
   ]
  },
  {
   "cell_type": "code",
   "execution_count": 1,
   "metadata": {
    "collapsed": false
   },
   "outputs": [
    {
     "name": "stdout",
     "output_type": "stream",
     "text": [
      "res = 102.30000000000001, time = 0.00007\n"
     ]
    }
   ],
   "source": [
    "import time\n",
    "\n",
    "def calculate(x):\n",
    "    res = 0;\n",
    "    for i in range(x):\n",
    "        res += (2 ** i) / x\n",
    "    return res\n",
    "\n",
    "t = time.time()\n",
    "res = calculate(10)\n",
    "print(\"res = {}, time = {:.5f}\".format(res, time.time() - t))"
   ]
  },
  {
   "cell_type": "markdown",
   "metadata": {},
   "source": [
    "А если функция вызывается несколько раз? Наши друзья из солнечной Индии сделали бы так:"
   ]
  },
  {
   "cell_type": "code",
   "execution_count": 3,
   "metadata": {
    "collapsed": false
   },
   "outputs": [
    {
     "name": "stdout",
     "output_type": "stream",
     "text": [
      "res = 102.30000000000001, time = 0.00001\n",
      "res = 52428.75, time = 0.00003\n",
      "res = 35791394.099999994, time = 0.00001\n"
     ]
    },
    {
     "data": {
      "text/plain": [
       "35791394.099999994"
      ]
     },
     "execution_count": 3,
     "metadata": {},
     "output_type": "execute_result"
    }
   ],
   "source": [
    "import time\n",
    "\n",
    "def calculate(x):\n",
    "    \n",
    "    def get_result():\n",
    "        res = 0;\n",
    "        for i in range(x):\n",
    "            res += (2 ** i) / x\n",
    "        return res\n",
    "\n",
    "    t = time.time()\n",
    "    res = get_result()\n",
    "    print(\"res = {}, time = {:.5f}\".format(res, time.time() - t))\n",
    "\n",
    "    return res\n",
    "\n",
    "###\n",
    "calculate(10)\n",
    "calculate(20)\n",
    "calculate(30)"
   ]
  },
  {
   "cell_type": "markdown",
   "metadata": {},
   "source": [
    "Обратите внимание на 2 момента:\n",
    "1. Мы объявили функцию `get_result` внутри `calculate`: по сути, `get_result` будет создаваться на лету каждый раз при вызове `calculate`.\n",
    "2. Функция `get_result` обращается к переменной `x`, объявленной за пределами функции `get_result`.\n",
    "\n",
    "Когда мы оказываемся в такое ситуации (т.е. на лету создаем, работающую с переменными извне), это называется **замыканием**.\n",
    "\n",
    "**Замыкание** — это функция, которая динамически генерируется другой функцией, и они обе могут изменяться и запоминать значения переменных, которые были созданы (где-то) вне функции.\n"
   ]
  },
  {
   "cell_type": "markdown",
   "metadata": {},
   "source": [
    "# Декораторы"
   ]
  },
  {
   "cell_type": "markdown",
   "metadata": {},
   "source": [
    "А если таких функций `calculate` несколько? Можно вынести расчет времени в отдельную функцию. Обратите внимание, в функцию `logtime` мы передаем `calculate` и ее параметры для того, чтоб `calculate` была вызвана внутри функции `logtime`, иначе мы не сможет посчитать время ее выполнения."
   ]
  },
  {
   "cell_type": "code",
   "execution_count": 4,
   "metadata": {
    "collapsed": false
   },
   "outputs": [
    {
     "name": "stdout",
     "output_type": "stream",
     "text": [
      "res = 102.30000000000001, time = 176.83764\n",
      "res = 52428.75, time = 176.83776\n",
      "res = 35791394.099999994, time = 176.83785\n"
     ]
    },
    {
     "data": {
      "text/plain": [
       "35791394.099999994"
      ]
     },
     "execution_count": 4,
     "metadata": {},
     "output_type": "execute_result"
    }
   ],
   "source": [
    "import time\n",
    "\n",
    "def logtime(f, *args, **kw):\n",
    "    start = time.time()\n",
    "    res = f(*args, **kw)\n",
    "    print(\"res = {}, time = {:.5f}\".format(res, time.time() - t))\n",
    "    return res\n",
    "\n",
    "def calculate(x):\n",
    "    res = 0;\n",
    "    for i in range(x):\n",
    "        res += (2 ** i) / x\n",
    "    return res\n",
    "\n",
    "logtime(calculate, 10)\n",
    "logtime(calculate, 20)\n",
    "logtime(calculate, 30)"
   ]
  },
  {
   "cell_type": "markdown",
   "metadata": {},
   "source": [
    "А если мы хотим, чтоб время выполнения выводилось всегда, а писать `logtime(calculate ... )` каждый раз нам лень? Мы можем описать функцию `logtime` так, чтоб она создавала (и возвращала) новую функцию-обертку, вызывающую наш `calculate`, и выполняющую нужные нам действия (подсчет времени).\n",
    "\n",
    "А потом \"подменить\" наш `calculate` этой сгенерированной функцией-оберткой (т.е. результатом вызова `logtime`).\n"
   ]
  },
  {
   "cell_type": "code",
   "execution_count": 5,
   "metadata": {
    "collapsed": false
   },
   "outputs": [
    {
     "name": "stdout",
     "output_type": "stream",
     "text": [
      "res = 102.30000000000001, time = 257.81418\n",
      "res = 52428.75, time = 257.81427\n",
      "res = 35791394.099999994, time = 257.81433\n"
     ]
    },
    {
     "data": {
      "text/plain": [
       "35791394.099999994"
      ]
     },
     "execution_count": 5,
     "metadata": {},
     "output_type": "execute_result"
    }
   ],
   "source": [
    "import time\n",
    "\n",
    "def logtime(f):\n",
    "    \n",
    "    # объявляем функцию-обертку, которая вызывает функцию,\n",
    "    # переданную через параметр f\n",
    "    def wrapper(*args, **kw):\n",
    "        start = time.time()\n",
    "        res = f(*args, **kw)\n",
    "        print(\"res = {}, time = {:.5f}\".format(res, time.time() - t))\n",
    "        return res\n",
    "\n",
    "    return wrapper\n",
    "\n",
    "def calculate(x):\n",
    "    res = 0;\n",
    "    for i in range(x):\n",
    "        res += (2 ** i) / x\n",
    "    return res\n",
    "\n",
    "# замена calculate на функцию-обертку\n",
    "calculate = logtime(calculate)\n",
    "\n",
    "# здесь мы на самом деле вызываем уже не calculate,\n",
    "# а функцию wrapper, созданную внутри logtime\n",
    "calculate(10)\n",
    "calculate(20)\n",
    "calculate(30)"
   ]
  },
  {
   "cell_type": "markdown",
   "metadata": {},
   "source": [
    "После всех этих манипуляций, мы превратили функцию `logtime` в **декоратор**.\n",
    "\n",
    "**Декоратор** — это функция, которая принимает одну функцию в качестве аргумента и возвращает другую функцию.\n"
   ]
  },
  {
   "cell_type": "code",
   "execution_count": 6,
   "metadata": {
    "collapsed": false
   },
   "outputs": [
    {
     "name": "stdout",
     "output_type": "stream",
     "text": [
      "res = 102.30000000000001, time = 326.95899\n",
      "res = 52428.75, time = 326.95907\n",
      "res = 35791394.099999994, time = 326.95912\n"
     ]
    },
    {
     "data": {
      "text/plain": [
       "35791394.099999994"
      ]
     },
     "execution_count": 6,
     "metadata": {},
     "output_type": "execute_result"
    }
   ],
   "source": [
    "@logtime\n",
    "def calculate_2(x):\n",
    "    res = 0;\n",
    "    for i in range(x):\n",
    "        res += (2 ** i) / x\n",
    "    return res\n",
    "\n",
    "calculate_2(10)\n",
    "calculate_2(20)\n",
    "calculate_2(30)"
   ]
  },
  {
   "cell_type": "markdown",
   "metadata": {},
   "source": [
    "\n",
    "Т.е. **декораторы** — это, по сути, просто функции-обёртки, которые дают нам возможность делать что-либо до и после того, что сделает декорируемая функция, не изменяя её.\n"
   ]
  },
  {
   "cell_type": "code",
   "execution_count": 19,
   "metadata": {
    "collapsed": false
   },
   "outputs": [
    {
     "name": "stdout",
     "output_type": "stream",
     "text": [
      "<b><i>Hello!</i></b>\n"
     ]
    }
   ],
   "source": [
    "def bold(f):\n",
    "    def wrapper(*args, **kw):\n",
    "        return \"<b>\" + f(*args, **kw) + \"</b>\"\n",
    "    return wrapper\n",
    "\n",
    "def italic(f):\n",
    "    def wrapper(*args, **kw):\n",
    "        return \"<i>\" + f(*args, **kw) + \"</i>\"\n",
    "    return wrapper\n",
    "\n",
    "@bold\n",
    "@italic\n",
    "def say_hello():\n",
    "    return \"Hello!\"\n",
    "\n",
    "print(say_hello())"
   ]
  },
  {
   "cell_type": "code",
   "execution_count": 11,
   "metadata": {
    "collapsed": false
   },
   "outputs": [
    {
     "name": "stdout",
     "output_type": "stream",
     "text": [
      "<b><i>Hello!</i></b>\n"
     ]
    }
   ],
   "source": [
    "def say_hello():\n",
    "    return \"Hello!\"\n",
    "\n",
    "say_hello = italic(say_hello)\n",
    "say_hello = bold(say_hello)\n",
    "\n",
    "print(say_hello())"
   ]
  },
  {
   "cell_type": "markdown",
   "metadata": {},
   "source": [
    "# Про `functools.wraps`"
   ]
  },
  {
   "cell_type": "markdown",
   "metadata": {},
   "source": [
    "У функций есть свойства `__name__` и `__doc__`. Когда с помощью декоратора мы подменяем функцию, желательно копировать эти свойства в функцию обертку:"
   ]
  },
  {
   "cell_type": "code",
   "execution_count": 22,
   "metadata": {
    "collapsed": false
   },
   "outputs": [
    {
     "name": "stdout",
     "output_type": "stream",
     "text": [
      "hello\n",
      " Возвращает какую-то глупую фразу \n"
     ]
    }
   ],
   "source": [
    "def decorate(f):\n",
    "    def wrapper(*args, **kw):\n",
    "        return f(*args, **kw)\n",
    "    return wrapper\n",
    "\n",
    "# @decorate\n",
    "def hello():\n",
    "    \"\"\" Возвращает какую-то глупую фразу \"\"\"\n",
    "    return \"Hello\"\n",
    "\n",
    "print(hello.__name__)\n",
    "print(hello.__doc__)"
   ]
  },
  {
   "cell_type": "code",
   "execution_count": 23,
   "metadata": {
    "collapsed": false
   },
   "outputs": [
    {
     "name": "stdout",
     "output_type": "stream",
     "text": [
      "hello\n",
      " Возвращает какую-то глупую фразу \n"
     ]
    }
   ],
   "source": [
    "def decorate(f):\n",
    "    def wrapper(*args, **kw):\n",
    "        return f(*args, **kw)\n",
    "    wrapper.__name__ = f.__name__\n",
    "    wrapper.__doc__ = f.__doc__\n",
    "    return wrapper\n",
    "\n",
    "@decorate\n",
    "def hello():\n",
    "    \"\"\" Возвращает какую-то глупую фразу \"\"\"\n",
    "    return \"Hello\"\n",
    "\n",
    "print(hello.__name__)\n",
    "print(hello.__doc__)"
   ]
  },
  {
   "cell_type": "markdown",
   "metadata": {},
   "source": [
    "\n",
    "Но есть более простой и красивый способ – использовать декоратор `functools.wraps`:"
   ]
  },
  {
   "cell_type": "code",
   "execution_count": 25,
   "metadata": {
    "collapsed": false
   },
   "outputs": [
    {
     "name": "stdout",
     "output_type": "stream",
     "text": [
      "hello\n",
      " Возвращает какую-то глупую фразу \n"
     ]
    }
   ],
   "source": [
    "import functools\n",
    "\n",
    "def decorate(f):\n",
    "    @functools.wraps(f)\n",
    "    def wrapper(*args, **kw):\n",
    "        return f(*args, **kw)\n",
    "    return wrapper\n",
    "\n",
    "@decorate\n",
    "def hello():\n",
    "    \"\"\" Возвращает какую-то глупую фразу \"\"\"\n",
    "    return \"Hello\"\n",
    "\n",
    "print(hello.__name__)\n",
    "print(hello.__doc__)"
   ]
  },
  {
   "cell_type": "markdown",
   "metadata": {},
   "source": [
    "# Декораторы принимающие параметры"
   ]
  },
  {
   "cell_type": "code",
   "execution_count": 28,
   "metadata": {
    "collapsed": false
   },
   "outputs": [
    {
     "name": "stdout",
     "output_type": "stream",
     "text": [
      "<div><p>Hello</p></div>\n"
     ]
    }
   ],
   "source": [
    "import functools\n",
    "\n",
    "    def tag(t):\n",
    "        def decorator_factory(f):\n",
    "            @functools.wraps(f)\n",
    "            def wrapper(*args, **kw):\n",
    "                return t + f(*args, **kw) + t.replace(\"<\", \"</\")\n",
    "            return wrapper\n",
    "\n",
    "        return decorator_factory\n",
    "\n",
    "    @tag(\"<div>\")\n",
    "    @tag(\"<p>\")\n",
    "    def hello():\n",
    "        \"\"\" Возвращает какую-то глупую фразу \"\"\"\n",
    "        return \"Hello\"\n",
    "\n",
    "    print(hello())"
   ]
  },
  {
   "cell_type": "markdown",
   "metadata": {},
   "source": [
    "\n",
    "Можно сделать параметры декоратора необязательными. Но в этом случае писать декоратор нужно будет все-равно со скобками:"
   ]
  },
  {
   "cell_type": "code",
   "execution_count": 29,
   "metadata": {
    "collapsed": false
   },
   "outputs": [
    {
     "name": "stdout",
     "output_type": "stream",
     "text": [
      "<p>Hello</p>\n"
     ]
    }
   ],
   "source": [
    "import functools\n",
    "\n",
    "def tag(t=\"<p>\"):\n",
    "    def decorator_factory(f):\n",
    "        @functools.wraps(f)\n",
    "        def wrapper(*args, **kw):\n",
    "            return t + f(*args, **kw) + t.replace(\"<\", \"</\")\n",
    "        return wrapper\n",
    "\n",
    "    return decorator_factory\n",
    "\n",
    "@tag()\n",
    "def hello():\n",
    "    \"\"\" Возвращает какую-то глупую фразу \"\"\"\n",
    "    return \"Hello\"\n",
    "\n",
    "print(hello())"
   ]
  },
  {
   "cell_type": "markdown",
   "metadata": {},
   "source": [
    "# Декораторы классов"
   ]
  },
  {
   "cell_type": "code",
   "execution_count": 30,
   "metadata": {
    "collapsed": false
   },
   "outputs": [
    {
     "name": "stdout",
     "output_type": "stream",
     "text": [
      "True\n",
      "4449754024\n",
      "4449754024\n"
     ]
    }
   ],
   "source": [
    "import functools\n",
    "\n",
    "def singleton(cls):\n",
    "    \"\"\" Декоратор, для преобразования класса в Singleton \"\"\"\n",
    "    instances = {}\n",
    "    \n",
    "    @functools.wraps(cls)\n",
    "    def wrapper():\n",
    "        if cls not in instances:\n",
    "            instances[cls] = cls()\n",
    "        return instances[cls]\n",
    "\n",
    "    return wrapper\n",
    "\n",
    "@singleton\n",
    "class SomeService:\n",
    "    def say_hello(self):\n",
    "        print(\"Hello!\")\n",
    "\n",
    "obj1 = SomeService()\n",
    "obj2 = SomeService()\n",
    "\n",
    "print(obj1 is obj2)\n",
    "print(id(obj1))\n",
    "print(id(obj2))"
   ]
  },
  {
   "cell_type": "markdown",
   "metadata": {},
   "source": [
    "# Что еще почитать?\n",
    "* https://habrahabr.ru/post/141411/\n",
    "* https://habrahabr.ru/post/141501/"
   ]
  },
  {
   "cell_type": "code",
   "execution_count": null,
   "metadata": {
    "collapsed": true
   },
   "outputs": [],
   "source": []
  }
 ],
 "metadata": {
  "kernelspec": {
   "display_name": "Python 3",
   "language": "python",
   "name": "python3"
  },
  "language_info": {
   "codemirror_mode": {
    "name": "ipython",
    "version": 3
   },
   "file_extension": ".py",
   "mimetype": "text/x-python",
   "name": "python",
   "nbconvert_exporter": "python",
   "pygments_lexer": "ipython3",
   "version": "3.5.2"
  }
 },
 "nbformat": 4,
 "nbformat_minor": 1
}
