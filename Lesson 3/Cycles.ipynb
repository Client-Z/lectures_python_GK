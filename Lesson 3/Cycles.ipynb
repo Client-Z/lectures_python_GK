{
 "cells": [
  {
   "cell_type": "markdown",
   "metadata": {},
   "source": [
    "# Цикл `while`\n",
    "* Цикл `while` (пока) исполняется до тех пор, пока условие остается истинным\n",
    "* В Python (как и в C), любое ненулевое значение является истиной (`True`), а ноль является ложью (`False`)\n",
    "* Условием может быть строка, список или вообще любая последовательность - все, что имеет ненулевую длину, играет роль истины, пустые последовательности — лжи\n",
    "* Стандартные операции сравнения записываются так же, как и в C:\n",
    "    * `<` (меньше чем)\n",
    "    * `>` (больше чем)\n",
    "    * `==` (равно)\n",
    "    * `<=` (меньше или равно)\n",
    "    * `>=` (больше или равно)\n",
    "    * `!=` (не равно)"
   ]
  },
  {
   "cell_type": "code",
   "execution_count": 1,
   "metadata": {
    "collapsed": false
   },
   "outputs": [
    {
     "name": "stdout",
     "output_type": "stream",
     "text": [
      "1\n",
      "1\n",
      "2\n",
      "3\n",
      "5\n",
      "8\n"
     ]
    }
   ],
   "source": [
    "a, b = 0, 1\n",
    "while b < 10:\n",
    "    print(b)\n",
    "    a, b = b, a+b"
   ]
  },
  {
   "cell_type": "markdown",
   "metadata": {},
   "source": [
    "# Цикл `for`\n",
    "* Оператор `for` в Python проходит по элементам последовательности (списка или строки) в том порядке, в котором они в ней располагаются\n",
    "* В отличии от большинства остальных языков, оператор `for` в Python не является *циклом со счетчиком*\n",
    "> В *циклах со счетчиком* некоторая переменная (параметр) изменяет свое значение от заданного начального значения до конечного значения с некоторым шагом и для каждого значения этой переменной тело цикла выполняется один раз [википедия](https://ru.wikipedia.org/wiki/Цикл_(программирование))"
   ]
  },
  {
   "cell_type": "code",
   "execution_count": 2,
   "metadata": {
    "collapsed": false
   },
   "outputs": [
    {
     "name": "stdout",
     "output_type": "stream",
     "text": [
      "first 5\n",
      "second 6\n",
      "third 5\n"
     ]
    }
   ],
   "source": [
    "seq = ['first', 'second', 'third']\n",
    "for x in seq:\n",
    "    print(x, len(x))"
   ]
  },
  {
   "cell_type": "markdown",
   "metadata": {},
   "source": [
    "Изменять содержимое последовательности, по которой проходит цикл - небезопасно. Если нужно модифицировать список, использующийся для организации цикла, нужно передать циклу его копию, которую можно получить с помощью среза `[:]`."
   ]
  },
  {
   "cell_type": "code",
   "execution_count": 3,
   "metadata": {
    "collapsed": false
   },
   "outputs": [
    {
     "name": "stdout",
     "output_type": "stream",
     "text": [
      "['aaa', 'bbb', 'aba', 'bba', 'ads', 'dffd', 'aaa', 'aba', 'ads']\n"
     ]
    }
   ],
   "source": [
    "seq = ['aaa', 'bbb', 'aba', 'bba', 'ads', 'dffd']\n",
    "for s in seq[:]:\n",
    "    if s.startswith('a'):\n",
    "        seq.append(s)\n",
    "print(seq)"
   ]
  },
  {
   "cell_type": "markdown",
   "metadata": {},
   "source": [
    "# Функция `range()`\n",
    "Функция `range()` позволяет сгенерировать последовательность чисел. Принимает от 1 до 3 аргументов:\n",
    "* `range(N)` генерирует последовательность `[0, N-1]`\n",
    "* `range(M, N)` генерирует последовательность `[M, N-1]`\n",
    "* `range(M, N, K)` генерирует последовательность `[M, N-1]` с шагом `S`"
   ]
  },
  {
   "cell_type": "code",
   "execution_count": 4,
   "metadata": {
    "collapsed": false
   },
   "outputs": [
    {
     "name": "stdout",
     "output_type": "stream",
     "text": [
      "0\n",
      "1\n",
      "2\n",
      "3\n",
      "4\n"
     ]
    }
   ],
   "source": [
    "for i in range(5):\n",
    "    print(i)"
   ]
  },
  {
   "cell_type": "code",
   "execution_count": 5,
   "metadata": {
    "collapsed": false
   },
   "outputs": [
    {
     "name": "stdout",
     "output_type": "stream",
     "text": [
      "5\n",
      "6\n",
      "7\n",
      "8\n",
      "9\n"
     ]
    }
   ],
   "source": [
    "for i in range(5, 10):\n",
    "    print(i)"
   ]
  },
  {
   "cell_type": "code",
   "execution_count": 6,
   "metadata": {
    "collapsed": false
   },
   "outputs": [
    {
     "name": "stdout",
     "output_type": "stream",
     "text": [
      "5\n",
      "7\n",
      "9\n"
     ]
    }
   ],
   "source": [
    "for i in range(5, 10, 2):\n",
    "    print(i)"
   ]
  },
  {
   "cell_type": "markdown",
   "metadata": {},
   "source": [
    "В Python 3 `range()` возвращает не саму последовательность, а специальный объект (генератор), который может сгенерировать это последовательность."
   ]
  },
  {
   "cell_type": "code",
   "execution_count": 7,
   "metadata": {
    "collapsed": false
   },
   "outputs": [
    {
     "data": {
      "text/plain": [
       "range(0, 5)"
      ]
     },
     "execution_count": 7,
     "metadata": {},
     "output_type": "execute_result"
    }
   ],
   "source": [
    "range(5)"
   ]
  },
  {
   "cell_type": "markdown",
   "metadata": {},
   "source": [
    "Если нужно получить именно *последовательность* в виде списка, можно сделать так:"
   ]
  },
  {
   "cell_type": "code",
   "execution_count": 8,
   "metadata": {
    "collapsed": false
   },
   "outputs": [
    {
     "data": {
      "text/plain": [
       "[0, 1, 2, 3, 4]"
      ]
     },
     "execution_count": 8,
     "metadata": {},
     "output_type": "execute_result"
    }
   ],
   "source": [
    "list(range(5))"
   ]
  },
  {
   "cell_type": "markdown",
   "metadata": {},
   "source": [
    "Поведение, аналогичное классическому цикло со счетчиком, можно получить если скомбинировать `range()` и `len()`:"
   ]
  },
  {
   "cell_type": "code",
   "execution_count": 9,
   "metadata": {
    "collapsed": false
   },
   "outputs": [
    {
     "name": "stdout",
     "output_type": "stream",
     "text": [
      "0 Mary\n",
      "1 had\n",
      "2 a\n",
      "3 little\n",
      "4 lamb\n"
     ]
    }
   ],
   "source": [
    "seq = ['Mary', 'had', 'a', 'little', 'lamb']\n",
    "for i in range(len(seq)):\n",
    "    print(i, seq[i])"
   ]
  },
  {
   "cell_type": "markdown",
   "metadata": {},
   "source": [
    "Еще в таких случаях удобно пользоваться функцией `enumerate()`:"
   ]
  },
  {
   "cell_type": "code",
   "execution_count": 2,
   "metadata": {
    "collapsed": false
   },
   "outputs": [
    {
     "name": "stdout",
     "output_type": "stream",
     "text": [
      "0 Mary\n",
      "1 had\n",
      "2 a\n",
      "3 little\n",
      "4 lamb\n"
     ]
    }
   ],
   "source": [
    "seq = ['Mary', 'had', 'a', 'little', 'lamb']\n",
    "for i, value in enumerate(seq):\n",
    "    print(i, value)"
   ]
  },
  {
   "cell_type": "markdown",
   "metadata": {},
   "source": [
    "# Оператор `break` и ветка `else`\n",
    "Оператор `break` прерывает выполнение самого близкого вложенного цикла (`for` или `while`) по аналогии с языком C.\n",
    "\n",
    "Так же операторы циклов могут иметь ветку `else`. Она исполняется, когда цикл выполнил перебор до конца (в случае `for`) или когда условие становится ложным (в случае `while`), но не в тех случаях, когда цикл прерывается по `break`."
   ]
  },
  {
   "cell_type": "code",
   "execution_count": 11,
   "metadata": {
    "collapsed": false
   },
   "outputs": [
    {
     "name": "stdout",
     "output_type": "stream",
     "text": [
      "2 - простое число\n",
      "3 - простое число\n",
      "4 равно 2 * 2\n",
      "5 - простое число\n",
      "6 равно 2 * 3\n",
      "7 - простое число\n",
      "8 равно 2 * 4\n",
      "9 равно 3 * 3\n"
     ]
    }
   ],
   "source": [
    "for n in range(2, 10): \n",
    "    for x in range(2, int(n ** 0.5) + 1):\n",
    "        if n % x == 0:\n",
    "            print(n, 'равно', x, '*', n//x)\n",
    "            break\n",
    "    else:\n",
    "        print(n, '- простое число')"
   ]
  },
  {
   "cell_type": "markdown",
   "metadata": {},
   "source": [
    "Оператор `continue` продолжает выполнение цикла со следующей итерации:"
   ]
  },
  {
   "cell_type": "code",
   "execution_count": 12,
   "metadata": {
    "collapsed": false
   },
   "outputs": [
    {
     "name": "stdout",
     "output_type": "stream",
     "text": [
      "0\n",
      "2\n",
      "4\n",
      "6\n",
      "8\n"
     ]
    }
   ],
   "source": [
    "for x in range(10):\n",
    "    if x % 2:\n",
    "        continue\n",
    "    print(x)"
   ]
  },
  {
   "cell_type": "markdown",
   "metadata": {},
   "source": [
    "# Оператор `pass`\n",
    "Оператор `pass` не делает ничего, и используется, когда от программы не требуется действий, но синтаксически требуется присутствие оператора."
   ]
  },
  {
   "cell_type": "code",
   "execution_count": 5,
   "metadata": {
    "collapsed": false
   },
   "outputs": [
    {
     "name": "stdout",
     "output_type": "stream",
     "text": [
      "Введите число: -1\n",
      "BOOM!\n"
     ]
    }
   ],
   "source": [
    "x = int(input(\"Введите число: \"))\n",
    "if x < 0:\n",
    "    pass\n",
    "    pass; pass;\n",
    "    print(\"BOOM!\")\n",
    "else:\n",
    "    print(\"sdfsdf\", x)"
   ]
  },
  {
   "cell_type": "markdown",
   "metadata": {},
   "source": [
    "# Домашнее задание\n",
    "* https://ru.wikibooks.org/wiki/Python/Учебник_Python_3.1 (раздел 5)\n",
    "* https://docs.python.org/3/tutorial/ (раздел 4)\n",
    "* Практические задания"
   ]
  }
 ],
 "metadata": {
  "kernelspec": {
   "display_name": "Python 3",
   "language": "python",
   "name": "python3"
  },
  "language_info": {
   "codemirror_mode": {
    "name": "ipython",
    "version": 3
   },
   "file_extension": ".py",
   "mimetype": "text/x-python",
   "name": "python",
   "nbconvert_exporter": "python",
   "pygments_lexer": "ipython3",
   "version": "3.5.2"
  }
 },
 "nbformat": 4,
 "nbformat_minor": 1
}
