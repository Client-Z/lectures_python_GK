{
 "cells": [
  {
   "cell_type": "markdown",
   "metadata": {
    "slideshow": {
     "slide_type": "slide"
    }
   },
   "source": [
    "# Оператор if"
   ]
  },
  {
   "cell_type": "markdown",
   "metadata": {
    "slideshow": {
     "slide_type": "subslide"
    }
   },
   "source": [
    "```\n",
    "if условие:\n",
    "\tоператоры\n",
    "```\n",
    "\n",
    "* условие - это логическое выражение\n",
    "* операторы - это последовательность каких-либо других команд.\n",
    "\n",
    "Блок операторов не может быть пустым"
   ]
  },
  {
   "cell_type": "code",
   "execution_count": 14,
   "metadata": {
    "collapsed": false,
    "slideshow": {
     "slide_type": "subslide"
    }
   },
   "outputs": [
    {
     "name": "stdout",
     "output_type": "stream",
     "text": [
      "Enter number: 6\n",
      "Hello A am if statement\n",
      "x is greater than 5\n"
     ]
    }
   ],
   "source": [
    "x = int(input(\"Enter number: \"))\n",
    "if x > 5:\n",
    "    print(\"Hello A am if statement\")\n",
    "    print (\"x is greater than 5\")"
   ]
  },
  {
   "cell_type": "markdown",
   "metadata": {
    "slideshow": {
     "slide_type": "slide"
    }
   },
   "source": [
    "## Односторочная форма (нежелательна)\n",
    "\n",
    "```\n",
    "if условие: операторы\n",
    "``` \n",
    "\n",
    "Здесь операторы разделяються точкой с запятой"
   ]
  },
  {
   "cell_type": "code",
   "execution_count": 2,
   "metadata": {
    "collapsed": false,
    "slideshow": {
     "slide_type": "slide"
    }
   },
   "outputs": [
    {
     "name": "stdout",
     "output_type": "stream",
     "text": [
      "One line if\n",
      "x is True\n"
     ]
    }
   ],
   "source": [
    "x = True\n",
    "if x: print(\"One line if\"); print(\"x is True\"); "
   ]
  },
  {
   "cell_type": "markdown",
   "metadata": {
    "slideshow": {
     "slide_type": "slide"
    }
   },
   "source": [
    "# Оператор if-else\n",
    "\n",
    "```\n",
    "if условие:\n",
    "    блок_операторов1\n",
    "else:\n",
    "    блок_операторов2\n",
    "```\n",
    "\n",
    "Если условие истинно, выполняется блок_операторов1 иначе блок_операторов2"
   ]
  },
  {
   "cell_type": "code",
   "execution_count": 5,
   "metadata": {
    "collapsed": false,
    "slideshow": {
     "slide_type": "slide"
    }
   },
   "outputs": [
    {
     "name": "stdout",
     "output_type": "stream",
     "text": [
      "Enter number: 3\n",
      "Hello A am else statment\n",
      "x is lower than 5\n"
     ]
    }
   ],
   "source": [
    "x = int(input(\"Enter number: \"))\n",
    "if x > 5:\n",
    "    print(\"Hello A am if statment\")\n",
    "    print (\"x is greater than 5\")\n",
    "else:\n",
    "    print(\"Hello A am else statment\")\n",
    "    print (\"x is lower than 5\")   "
   ]
  },
  {
   "cell_type": "markdown",
   "metadata": {
    "collapsed": true
   },
   "source": [
    "# Оператор ветвления с несколькими условиями\n",
    "\n",
    "```\n",
    "if условие1:\n",
    "    блок_операторов_1\n",
    "elif условие2:\n",
    "    блок_операторов_2\n",
    "elif условие3:\n",
    "    блок_операторов_3\n",
    "...\n",
    "else:\n",
    "    блок_операторов_N\n",
    "```\n",
    "\n",
    "Ветка else не обязательна"
   ]
  },
  {
   "cell_type": "code",
   "execution_count": 4,
   "metadata": {
    "collapsed": false
   },
   "outputs": [
    {
     "name": "stdout",
     "output_type": "stream",
     "text": [
      "Меню:\n",
      "      1. Файл\n",
      "      2. Вид\n",
      "      3. Выход\n",
      "\n",
      "Ваш выбор: 2\n",
      "Вы открыли меню \"Вид\"\n"
     ]
    }
   ],
   "source": [
    "print('''Меню:\n",
    "      1. Файл\n",
    "      2. Вид\n",
    "      3. Выход\n",
    "''')\n",
    "\n",
    "choice = int(input('Ваш выбор: '))\n",
    "\n",
    "if choice == 1:\n",
    "    print('Вы выбрали пункт меню \"Файл\"')\n",
    "elif choice == 2:\n",
    "    print('Вы открыли меню \"Вид\"')\n",
    "elif choice == 3:\n",
    "    print('Завершение.')\n",
    "else:\n",
    "    print('Некорректный выбор')"
   ]
  },
  {
   "cell_type": "markdown",
   "metadata": {},
   "source": [
    "Switch оператора в python нет"
   ]
  },
  {
   "cell_type": "code",
   "execution_count": 5,
   "metadata": {
    "collapsed": false
   },
   "outputs": [
    {
     "name": "stdout",
     "output_type": "stream",
     "text": [
      "Ready\n"
     ]
    }
   ],
   "source": [
    "is_ready = True\n",
    "\n",
    "# Присваиваем значение переменной в зависимости от условия\n",
    "if is_ready:\n",
    "    state_msg = 'Ready'\n",
    "else:\n",
    "    state_msg = 'Not ready yet'\n",
    "\n",
    "print(state_msg)"
   ]
  },
  {
   "cell_type": "code",
   "execution_count": 2,
   "metadata": {
    "collapsed": false
   },
   "outputs": [
    {
     "name": "stdout",
     "output_type": "stream",
     "text": [
      "Ready\n"
     ]
    }
   ],
   "source": [
    "is_ready = True\n",
    "\n",
    "state_msg = 'Ready' if is_ready else 'Not ready yet'\n",
    "print(state_msg)"
   ]
  },
  {
   "cell_type": "markdown",
   "metadata": {},
   "source": [
    "# Логические значения объектов\n",
    "* любой объект в python может быть рассмотрен как логическое значение для использования в условии оператора if, конструирования значения типа bool или использвания как операнда логических операций\n",
    "* Типы (NoneType, bool, int, float, complex, str) отражаються на логические значения так:None, False, 0, 0.0, 0j, ''(пустая строка) считаються ложнами значениями все остальные истинными."
   ]
  },
  {
   "cell_type": "markdown",
   "metadata": {},
   "source": [
    "Вместо"
   ]
  },
  {
   "cell_type": "code",
   "execution_count": 15,
   "metadata": {
    "collapsed": false
   },
   "outputs": [
    {
     "name": "stdout",
     "output_type": "stream",
     "text": [
      "3  is  <class 'int'>\n"
     ]
    }
   ],
   "source": [
    "string = \"3\"\n",
    "if string is not None and string != '':\n",
    "    num = int(string)\n",
    "    \n",
    "print (num, \" is \", type(num))"
   ]
  },
  {
   "cell_type": "markdown",
   "metadata": {},
   "source": [
    "можно написать"
   ]
  },
  {
   "cell_type": "code",
   "execution_count": 16,
   "metadata": {
    "collapsed": false
   },
   "outputs": [
    {
     "name": "stdout",
     "output_type": "stream",
     "text": [
      "3  is  <class 'int'>\n"
     ]
    }
   ],
   "source": [
    "string = \"3\"\n",
    "if string:\n",
    "    num = int(string)\n",
    "    \n",
    "print (num, \" is \", type(num))"
   ]
  }
 ],
 "metadata": {
  "kernelspec": {
   "display_name": "Python 3",
   "language": "python",
   "name": "python3"
  },
  "language_info": {
   "codemirror_mode": {
    "name": "ipython",
    "version": 3
   },
   "file_extension": ".py",
   "mimetype": "text/x-python",
   "name": "python",
   "nbconvert_exporter": "python",
   "pygments_lexer": "ipython3",
   "version": "3.5.2"
  }
 },
 "nbformat": 4,
 "nbformat_minor": 0
}
