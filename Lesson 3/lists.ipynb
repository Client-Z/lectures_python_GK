{
 "cells": [
  {
   "cell_type": "markdown",
   "metadata": {
    "collapsed": true
   },
   "source": [
    "#  Списки"
   ]
  },
  {
   "cell_type": "markdown",
   "metadata": {},
   "source": [
    "* Массив – набор фиксированного количества однотипных элементов, расположенных в памяти непосредственно друг за другом, доступ к которым осуществляется по индексу (номеру).\n",
    "* Список – это тип данных, представляющий собой упорядоченную последовательность определённых значений, которые могут повторяться. Количество элементов списка может быть произвольным."
   ]
  },
  {
   "cell_type": "markdown",
   "metadata": {},
   "source": [
    "* В Python вместо массивов, как правило, используются списки.\n",
    "* Тип данных, который реализует списки, – list.\n",
    "* Список в Python является изменяемой (mutable) структурой данных.\n",
    "* Список в Python является гетерогенной структурой данных."
   ]
  },
  {
   "cell_type": "code",
   "execution_count": 3,
   "metadata": {
    "collapsed": false
   },
   "outputs": [
    {
     "name": "stdout",
     "output_type": "stream",
     "text": [
      "Список чисел: [1, 2, 3, 5]\n",
      "Список символов: ['a', 'c', 'z', 'x']\n",
      "Пустой список: []\n"
     ]
    }
   ],
   "source": [
    "# int_list – список из четырёх целых чисел\n",
    "int_list = [1, 2, 3, 5]\n",
    "# char_list – список, состоящий из четырёх символов\n",
    "char_list = ['a', 'c', 'z', 'x']\n",
    "# empty_list – пустой список\n",
    "empty_list = []\n",
    "\n",
    "print('Список чисел:', int_list)\n",
    "print('Список символов:', char_list)\n",
    "print('Пустой список:', empty_list)"
   ]
  },
  {
   "cell_type": "markdown",
   "metadata": {},
   "source": [
    "### Индексация списков"
   ]
  },
  {
   "cell_type": "markdown",
   "metadata": {},
   "source": [
    "* В Python списки можно индексировать, как массивы.\n",
    "* Отсчёт индексов идёт с нуля.\n",
    "* Для получения элемента по индексу следует после имени списка указать индекс в квадратных скобках.\n",
    "* Можно также индексировать списки с конца. В таком случае задаётся отрицательный индекс, начиная с -1.\n",
    "```\n",
    "first_element = my_list[0] \n",
    "second_element = my_list[1] \n",
    "nth_element = my_list[n] \n",
    "last_element = my_list[-1]\n",
    "```"
   ]
  },
  {
   "cell_type": "code",
   "execution_count": 4,
   "metadata": {
    "collapsed": false
   },
   "outputs": [
    {
     "name": "stdout",
     "output_type": "stream",
     "text": [
      "5\n",
      "7\n"
     ]
    }
   ],
   "source": [
    "# Создание списка чисел\n",
    "my_list = [5, 7, 9, 1, 1, 2]\n",
    "\n",
    "# Вывод первого и второго значений\n",
    "print(my_list[0])\n",
    "print(my_list[1])"
   ]
  },
  {
   "cell_type": "code",
   "execution_count": 6,
   "metadata": {
    "collapsed": false
   },
   "outputs": [
    {
     "name": "stdout",
     "output_type": "stream",
     "text": [
      "Введите номер элемента: 1\n",
      "7\n"
     ]
    }
   ],
   "source": [
    "# Ввод индекса\n",
    "index = int(input('Введите номер элемента: '))\n",
    "# Получение элемента\n",
    "element = my_list[index]\n",
    "# Вывод значения на экран\n",
    "print(element)"
   ]
  },
  {
   "cell_type": "markdown",
   "metadata": {},
   "source": [
    "### Отрицательные индексы\n",
    "Можно также использовать отрицательные индексы.\n",
    "В таком случае обход элементов начинается не с первого, а с последнего. Индекс последнего элемента списка – -1,\n",
    "предпоследнего – -2 и т.д."
   ]
  },
  {
   "cell_type": "code",
   "execution_count": 8,
   "metadata": {
    "collapsed": false
   },
   "outputs": [
    {
     "name": "stdout",
     "output_type": "stream",
     "text": [
      "1\n",
      "7\n"
     ]
    }
   ],
   "source": [
    "# Создание списка чисел\n",
    "my_list = [5, 7, 9, 1, 1, 2]\n",
    "\n",
    "# Получение предпоследнего значения\n",
    "pre_last = my_list[-2]  # pre_last == 1\n",
    "print(pre_last)\n",
    "\n",
    "# Вычисление суммы первого и последнего значений\n",
    "result = my_list[0] + my_list[-1]\n",
    "print(result)"
   ]
  },
  {
   "cell_type": "markdown",
   "metadata": {},
   "source": [
    "### Срезы списков\n",
    "\n",
    "* Можно также получить группу элементов по их индексам. Эта операция называется срезом списка (list slicing). \n",
    "* Для получения среза списка в квадратных скобках указывается индекс первого элемента, затем через двоеточие записывается индекс, наединицу больший индекса последнего требуемого элемента. Можно также добавить ещё одно двоеточие и шаг среза. \n",
    "* Можно не указывать начальный и/или конечный индексы. Значением по умолчанию для начального индекса является 0, для конечного — длина списка. Если не указанни начальный, ни конечный индексы, ни шаг, то my list[:] вернёткопию списка my list.\n",
    "```\n",
    "new list = my list start:end: step\n",
    "```"
   ]
  },
  {
   "cell_type": "code",
   "execution_count": 9,
   "metadata": {
    "collapsed": false
   },
   "outputs": [
    {
     "name": "stdout",
     "output_type": "stream",
     "text": [
      "[5, 7, 9]\n",
      "[9, 1]\n",
      "[1]\n"
     ]
    }
   ],
   "source": [
    "# Создание списка чисел\n",
    "my_list = [5, 7, 9, 1, 1, 2]\n",
    "\n",
    "# Получение среза списка от нулевого (первого) элемента (включая его)\n",
    "# до третьего (четвёртого) (не включая)\n",
    "sub_list = my_list[0:3]\n",
    "# Вывод полученного списка\n",
    "print(sub_list)\n",
    "\n",
    "# Вывод элементов списка от второго до предпоследнего\n",
    "print(my_list[2:-2])\n",
    "# Вывод элементов списка от четвёртого (пятого) до пятого (шестого)\n",
    "print(my_list[4:5])"
   ]
  },
  {
   "cell_type": "code",
   "execution_count": 10,
   "metadata": {
    "collapsed": false
   },
   "outputs": [
    {
     "name": "stdout",
     "output_type": "stream",
     "text": [
      "[5, 9, 1]\n",
      "[9]\n",
      "[2, 1, 1, 9, 7]\n"
     ]
    }
   ],
   "source": [
    "# Выбор каждого второго значения списка, не включая последний элемент\n",
    "sub_list = my_list[0:-1:2]\n",
    "# Вывод полученного списка\n",
    "print(sub_list)\n",
    "\n",
    "# Вывод элементов списка от второго (третьего) до предпоследнего с шагом два\n",
    "print(my_list[2:-2:2])\n",
    "# Вывод всех элементов списка, кроме первого, в обратном порядке\n",
    "print(my_list[-1:0:-1])"
   ]
  },
  {
   "cell_type": "code",
   "execution_count": 12,
   "metadata": {
    "collapsed": false
   },
   "outputs": [
    {
     "name": "stdout",
     "output_type": "stream",
     "text": [
      "[9, 1, 1, 2]\n",
      "[5, 7, 9, 1]\n",
      "[2, 1, 1, 9, 7, 5]\n"
     ]
    }
   ],
   "source": [
    "# Вывод элементов списка от второго (третьего) значения до конца списка\n",
    "print(my_list[2:])\n",
    "# Вывод всех элементов списка от начала до предпоследнего элемента\n",
    "print(my_list[:-2])\n",
    "# Вывод всех элементов списка в обратном порядке\n",
    "print(my_list[::-1])"
   ]
  },
  {
   "cell_type": "markdown",
   "metadata": {},
   "source": [
    " Для проверки вхождения элемента в список используется операция **in**"
   ]
  },
  {
   "cell_type": "code",
   "execution_count": 14,
   "metadata": {
    "collapsed": false
   },
   "outputs": [
    {
     "name": "stdout",
     "output_type": "stream",
     "text": [
      "Введите число: 7\n",
      "Число входит в список\n"
     ]
    }
   ],
   "source": [
    "# Ввод значения\n",
    "value = int(input('Введите число: '))\n",
    "\n",
    "# Проверка, находится ли данное число в списке\n",
    "if value in my_list:\n",
    "    print('Число входит в список')\n",
    "else:\n",
    "    print('Число не входит в список')"
   ]
  },
  {
   "cell_type": "markdown",
   "metadata": {},
   "source": [
    "Функция **len** возвращает длинну списка"
   ]
  },
  {
   "cell_type": "code",
   "execution_count": 15,
   "metadata": {
    "collapsed": false
   },
   "outputs": [
    {
     "name": "stdout",
     "output_type": "stream",
     "text": [
      "7\n"
     ]
    }
   ],
   "source": [
    "# Создание списка\n",
    "my_list = [1, 5, 1, 3, 7, 8, 124]\n",
    "\n",
    "# Вывод количества элеметов списка\n",
    "print(len(my_list))"
   ]
  },
  {
   "cell_type": "markdown",
   "metadata": {},
   "source": [
    "**len** и **in** так же работают для string\n",
    "\n",
    "Для строк так же **in** умеет проверять вхождение подстроки в строку"
   ]
  },
  {
   "cell_type": "markdown",
   "metadata": {},
   "source": [
    "### Операции со списками"
   ]
  },
  {
   "cell_type": "markdown",
   "metadata": {},
   "source": [
    "Для добавления нового элемента используем метод append\n",
    "```\n",
    "my_list.append(value)\n",
    "```\n",
    "\n",
    "Для удаления элемента списка по индексу используеться оператор del\n",
    "```\n",
    "del my_list[index]\n",
    "```\n",
    "\n",
    "Для изменения элемента списка используеться оператор присваивания\n",
    "```\n",
    "my_list[index] = value\n",
    "```"
   ]
  },
  {
   "cell_type": "code",
   "execution_count": 17,
   "metadata": {
    "collapsed": false
   },
   "outputs": [
    {
     "name": "stdout",
     "output_type": "stream",
     "text": [
      "[3, 5, 8]\n"
     ]
    }
   ],
   "source": [
    "# Создание пустого списка\n",
    "my_list = []\n",
    "\n",
    "# Метод append добавляет значение в список\n",
    "my_list.append(3)\n",
    "my_list.append(5)\n",
    "my_list.append(my_list[0] + my_list[1])\n",
    "\n",
    "# Вывод списка на экран\n",
    "print(my_list)"
   ]
  },
  {
   "cell_type": "code",
   "execution_count": 18,
   "metadata": {
    "collapsed": false
   },
   "outputs": [
    {
     "name": "stdout",
     "output_type": "stream",
     "text": [
      "[5, 1, 5, 7, 8, 1, 0, -23]\n",
      "[5, 1, 7, 8, 1, 0, -23]\n"
     ]
    }
   ],
   "source": [
    "# Создание списка чисел\n",
    "my_list = [5, 1, 5, 7, 8, 1, 0, -23]\n",
    "\n",
    "# Вывод списка\n",
    "print(my_list)\n",
    "\n",
    "# Оператор del удаляет заданный элемент\n",
    "del my_list[2]\n",
    "\n",
    "# Вывод списка\n",
    "print(my_list)"
   ]
  },
  {
   "cell_type": "code",
   "execution_count": 19,
   "metadata": {
    "collapsed": false
   },
   "outputs": [
    {
     "name": "stdout",
     "output_type": "stream",
     "text": [
      "[5, 1, 5, 7, 8, 1, 0, -23]\n",
      "Введите индекс элемента списка (от -8 до 7): 5\n",
      "Введите новое значение заданного элемента: 56\n",
      "[5, 1, 5, 7, 8, 56, 0, -23]\n"
     ]
    }
   ],
   "source": [
    "# Создание списка чисел\n",
    "my_list = [5, 1, 5, 7, 8, 1, 0, -23]\n",
    "\n",
    "# Вывод списка\n",
    "print(my_list)\n",
    "\n",
    "# Получение длины списка\n",
    "length = len(my_list)\n",
    "\n",
    "# Ввод индекса\n",
    "index = length\n",
    "while not -length <= index < length:\n",
    "    index = int(input('Введите индекс элемента списка (от %d до %d): '\n",
    "                      % (-length, length - 1)))\n",
    "\n",
    "# Ввод нового значения\n",
    "value = int(input('Введите новое значение заданного элемента: '))\n",
    "\n",
    "# Изменение элемента списка\n",
    "my_list[index] = value\n",
    "\n",
    "# Вывод списка на экран\n",
    "print(my_list)"
   ]
  },
  {
   "cell_type": "code",
   "execution_count": null,
   "metadata": {
    "collapsed": true
   },
   "outputs": [],
   "source": []
  }
 ],
 "metadata": {
  "kernelspec": {
   "display_name": "Python 3",
   "language": "python",
   "name": "python3"
  },
  "language_info": {
   "codemirror_mode": {
    "name": "ipython",
    "version": 3
   },
   "file_extension": ".py",
   "mimetype": "text/x-python",
   "name": "python",
   "nbconvert_exporter": "python",
   "pygments_lexer": "ipython3",
   "version": "3.5.2"
  }
 },
 "nbformat": 4,
 "nbformat_minor": 0
}
