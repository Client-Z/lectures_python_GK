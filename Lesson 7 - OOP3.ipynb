{
 "cells": [
  {
   "cell_type": "markdown",
   "metadata": {},
   "source": [
    "# Абстрактные классы и полиморфизм"
   ]
  },
  {
   "cell_type": "markdown",
   "metadata": {},
   "source": [
    "**Задача**. Нужно разработать механизм, который позволит выводить на консоль геометрические фигуры, который можно легко дополнять новыми описаниями. Самая простая реализация:"
   ]
  },
  {
   "cell_type": "code",
   "execution_count": 1,
   "metadata": {
    "collapsed": true
   },
   "outputs": [],
   "source": [
    "def draw(figures):\n",
    "    for fig in figures:\n",
    "        fig.draw()"
   ]
  },
  {
   "cell_type": "markdown",
   "metadata": {},
   "source": [
    "Данная функция ожидает список объектов, у которых должен быть метод `draw` без аргументов. Этот подход является вполне pythonic, но для того, чтоб понять, что именно принимает функция (или чтоб научить IDE подсказывать ошибки), неплохо было бы завести базовый тип, чтоб можно было использовать type hinting:"
   ]
  },
  {
   "cell_type": "code",
   "execution_count": 11,
   "metadata": {
    "collapsed": false
   },
   "outputs": [],
   "source": [
    "from typing import List\n",
    "\n",
    "class Figure:\n",
    "    def draw(self):\n",
    "        pass\n",
    "\n",
    "def draw(figures: List[Figure]):\n",
    "    for fig in figures:\n",
    "        fig.draw()"
   ]
  },
  {
   "cell_type": "markdown",
   "metadata": {},
   "source": [
    "Но используя такой подход, нам никто не помешает создать объект класса `Figure` (хотя с логической точки зрения в этом нет смысла)."
   ]
  },
  {
   "cell_type": "code",
   "execution_count": 3,
   "metadata": {
    "collapsed": true
   },
   "outputs": [],
   "source": [
    "figures = [Figure(), Figure(), Figure()]\n",
    "draw(figures)"
   ]
  },
  {
   "cell_type": "markdown",
   "metadata": {},
   "source": [
    "**Абстрактный класс** — базовый класс, который не предполагает создания экземпляров. Абстрактный класс может содержать абстрактные методы и свойства. Абстрактный метод не реализуется для класса, в котором описан, однако должен быть реализован для его неабстрактных потомков. Абстрактные классы представляют собой наиболее общие абстракции, то есть имеющие наибольший объём и наименьшее содержание.\n",
    "\n",
    "В динамических языках (таких как Python), абстрактные классы представляют собой своеобразный способ документирования кода и помогают ограничить (decouple) взаимодействие отдельных абстракций в программе (классов).\n",
    "\n",
    "Абстрактные классы реализуют на практике один из принципов ООП — **полиморфизм**. Простыми словами, **полиморфизм** – это способность функции обрабатывать данные разных типов."
   ]
  },
  {
   "cell_type": "markdown",
   "metadata": {},
   "source": [
    "В Python поддержка абстрактных классов реализуется на уровне стандартной библиотеки с помощью модуля `abc` (начиная с Python 2.6). Абстрактные методы обозначаются декоратором `@abstractmethod`, а абстрактный класс должен быть создан с использованием *метакласса* `ABCMeta`."
   ]
  },
  {
   "cell_type": "code",
   "execution_count": 5,
   "metadata": {
    "collapsed": false
   },
   "outputs": [],
   "source": [
    "from typing import List\n",
    "from abc import ABCMeta, abstractmethod\n",
    "\n",
    "class Figure(metaclass=ABCMeta):\n",
    "    \n",
    "    @abstractmethod\n",
    "    def draw(self):\n",
    "        pass\n",
    "\n",
    "def draw(figures: List[Figure]):\n",
    "    for fig in figures:\n",
    "        fig.draw()"
   ]
  },
  {
   "cell_type": "markdown",
   "metadata": {},
   "source": [
    "Теперь создать объект класса `Figure` мы не сможем:"
   ]
  },
  {
   "cell_type": "code",
   "execution_count": 6,
   "metadata": {
    "collapsed": false
   },
   "outputs": [
    {
     "ename": "TypeError",
     "evalue": "Can't instantiate abstract class Figure with abstract methods draw",
     "output_type": "error",
     "traceback": [
      "\u001b[0;31m---------------------------------------------------------------------------\u001b[0m",
      "\u001b[0;31mTypeError\u001b[0m                                 Traceback (most recent call last)",
      "\u001b[0;32m<ipython-input-6-e3bd260a2fc6>\u001b[0m in \u001b[0;36m<module>\u001b[0;34m()\u001b[0m\n\u001b[0;32m----> 1\u001b[0;31m \u001b[0mfigures\u001b[0m \u001b[0;34m=\u001b[0m \u001b[0;34m[\u001b[0m\u001b[0mFigure\u001b[0m\u001b[0;34m(\u001b[0m\u001b[0;34m)\u001b[0m\u001b[0;34m,\u001b[0m \u001b[0mFigure\u001b[0m\u001b[0;34m(\u001b[0m\u001b[0;34m)\u001b[0m\u001b[0;34m,\u001b[0m \u001b[0mFigure\u001b[0m\u001b[0;34m(\u001b[0m\u001b[0;34m)\u001b[0m\u001b[0;34m]\u001b[0m\u001b[0;34m\u001b[0m\u001b[0m\n\u001b[0m\u001b[1;32m      2\u001b[0m \u001b[0mdraw\u001b[0m\u001b[0;34m(\u001b[0m\u001b[0mfigures\u001b[0m\u001b[0;34m)\u001b[0m\u001b[0;34m\u001b[0m\u001b[0m\n",
      "\u001b[0;31mTypeError\u001b[0m: Can't instantiate abstract class Figure with abstract methods draw"
     ]
    }
   ],
   "source": [
    "figures = [Figure(), Figure(), Figure()]\n",
    "draw(figures)"
   ]
  },
  {
   "cell_type": "markdown",
   "metadata": {},
   "source": [
    "Кроме того, если мы забудем переопределить один из абстрактных методов в классах-наследниках, тоже получим ошибку (т.к. если в классе есть хотя бы один абстрактный метод, этот класс является абстрактным). Это позволяет строить иерархию абстрактных классов, каждый из которых реализует какую-то часть логики."
   ]
  },
  {
   "cell_type": "code",
   "execution_count": 15,
   "metadata": {
    "collapsed": false
   },
   "outputs": [
    {
     "name": "stdout",
     "output_type": "stream",
     "text": [
      "***\n",
      "***\n",
      "***\n",
      "\n"
     ]
    }
   ],
   "source": [
    "from typing import List\n",
    "from abc import ABCMeta, abstractmethod\n",
    "\n",
    "class Figure(metaclass=ABCMeta):\n",
    "\n",
    "    @abstractmethod\n",
    "    def draw(self):\n",
    "        pass\n",
    "\n",
    "class Square(Figure):\n",
    "    def __init__(self, size):\n",
    "        self.size = 3\n",
    "        \n",
    "    def draw(self):\n",
    "        print((\"*\" * self.size + \"\\n\") * self.size)\n",
    "\n",
    "###\n",
    "\n",
    "def draw(figures: List[Figure]):\n",
    "    for fig in figures:\n",
    "        fig.draw()\n",
    "\n",
    "figures = [Square(3)]\n",
    "draw(figures)"
   ]
  },
  {
   "cell_type": "markdown",
   "metadata": {},
   "source": [
    "Кроме *абстрактных методов*, также можно задавать *абстрактные свойства*."
   ]
  },
  {
   "cell_type": "code",
   "execution_count": 16,
   "metadata": {
    "collapsed": false
   },
   "outputs": [],
   "source": [
    "from abc import ABCMeta, abstractmethod, abstractproperty\n",
    "\n",
    "class Figure(metaclass=ABCMeta):\n",
    "\n",
    "    @abstractproperty\n",
    "    def square(self):\n",
    "        \"\"\" Площадь фигуры. \"\"\"\n",
    "    \n",
    "    @abstractmethod\n",
    "    def draw(self):\n",
    "        \"\"\" Отрисовка фигуры. \"\"\"\n"
   ]
  },
  {
   "cell_type": "markdown",
   "metadata": {},
   "source": [
    "**Абстрактный класс**, который содержит только абстрактные методы, называется **интерфейсом**."
   ]
  },
  {
   "cell_type": "markdown",
   "metadata": {},
   "source": [
    "Данных подход нужно использовать в том случае, если вы хотите запретить создавать объекты абстрактного класса. Кроме этого, можно отметить только некоторые методы как нереализованные (чтоб получить ошибку при попытке их вызова)."
   ]
  },
  {
   "cell_type": "code",
   "execution_count": 22,
   "metadata": {
    "collapsed": false
   },
   "outputs": [
    {
     "ename": "NotImplementedError",
     "evalue": "",
     "output_type": "error",
     "traceback": [
      "\u001b[0;31m---------------------------------------------------------------------------\u001b[0m",
      "\u001b[0;31mNotImplementedError\u001b[0m                       Traceback (most recent call last)",
      "\u001b[0;32m<ipython-input-22-adaa45b11bed>\u001b[0m in \u001b[0;36m<module>\u001b[0;34m()\u001b[0m\n\u001b[1;32m     10\u001b[0m \u001b[0;34m\u001b[0m\u001b[0m\n\u001b[1;32m     11\u001b[0m \u001b[0mfigures\u001b[0m \u001b[0;34m=\u001b[0m \u001b[0;34m[\u001b[0m\u001b[0mFigure\u001b[0m\u001b[0;34m(\u001b[0m\u001b[0;34m)\u001b[0m\u001b[0;34m,\u001b[0m \u001b[0mFigure\u001b[0m\u001b[0;34m(\u001b[0m\u001b[0;34m)\u001b[0m\u001b[0;34m,\u001b[0m \u001b[0mFigure\u001b[0m\u001b[0;34m(\u001b[0m\u001b[0;34m)\u001b[0m\u001b[0;34m]\u001b[0m\u001b[0;34m\u001b[0m\u001b[0m\n\u001b[0;32m---> 12\u001b[0;31m \u001b[0mdraw\u001b[0m\u001b[0;34m(\u001b[0m\u001b[0mfigures\u001b[0m\u001b[0;34m)\u001b[0m\u001b[0;34m\u001b[0m\u001b[0m\n\u001b[0m\u001b[1;32m     13\u001b[0m \u001b[0;31m# Figure().draw()\u001b[0m\u001b[0;34m\u001b[0m\u001b[0;34m\u001b[0m\u001b[0m\n",
      "\u001b[0;32m<ipython-input-22-adaa45b11bed>\u001b[0m in \u001b[0;36mdraw\u001b[0;34m(figures)\u001b[0m\n\u001b[1;32m      7\u001b[0m \u001b[0;32mdef\u001b[0m \u001b[0mdraw\u001b[0m\u001b[0;34m(\u001b[0m\u001b[0mfigures\u001b[0m\u001b[0;34m:\u001b[0m \u001b[0mList\u001b[0m\u001b[0;34m[\u001b[0m\u001b[0mFigure\u001b[0m\u001b[0;34m]\u001b[0m\u001b[0;34m)\u001b[0m\u001b[0;34m:\u001b[0m\u001b[0;34m\u001b[0m\u001b[0m\n\u001b[1;32m      8\u001b[0m     \u001b[0;32mfor\u001b[0m \u001b[0mfig\u001b[0m \u001b[0;32min\u001b[0m \u001b[0mfigures\u001b[0m\u001b[0;34m:\u001b[0m\u001b[0;34m\u001b[0m\u001b[0m\n\u001b[0;32m----> 9\u001b[0;31m         \u001b[0mfig\u001b[0m\u001b[0;34m.\u001b[0m\u001b[0mdraw\u001b[0m\u001b[0;34m(\u001b[0m\u001b[0;34m)\u001b[0m\u001b[0;34m\u001b[0m\u001b[0m\n\u001b[0m\u001b[1;32m     10\u001b[0m \u001b[0;34m\u001b[0m\u001b[0m\n\u001b[1;32m     11\u001b[0m \u001b[0mfigures\u001b[0m \u001b[0;34m=\u001b[0m \u001b[0;34m[\u001b[0m\u001b[0mFigure\u001b[0m\u001b[0;34m(\u001b[0m\u001b[0;34m)\u001b[0m\u001b[0;34m,\u001b[0m \u001b[0mFigure\u001b[0m\u001b[0;34m(\u001b[0m\u001b[0;34m)\u001b[0m\u001b[0;34m,\u001b[0m \u001b[0mFigure\u001b[0m\u001b[0;34m(\u001b[0m\u001b[0;34m)\u001b[0m\u001b[0;34m]\u001b[0m\u001b[0;34m\u001b[0m\u001b[0m\n",
      "\u001b[0;32m<ipython-input-22-adaa45b11bed>\u001b[0m in \u001b[0;36mdraw\u001b[0;34m(self)\u001b[0m\n\u001b[1;32m      3\u001b[0m \u001b[0;32mclass\u001b[0m \u001b[0mFigure\u001b[0m\u001b[0;34m:\u001b[0m\u001b[0;34m\u001b[0m\u001b[0m\n\u001b[1;32m      4\u001b[0m     \u001b[0;32mdef\u001b[0m \u001b[0mdraw\u001b[0m\u001b[0;34m(\u001b[0m\u001b[0mself\u001b[0m\u001b[0;34m)\u001b[0m\u001b[0;34m:\u001b[0m\u001b[0;34m\u001b[0m\u001b[0m\n\u001b[0;32m----> 5\u001b[0;31m         \u001b[0;32mraise\u001b[0m \u001b[0mNotImplementedError\u001b[0m\u001b[0;34m(\u001b[0m\u001b[0;34m)\u001b[0m\u001b[0;34m\u001b[0m\u001b[0m\n\u001b[0m\u001b[1;32m      6\u001b[0m \u001b[0;34m\u001b[0m\u001b[0m\n\u001b[1;32m      7\u001b[0m \u001b[0;32mdef\u001b[0m \u001b[0mdraw\u001b[0m\u001b[0;34m(\u001b[0m\u001b[0mfigures\u001b[0m\u001b[0;34m:\u001b[0m \u001b[0mList\u001b[0m\u001b[0;34m[\u001b[0m\u001b[0mFigure\u001b[0m\u001b[0;34m]\u001b[0m\u001b[0;34m)\u001b[0m\u001b[0;34m:\u001b[0m\u001b[0;34m\u001b[0m\u001b[0m\n",
      "\u001b[0;31mNotImplementedError\u001b[0m: "
     ]
    }
   ],
   "source": [
    "from typing import List\n",
    "\n",
    "class Figure:\n",
    "    def draw(self):\n",
    "        raise NotImplementedError()\n",
    "\n",
    "def draw(figures: List[Figure]):\n",
    "    for fig in figures:\n",
    "        fig.draw()\n",
    "\n",
    "figures = [Figure(), Figure(), Figure()]\n",
    "draw(figures)\n",
    "# Figure().draw()"
   ]
  },
  {
   "cell_type": "markdown",
   "metadata": {},
   "source": [
    "# Метаклассы"
   ]
  },
  {
   "cell_type": "markdown",
   "metadata": {},
   "source": [
    "**Метаклассы** – это черная магия, о которой 99% пользователей вообще не нужно задумываться. Если вы думаете о том, нужно ли вам их использовать – они вам не нужны (а те, кому они действительно нужны, точно знают, зачем они им, и не нуждаются в объяснениях, почему).\n",
    "\n",
    "Кто недостаточно испугался – прочитайте https://habrahabr.ru/post/145835/ и забудьте."
   ]
  },
  {
   "cell_type": "markdown",
   "metadata": {},
   "source": [
    "В Python метакласс – это штука, которая создает классы. И эта штука позволяет:\n",
    "* делать дополнительные проверки при создании классов как `ABCMeta` проверяет, что все абстрактные методы и свойства реализованы;\n",
    "* добавлять новые методы и свойства в класс на лету, или менять их (т.е. делать так, что в коде будет написано одно, а работать оно будет по-другому);\n",
    "* делать еще много чего, адекватность которого зависит от того, какими веществами увлекается программист, ними пользующийся."
   ]
  },
  {
   "cell_type": "code",
   "execution_count": 23,
   "metadata": {
    "collapsed": false
   },
   "outputs": [
    {
     "name": "stdout",
     "output_type": "stream",
     "text": [
      "<class 'type'>\n",
      "John Doe\n"
     ]
    }
   ],
   "source": [
    "class Person:\n",
    "    name = \"John Doe\"\n",
    "\n",
    "p = Person()\n",
    "print(type(Person))\n",
    "print(p.name)"
   ]
  },
  {
   "cell_type": "code",
   "execution_count": 24,
   "metadata": {
    "collapsed": false
   },
   "outputs": [
    {
     "name": "stdout",
     "output_type": "stream",
     "text": [
      "<class 'type'>\n",
      "John Doe\n"
     ]
    }
   ],
   "source": [
    "Person = type('Person', (), {\"name\": \"John Doe\"})\n",
    "\n",
    "p = Person()\n",
    "print(type(Person))\n",
    "print(p.name)"
   ]
  },
  {
   "cell_type": "markdown",
   "metadata": {},
   "source": [
    "Все метаклассы должны наследоваться от класса `type`."
   ]
  },
  {
   "cell_type": "markdown",
   "metadata": {},
   "source": [
    "# Синглтоны (Singleton)"
   ]
  },
  {
   "cell_type": "markdown",
   "metadata": {},
   "source": [
    "**Синглтон** – порождающий шаблон проектирования, гарантирующий, что в однопоточном приложении будет только один экземпляр некоторого класса, и предоставляющий глобальную точку доступа к этому экземпляру.\n",
    "\n",
    "Есть мнение, что синглтон это антипаттерн, которые нужно стараться не использовать, потому что он может принести больше проблем, чем пользы (в частности в многопоточных приложениях).\n",
    "\n",
    "## Способы реализации синглтона в Python"
   ]
  },
  {
   "cell_type": "markdown",
   "metadata": {},
   "source": [
    "### Способ №1 – плохой"
   ]
  },
  {
   "cell_type": "code",
   "execution_count": 31,
   "metadata": {
    "collapsed": false
   },
   "outputs": [
    {
     "name": "stdout",
     "output_type": "stream",
     "text": [
      "2\n",
      "True\n",
      "4539703704\n",
      "4539703704\n"
     ]
    }
   ],
   "source": [
    "class Singleton(type):\n",
    "    \"\"\" Метакласс для создание синглтонов. \"\"\"\n",
    "    __instance = None\n",
    "\n",
    "    def __call__(cls, *args, **kw):\n",
    "        if cls.__instance is None:\n",
    "            cls.__instance = super(Singleton, cls).__call__(*args, **kw)\n",
    "        return cls.__instance\n",
    "\n",
    "class SomeService(metaclass=Singleton):\n",
    "    x = 1\n",
    "\n",
    "    def say_hello(self):\n",
    "        print(\"Hello!\")\n",
    "        \n",
    "obj1 = SomeService()\n",
    "obj2 = SomeService()\n",
    "\n",
    "obj1.x = 2\n",
    "print(obj2.x)\n",
    "\n",
    "print(obj1 is obj2)\n",
    "print(id(obj1))\n",
    "print(id(obj2))"
   ]
  },
  {
   "cell_type": "markdown",
   "metadata": {},
   "source": [
    "### Способ №2 – немного лучше"
   ]
  },
  {
   "cell_type": "code",
   "execution_count": 35,
   "metadata": {
    "collapsed": false
   },
   "outputs": [
    {
     "name": "stdout",
     "output_type": "stream",
     "text": [
      "True\n",
      "4539704712\n",
      "4539704712\n"
     ]
    }
   ],
   "source": [
    "import functools\n",
    "\n",
    "def singleton(cls):\n",
    "    \"\"\" Декоратор, для преобразования класса в Singleton \"\"\"\n",
    "    instances = {}\n",
    "    \n",
    "    @functools.wraps(cls)\n",
    "    def decorator():\n",
    "        if cls not in instances:\n",
    "            instances[cls] = cls()\n",
    "        return instances[cls]\n",
    "\n",
    "    return decorator\n",
    "\n",
    "@singleton\n",
    "class SomeService:\n",
    "    def say_hello(self):\n",
    "        print(\"Hello!\")\n",
    "\n",
    "obj1 = SomeService()\n",
    "obj2 = SomeService()\n",
    "\n",
    "print(obj1 is obj2)\n",
    "print(id(obj1))\n",
    "print(id(obj2))"
   ]
  },
  {
   "cell_type": "markdown",
   "metadata": {},
   "source": [
    "### Способ №3 – почти идеальный"
   ]
  },
  {
   "cell_type": "markdown",
   "metadata": {},
   "source": [
    "Создать фабричный метод для получения объекта. Обратите внимание, что мы явно не запрещаем создать несколько объектов класса."
   ]
  },
  {
   "cell_type": "code",
   "execution_count": 38,
   "metadata": {
    "collapsed": false
   },
   "outputs": [
    {
     "name": "stdout",
     "output_type": "stream",
     "text": [
      "True\n",
      "4539737480\n",
      "4539737480\n",
      "Hello!\n"
     ]
    }
   ],
   "source": [
    "class SomeService:\n",
    "\n",
    "    @classmethod\n",
    "    def instance(cls):\n",
    "        if not hasattr(cls, \"__instance\"):\n",
    "            setattr(cls, \"__instance\", cls())\n",
    "        return getattr(cls, \"__instance\")\n",
    "    \n",
    "    def say_hello(self):\n",
    "        print(\"Hello!\")\n",
    "\n",
    "obj1 = SomeService.instance()\n",
    "obj2 = SomeService.instance()\n",
    "\n",
    "print(obj1 is obj2)\n",
    "print(id(obj1))\n",
    "print(id(obj2))        \n",
    "        \n",
    "SomeService.instance().say_hello()"
   ]
  },
  {
   "cell_type": "markdown",
   "metadata": {},
   "source": [
    "### Способ №4 - идеальный\n",
    "\n",
    "Если вам нужен только один объект какого-то класса – создайте только один объект этого класса, и используйте его :)"
   ]
  },
  {
   "cell_type": "code",
   "execution_count": 39,
   "metadata": {
    "collapsed": false
   },
   "outputs": [
    {
     "name": "stdout",
     "output_type": "stream",
     "text": [
      "Hello!\n",
      "Hello!\n",
      "Hello!\n"
     ]
    }
   ],
   "source": [
    "class SomeService:\n",
    "    def say_hello(self):\n",
    "        print(\"Hello!\")\n",
    "\n",
    "obj = SomeService()\n",
    "obj.say_hello()\n",
    "obj.say_hello()\n",
    "obj.say_hello()"
   ]
  },
  {
   "cell_type": "markdown",
   "metadata": {
    "collapsed": true
   },
   "source": [
    "# Принципы проектирования ПО"
   ]
  },
  {
   "cell_type": "markdown",
   "metadata": {},
   "source": [
    "## DRY – Don’t Repeat Yourself\n",
    "\n",
    "*Каждая часть знания должна иметь единственное, непротиворечивое и авторитетное представление в рамках системы.*\n",
    "\n",
    "**DRY** (\"не повторяйся\") — это принцип разработки программного обеспечения, нацеленный на снижение повторения информации различного рода, особенно в системах со множеством слоев абстракции.\n",
    "\n",
    "Нарушения принципа **DRY** называют **WET — Write Everything Twice** (\"пиши все по два раза\")."
   ]
  },
  {
   "cell_type": "markdown",
   "metadata": {},
   "source": [
    "## KISS – Keep It Simple, Stupid\n",
    "\n",
    "**KISS** в программировании — принцип, запрещающий использование более сложных средств, чем необходимо. Изречение часто вызываемое при обсуждении вопросов проектирования с целью парирования нарастающей функциональности и управления сложностью разработки.\n",
    "\n",
    "Принцип **KISS** утверждает, что большинство систем работают лучше всего, если они остаются простыми, а не усложняются. Поэтому в области проектирования простота должна быть одной из ключевых целей и следует избегать ненужной сложности."
   ]
  },
  {
   "cell_type": "markdown",
   "metadata": {},
   "source": [
    "## YAGNI – You Ain't Gonna Need It\n",
    "\n",
    "Согласно адептам принципа YAGNI, желание писать код, который не нужен прямо сейчас, но может понадобиться в будущем, приводит к следующим нежелательным последствиям:\n",
    "\n",
    "* Тратится время, которое было бы затрачено на добавление, тестирование и улучшение необходимой функциональности.\n",
    "* Новые функции должны быть отлажены, документированы и сопровождаться.\n",
    "* Новая функциональность ограничивает то, что может быть сделано в будущем — ненужные новые функции могут впоследствии помешать добавить новые нужные.\n",
    "* Пока новые функции действительно не нужны, трудно полностью предугадать, что они должны делать, и протестировать их. Если новые функции тщательно не протестированы, они могут неправильно работать, когда впоследствии понадобятся.\n",
    "* Это приводит к тому, что программное обеспечение становится более сложным (подчас чрезмерно сложным).\n",
    "* Если вся функциональность не документирована, она может так и остаться неизвестной пользователям, но может создать для безопасности пользовательской системы различные риски.\n",
    "* Добавление новой функциональности может привести к желанию ещё более новой функциональности, приводя к эффекту \"снежного кома\"."
   ]
  },
  {
   "cell_type": "markdown",
   "metadata": {},
   "source": [
    "## SOLID\n",
    "\n",
    "#### The Single Responsibility Principle (Принцип единственной ответственности)\n",
    "Каждый объект должен иметь одну ответственность и эта ответственность должна быть полностью инкапсулирована в класс. Все его поведения должны быть направлены исключительно на обеспечение этой ответственности.\n",
    "\n",
    "#### The Open Closed Principle (Принцип открытости/закрытости)\n",
    "Программные сущности (классы, модули, функции и т. п.) должны быть открыты для расширения, но закрыты для изменения.\n",
    "\n",
    "#### The Liskov Substitution Principle (Принцип подстановки Барбары Лисков)\n",
    "Является специфичным определением подтипа, предложенным Барбарой Лисков в 1987 году на конференции в основном докладе под названием \"Абстракция данных и иерархия\". Идея Лисков о *подтипе* даёт определение понятия замещения — если `S` является подтипом `T`, тогда объекты типа `T` в программе могут быть замещены объектами типа `S` без каких-либо изменений свойств этой программы.\n",
    "\n",
    "#### The Interface Segregation Principle (Принцип разделения интерфейса)\n",
    "Клиенты не должны зависеть от методов, которые они не используют. Слишком \"толстые\" интерфейсы необходимо разделять на более маленькие и специфические, чтобы клиенты маленьких интерфейсов знали только о методах, которые необходимы им в работе. В итоге, при изменении метода интерфейса не должны меняться клиенты, которые этот метод не используют.\n",
    "\n",
    "#### The Dependency Inversion Principle (Принцип инверсии зависимостей)\n",
    "* Модули верхних уровней не должны зависеть от модулей нижних уровней. Оба типа модулей должны зависеть от абстракций.\n",
    "* Абстракции не должны зависеть от деталей. Детали должны зависеть от абстракций."
   ]
  },
  {
   "cell_type": "code",
   "execution_count": null,
   "metadata": {
    "collapsed": true
   },
   "outputs": [],
   "source": []
  }
 ],
 "metadata": {
  "kernelspec": {
   "display_name": "Python 3",
   "language": "python",
   "name": "python3"
  },
  "language_info": {
   "codemirror_mode": {
    "name": "ipython",
    "version": 3
   },
   "file_extension": ".py",
   "mimetype": "text/x-python",
   "name": "python",
   "nbconvert_exporter": "python",
   "pygments_lexer": "ipython3",
   "version": "3.5.2"
  }
 },
 "nbformat": 4,
 "nbformat_minor": 1
}
