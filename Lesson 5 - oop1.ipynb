{
 "cells": [
  {
   "cell_type": "markdown",
   "metadata": {},
   "source": [
    "# Oбъектно-ориентированное программирование"
   ]
  },
  {
   "cell_type": "markdown",
   "metadata": {},
   "source": [
    "## Парадигмы программирования\n",
    "\n",
    "Парадигма программирования – это совокупность идей и понятий, определяющих стиль написания компьютерных программ, подход к программированию.\n",
    "\n",
    "Python поддерживает разные парадигмы программирования\n",
    "* императивное программирование\n",
    "* процедурное программирование\n",
    "* структурное программирование\n",
    "* объектно-ориентированное программирование\n",
    "* функциональное программирование"
   ]
  },
  {
   "cell_type": "markdown",
   "metadata": {},
   "source": [
    "**Объектно-ориентированное программирование (ООП)** – парадигма программирования, в которой основными концепциями являются понятия объектов и классов."
   ]
  },
  {
   "cell_type": "markdown",
   "metadata": {},
   "source": [
    "**Класс** является моделью ещё не существующей сущности (объекта). Он является составным типом данным, включающим в себя поля и методы.\n",
    "**Объект** – это экземпляр класса."
   ]
  },
  {
   "cell_type": "markdown",
   "metadata": {},
   "source": [
    "## Инкапсуляция"
   ]
  },
  {
   "cell_type": "markdown",
   "metadata": {},
   "source": [
    "**Инкапсуляция** – это свойство системы, позволяющее объединить данные и методы, работающие с ними, в классе, и _скрыть_ детали реализации.\n",
    "Инкапсуляция обеспечивается следующими средствами:\n",
    "* контроль доступа (модификаторы доступа)\n",
    "* методы доступа (getters, setters)\n",
    "* свойства объекта"
   ]
  },
  {
   "cell_type": "code",
   "execution_count": 12,
   "metadata": {
    "collapsed": false
   },
   "outputs": [
    {
     "name": "stdout",
     "output_type": "stream",
     "text": [
      "<class '__main__.MyClass'>\n"
     ]
    }
   ],
   "source": [
    "# Объявление пустого класса MyClass\n",
    "class MyClass:\n",
    "    pass\n",
    "\n",
    "# Создание экземпляра класса\n",
    "obj = MyClass()\n",
    "\n",
    "# Вывод типа obj\n",
    "print(type(obj))"
   ]
  },
  {
   "cell_type": "markdown",
   "metadata": {},
   "source": [
    "В Python **всё** является объектами – экземплярами каких-либо классов, даже сами классы, которые являются объектами – экземплярами метаклассов. Главным метаклассом является класс type, который является абстракцией понятия типа данных."
   ]
  },
  {
   "cell_type": "code",
   "execution_count": 14,
   "metadata": {
    "collapsed": false
   },
   "outputs": [
    {
     "name": "stdout",
     "output_type": "stream",
     "text": [
      "<class '__main__.MyClass'>\n",
      "<class 'type'>\n",
      "<class 'type'>\n",
      "True\n"
     ]
    }
   ],
   "source": [
    "# Объявление пустого класса MyClass\n",
    "class MyClass:\n",
    "    pass\n",
    "# class MyClass(object): для Python 2\n",
    "\n",
    "# Создание экземпляра класса - лбычный синтаксис вызова функции\n",
    "obj = MyClass()\n",
    "\n",
    "# Объект obj -- это экземпляр класса MyClass,\n",
    "# то есть он имеет тип MyClass\n",
    "print(type(obj))  # <class '__main__.MyClass'>\n",
    "\n",
    "# MyClass -- это класс, но также он является\n",
    "# и объектом, экземпляром метакласса type,\n",
    "# являющегося абстракцией понятия типа данных\n",
    "print(type(MyClass))  # <class 'type'>\n",
    "\n",
    "# Соответственно, с классами работать как\n",
    "# с объектами, например, копировать\n",
    "AnotherClass = MyClass\n",
    "print(type(AnotherClass))\n",
    "\n",
    "# Как видим, теперь AnotherClass -- это то же самое, что и MyClass,\n",
    "# и obj является и экземпляром класса AnotherClass\n",
    "print(isinstance(obj, AnotherClass))  # True"
   ]
  },
  {
   "cell_type": "markdown",
   "metadata": {},
   "source": [
    "В терминологии Python члены класса называются атрибутами. Эти атрибуты могут быть как переменными, так и функциями.\n",
    "* Классы создаются при помощи ключевого слова class.\n",
    "* Классы как объекты поддерживают два вида операций: обращение к\n",
    "атрибутам классов и создание (инстанцирование) объектов – экземпляров\n",
    "класса (instance objects).\n",
    "* Обращение к атрибутам какого-либо класса или объекта производится\n",
    "путём указания имени объекта и имени атрибута через точку.\n",
    "* Для создания экземпляров класса используется синтаксис вызова функции."
   ]
  },
  {
   "cell_type": "code",
   "execution_count": 16,
   "metadata": {
    "collapsed": false
   },
   "outputs": [
    {
     "name": "stdout",
     "output_type": "stream",
     "text": [
      "8\n",
      "a string\n",
      "8\n",
      "a string\n",
      "10\n",
      "10\n",
      "10\n",
      "a string\n",
      "another string\n",
      "a string\n"
     ]
    }
   ],
   "source": [
    "# Объявление класса MyClass с двумя атрибутами int_field\n",
    "# и str_field. Атрибуты класса, являющиеся переменными,\n",
    "# примерно соответствуют статическим полям класса в других\n",
    "# языках программирования\n",
    "class MyClass:\n",
    "    int_field = 8\n",
    "    str_field = 'a string'\n",
    "\n",
    "print(MyClass.int_field)\n",
    "print(MyClass.str_field)\n",
    "\n",
    "# Создание двух экземпляров класса\n",
    "object1 = MyClass()\n",
    "object2 = MyClass()\n",
    "\n",
    "# Обращение к атрибутам класса через его экземпляры\n",
    "print(object1.int_field)\n",
    "print(object2.str_field)\n",
    "\n",
    "# Все вышеперечисленные обращения к атрибутам на самом деле относятся\n",
    "# ко двум одним и тем же переменным\n",
    "\n",
    "# Изменение значения атрибута класса\n",
    "MyClass.int_field = 10\n",
    "print(MyClass.int_field)\n",
    "print(object1.int_field)\n",
    "print(object2.int_field)\n",
    "\n",
    "# Однако, аналогично глобальным и локальным переменным,\n",
    "# присвоение значение атрибуту объекта не изменяет значение\n",
    "# атрибута класса, а ведёт к созданию атрибута данных\n",
    "# (нестатического поля)\n",
    "object1.str_field = 'another string'\n",
    "print(MyClass.str_field)\n",
    "print(object1.str_field)\n",
    "print(object2.str_field)"
   ]
  },
  {
   "cell_type": "code",
   "execution_count": 17,
   "metadata": {
    "collapsed": false
   },
   "outputs": [
    {
     "name": "stdout",
     "output_type": "stream",
     "text": [
      "Alex is 18\n",
      "John is 20\n"
     ]
    }
   ],
   "source": [
    "# Атрибуты-данные аналогичны полям в терминологии большинства\n",
    "# распространённых языков программирования.\n",
    "# Атрибуты-данные не нужно описывать: как и переменные,\n",
    "# они создаются в момент первого присваивания.\n",
    "\n",
    "\n",
    "# Класс, описывающий человека\n",
    "class Person:\n",
    "    pass\n",
    "\n",
    "\n",
    "# Создание экземпляров класса\n",
    "\n",
    "alex = Person()\n",
    "alex.name = 'Alex'\n",
    "alex.age = 18\n",
    "\n",
    "john = Person()\n",
    "john.name = 'John'\n",
    "john.age = 20\n",
    "\n",
    "# Атрибуты-данные относятся только к отдельным экземплярам класса\n",
    "# и никак не влияют на значения соответствующих атрибутов-данных\n",
    "# других экземпляров\n",
    "print(alex.name, 'is', alex.age)\n",
    "print(john.name, 'is', john.age)"
   ]
  },
  {
   "cell_type": "markdown",
   "metadata": {},
   "source": [
    "### Первый аргумент метода, который соответствует текущему экземпляру, принято называть self."
   ]
  },
  {
   "cell_type": "code",
   "execution_count": 22,
   "metadata": {
    "collapsed": false
   },
   "outputs": [
    {
     "name": "stdout",
     "output_type": "stream",
     "text": [
      "<class 'function'>\n",
      "Alex is 18 hello\n",
      "John is 20 hello\n",
      "<class 'method'>\n",
      "Alex is 18 Hello\n",
      "John is 20 Hello\n"
     ]
    }
   ],
   "source": [
    "# Атрибутами класса могут быть и функции\n",
    "\n",
    "# Класс, описывающий человека\n",
    "class Person:\n",
    "    def print_info(self, message):\n",
    "        print(self.name, 'is', self.age, message)\n",
    "# Создание экземпляров класса\n",
    "\n",
    "alex = Person()\n",
    "alex.name = 'Alex'\n",
    "alex.age = 18\n",
    "\n",
    "john = Person()\n",
    "john.name = 'John'\n",
    "john.age = 20\n",
    "\n",
    "# Проверим, чем является атрибут print_info класса Person\n",
    "print(type(Person.print_info))  # функция (<class 'function'>)\n",
    "\n",
    "# Вызовем её для объектов alex и john\n",
    "Person.print_info(alex, \"hello\")\n",
    "Person.print_info(john, \"hello\")\n",
    "\n",
    "# Метод -- это функция, привязанная к объекту. Все атрибуты класса,\n",
    "# являющиеся функциями, описывают соответствующие методы экземпляров\n",
    "# данного класса.\n",
    "\n",
    "print(type(alex.print_info))  # метод (<class 'method'>)\n",
    "\n",
    "# Вызов метода print_info\n",
    "alex.print_info('Hello')\n",
    "john.print_info('Hello')"
   ]
  },
  {
   "cell_type": "code",
   "execution_count": 23,
   "metadata": {
    "collapsed": false
   },
   "outputs": [
    {
     "name": "stdout",
     "output_type": "stream",
     "text": [
      "Alex is 18\n",
      "John is 20\n"
     ]
    }
   ],
   "source": [
    "# Начальное состояние объекта следует создавать в\n",
    "# специальном методе-конструкторе __init__, который\n",
    "# вызывается автоматически после создания экземпляра\n",
    "# класса. Его параметры указываются при создании\n",
    "# объекта.\n",
    "\n",
    "\n",
    "# Класс, описывающий человека\n",
    "class Person:\n",
    "    # Конструктор\n",
    "    \n",
    "    MAGIC_NUMBER = 8;\n",
    "    def __init__(self, name, age):\n",
    "        self.name = name\n",
    "        self.age = age\n",
    "\n",
    "    # Метод из прошлого примера\n",
    "    def print_info(self):\n",
    "        print(self.name, 'is', self.age)\n",
    "\n",
    "\n",
    "# Создание экземпляров класса\n",
    "alex = Person('Alex', 18)\n",
    "john = Person('John', 20)\n",
    "\n",
    "# Вызов метода print_info\n",
    "alex.print_info()\n",
    "john.print_info()"
   ]
  },
  {
   "cell_type": "code",
   "execution_count": 24,
   "metadata": {
    "collapsed": false
   },
   "outputs": [
    {
     "name": "stdout",
     "output_type": "stream",
     "text": [
      "8\n",
      "42\n",
      "8\n"
     ]
    }
   ],
   "source": [
    "# Методы, которые являются общими для класса и всех экземпляров класса\n",
    "# и не имеют доступ к данным экземпляров классов, называются\n",
    "# статическими методами.\n",
    "#\n",
    "# Для создания статических методов используется декоратор\n",
    "# staticmethod.\n",
    "#\n",
    "# Декоратор – это специальная функция, которая изменяет поведение\n",
    "# функции или класса. Для применения декоратора следует перед\n",
    "# соответствующим объявлением указать символ @, имя необходимого\n",
    "# декоратора и список его аргументов в круглых скобках.\n",
    "# Если передача параметров декоратору не требуется, скобки не указываются.\n",
    "\n",
    "\n",
    "class MyClass:\n",
    "    # Объявление атрибута класса\n",
    "    class_attribute = 8\n",
    "\n",
    "    # Конструктор\n",
    "    def __init__(self):\n",
    "        self.data_attribute = 42\n",
    "\n",
    "    # Статический метод. Обратите внимание, что у него нет параметра\n",
    "    # self, поскольку он не связан ни с одним из экземпляров класса\n",
    "    # не имеет доступа к атрибутам-данным\n",
    "    @staticmethod\n",
    "    def static_method():\n",
    "        print(MyClass.class_attribute)\n",
    "\n",
    "    # Обычный метод\n",
    "    def instance_method(self):\n",
    "        print(self.data_attribute)\n",
    "\n",
    "\n",
    "if __name__ == '__main__':\n",
    "    # Вызов статического метода\n",
    "    MyClass.static_method()\n",
    "    # Инстанцирование объекта\n",
    "    obj = MyClass()\n",
    "    # Вызов метода\n",
    "    obj.instance_method()\n",
    "    # Аналогично атрибутам класса, доступ ко статическим методам\n",
    "    # можно получить и через экземпляр класса\n",
    "    obj.static_method()\n"
   ]
  },
  {
   "cell_type": "code",
   "execution_count": 13,
   "metadata": {
    "collapsed": false
   },
   "outputs": [
    {
     "name": "stdout",
     "output_type": "stream",
     "text": [
      "Rectangle(3.0, 4.0)\n",
      "Circle(1.0)\n",
      "Circle(2.5)\n"
     ]
    }
   ],
   "source": [
    "# Так как классы тоже являются объектами, то помимо атрибутов-функций\n",
    "# они могут иметь и собственные методы. Для создания методов класса\n",
    "# используется декоратор classmethod. В таких методах первый параметр\n",
    "# принято называть не self, а cls.\n",
    "#\n",
    "# Методы класса обычно используются в двух случаях:\n",
    "# •\tдля создания фабричных методов, которые создают\n",
    "#   экземпляры данного класса альтернативными способами;\n",
    "# •\tстатические методы, вызывающие статические методы:\n",
    "#   поскольку данный класс передаётся как первый аргумент функции,\n",
    "#   не нужно вручную указывать имя класса для вызова статического метода.\n",
    "\n",
    "\n",
    "class Rectangle:\n",
    "    \"\"\"\n",
    "    Класс, описывающий прямоугольник\n",
    "    \"\"\"\n",
    "\n",
    "    def __init__(self, side_a, side_b):\n",
    "        \"\"\"\n",
    "        Конструктор класса\n",
    "        :param side_a: первая сторона\n",
    "        :param side_b: вторая сторона\n",
    "        \"\"\"\n",
    "        self.side_a = side_a\n",
    "        self.side_b = side_b\n",
    "\n",
    "    def __repr__(self):\n",
    "        \"\"\"\n",
    "        Метод, который возвращает строковое представление объекта\n",
    "        \"\"\"\n",
    "        return 'Rectangle(%.1f, %.1f)' % (self.side_a, self.side_b)\n",
    "\n",
    "\n",
    "class Circle:\n",
    "    \"\"\"\n",
    "    Класс, описывающий окружность\n",
    "    \"\"\"\n",
    "\n",
    "    def __init__(self, radius):\n",
    "        self.radius = radius\n",
    "\n",
    "    def __repr__(self):\n",
    "        return 'Circle(%.1f)' % self.radius\n",
    "\n",
    "    @classmethod\n",
    "    def from_rectangle(cls, rectangle):\n",
    "        \"\"\"\n",
    "        Мы используем метод класса в качестве фабричного метода,\n",
    "        который создаёт экземпляр класса Circle из экземпляра\n",
    "        класса Rectangle как окружность, вписанную в данный\n",
    "        прямоугольник.\n",
    "\n",
    "        :param rectangle: Rectangle instance\n",
    "        :return: Circle instance\n",
    "        \"\"\"\n",
    "        radius = (rectangle.side_a ** 2 + rectangle.side_b ** 2) ** 0.5 / 2\n",
    "        return cls(radius)\n",
    "\n",
    "\n",
    "def main():\n",
    "    rectangle = Rectangle(3, 4)\n",
    "    print(rectangle)\n",
    "    circle1 = Circle(1)\n",
    "    print(circle1)\n",
    "    circle2 = Circle.from_rectangle(rectangle)\n",
    "    print(circle2)\n",
    "\n",
    "\n",
    "if __name__ == '__main__':\n",
    "    main()"
   ]
  },
  {
   "cell_type": "code",
   "execution_count": 27,
   "metadata": {
    "collapsed": false
   },
   "outputs": [
    {
     "name": "stdout",
     "output_type": "stream",
     "text": [
      "42\n",
      "99\n",
      "42\n"
     ]
    }
   ],
   "source": [
    "# Атрибуты, имена которых начинаются, но не заканчиваются, двумя символами\n",
    "# подчёркивания, считаются приватными. К ним применяется механизм\n",
    "# «name mangling», суть которого заключается в том, что изнутри класса\n",
    "# и его экземпляров к этим атрибутам можно обращаться по тому имени,\n",
    "#  было задано при объявлении, однако на самом деле к именам слева добавляется\n",
    "# подчёркивание и имя класса. Этот механизм не предполагает защиты данных от\n",
    "# изменения извне, так как к ним всё равно можно обратиться, зная имя класса\n",
    "# и то, как Python изменяет имена приватных атрибутов, однако позволяет\n",
    "# защитить их от случайного переопределения в классах-потомках.\n",
    "\n",
    "\n",
    "class MyClass:\n",
    "    def __init__(self):\n",
    "        self.__private_attribute = 42\n",
    "        self._protected_attribute = 99\n",
    "\n",
    "    def get_private(self):\n",
    "        return self.__private_attribute\n",
    "    \n",
    "\n",
    "\n",
    "obj = MyClass()\n",
    "print(obj.get_private())  # 42\n",
    "print(obj._protected_attribute)\n",
    "# print(obj.__private_attribute)  # ошибка\n",
    "print(obj._MyClass__private_attribute)  # 42"
   ]
  },
  {
   "cell_type": "code",
   "execution_count": 39,
   "metadata": {
    "collapsed": false
   },
   "outputs": [
    {
     "name": "stdout",
     "output_type": "stream",
     "text": [
      "0\n",
      "1\n"
     ]
    }
   ],
   "source": [
    "class MyClass:\n",
    "    def __init__(self):\n",
    "        self.__attribute = 0\n",
    "\n",
    "    @property\n",
    "    def attribute(self):\n",
    "        return self.__attribute\n",
    "    \n",
    "    @attribute.setter\n",
    "    def attribute(self, value):\n",
    "        if value < 100:\n",
    "             self.__attribute = value\n",
    "\n",
    "\n",
    "obj = MyClass()\n",
    "print(obj.attribute)  # 0\n",
    "obj.attribute = 1\n",
    "print(obj.attribute)  # 100"
   ]
  },
  {
   "cell_type": "code",
   "execution_count": 34,
   "metadata": {
    "collapsed": false
   },
   "outputs": [
    {
     "name": "stdout",
     "output_type": "stream",
     "text": [
      "Complex(2, 3.5)\n",
      "x = 2 + 3.5\n",
      "y = 5 + 7\n",
      "x + y = 7 + 10.5\n",
      "x - y = -3 - 3.5\n",
      "|x| = 4.031128874149275\n",
      "(x == y) = False\n"
     ]
    }
   ],
   "source": [
    "# Атрибуты, имена которых начинаются и заканчиваются двумя знаками\n",
    "# подчёркивания, являются внутренними для Python и задают особые\n",
    "# свойства объектов. С одним из подобных атрибутов мы уже имели\n",
    "# дело ранее (документационная строка __doc__). Другим примером\n",
    "# может служить атрибут __class__, в котором хранится класс\n",
    "# данного объекта.\n",
    "#\n",
    "# Среди таких атрибутов есть методы. В документации Python\n",
    "# подобные методы называются методами со специальными именами,\n",
    "# однако в сообществе Python-разработчиков очень распространено\n",
    "# название «магические методы». Также встречается и название\n",
    "# «специальные методы». Они задают особое поведение объектов\n",
    "# и позволяют переопределять поведение встроенных функций и\n",
    "# операторов для экземпляров данного класса.\n",
    "#\n",
    "# Наиболее часто используемым специальным методом является\n",
    "# метод-конструктор __init__.\n",
    "\n",
    "\n",
    "class Complex:\n",
    "    \"\"\"\n",
    "    Комплексное число\n",
    "    \"\"\"\n",
    "\n",
    "    def __init__(self, real=0.0, imaginary=0.0):\n",
    "        \"\"\"\n",
    "        Конструктор\n",
    "\n",
    "        :param real:      действительная часть\n",
    "        :param imaginary: мнимая часть\n",
    "        \"\"\"\n",
    "        self.real = real\n",
    "        self.imaginary = imaginary\n",
    "\n",
    "    def __repr__(self):\n",
    "        \"\"\"\n",
    "        Метод __repr__ возвращает строковое представление объекта, которое,\n",
    "        если это возможно, должно быть корректным выражением, создающим\n",
    "        аналогичный объект, иначе содержать его описание;\n",
    "        вызывается функцией repr.\n",
    "        \"\"\"\n",
    "        return 'Complex({0}, {1})'.format(self.real, self.imaginary)\n",
    "\n",
    "    def __str__(self):\n",
    "        \"\"\"\n",
    "        Метод __str__ возвращает предназначенное для человека строковое\n",
    "        представление объекта; вызывается функциями str, print и format.\n",
    "        \"\"\"\n",
    "        return '{0} {1} {2}'.format(self.real,\n",
    "                              '+' if self.imaginary >= 0 else '-',\n",
    "                              abs(self.imaginary))\n",
    "\n",
    "    # Арифметические операции\n",
    "\n",
    "    def __add__(self, other):\n",
    "        \"\"\"\n",
    "        Метод __add__ определяет операцию сложения.\n",
    "        \"\"\"\n",
    "        return Complex(self.real + other.real,\n",
    "                       self.imaginary + other.imaginary)\n",
    "\n",
    "    def __neg__(self):\n",
    "        \"\"\"\n",
    "        Операция отрицания\n",
    "        \"\"\"\n",
    "        return Complex(-self.real, -self.imaginary)\n",
    "\n",
    "    def __sub__(self, other):\n",
    "        \"\"\"\n",
    "        Операция вычитания.\n",
    "        Сложение и отрицание уже определены, поэтому вычитание\n",
    "        можно определить через них\n",
    "        \"\"\"\n",
    "        return self + (-other)\n",
    "\n",
    "    def __abs__(self):\n",
    "        \"\"\"\n",
    "        Модуль числа\n",
    "        \"\"\"\n",
    "        return (self.real ** 2 + self.imaginary ** 2) ** 0.5\n",
    "\n",
    "    # Операции сравнения\n",
    "\n",
    "    def __eq__(self, other):\n",
    "        return self.real == other.real and self.imaginary == other.imaginary\n",
    "\n",
    "    def __ne__(self, other):\n",
    "        return not (self == other)\n",
    "\n",
    "\n",
    "def main():\n",
    "    x = Complex(2, 3.5)\n",
    "    print(repr(x))\n",
    "    print('x =', x)\n",
    "\n",
    "    y = Complex(5, 7)\n",
    "    print('y =', y)\n",
    "\n",
    "    print('x + y =', x + y)\n",
    "    print('x - y =', x - y)\n",
    "\n",
    "    print('|x| =', abs(x))\n",
    "\n",
    "    print('(x == y) =', x == y)\n",
    "\n",
    "\n",
    "if __name__ == '__main__':\n",
    "    main()"
   ]
  },
  {
   "cell_type": "code",
   "execution_count": 20,
   "metadata": {
    "collapsed": false
   },
   "outputs": [
    {
     "name": "stdout",
     "output_type": "stream",
     "text": [
      "8\n",
      "42\n"
     ]
    }
   ],
   "source": [
    "# В этом примере показано использование специального метода\n",
    "# __new__ для реализации такого шаблона проектирования как\n",
    "# Одиночка (Singleton).\n",
    "#\n",
    "# Одиночка — порождающий шаблон проектирования, гарантирующий,\n",
    "# что данный класс имеет только один экземпляр.\n",
    "\n",
    "\n",
    "class Singleton:\n",
    "    _instance = None  # атрибут, хранящий экземпляр класса\n",
    "\n",
    "    def __new__(cls, *args, **kwargs):\n",
    "        \"\"\"\n",
    "        Метод __new__ вызывается при создании экземпляра класса.\n",
    "        \"\"\"\n",
    "\n",
    "        # Если экземпляр ещё не создан, то создаём его\n",
    "        if cls._instance is None:\n",
    "            cls._instance = object.__new__(cls, *args, **kwargs)\n",
    "\n",
    "        # Возвращаем существующий экземпляр\n",
    "        return cls._instance\n",
    "\n",
    "    def __init__(self):\n",
    "        self.value = 8\n",
    "\n",
    "\n",
    "obj1 = Singleton()\n",
    "print(obj1.value)\n",
    "\n",
    "obj2 = Singleton()\n",
    "obj2.value = 42\n",
    "print(obj1.value)"
   ]
  },
  {
   "cell_type": "code",
   "execution_count": 36,
   "metadata": {
    "collapsed": false
   },
   "outputs": [
    {
     "name": "stdout",
     "output_type": "stream",
     "text": [
      "secret value\n"
     ]
    }
   ],
   "source": [
    "# В этом примере показано использование функции __getattribute__\n",
    "# для сокрытия данных\n",
    "\n",
    "\n",
    "class MyClass:\n",
    "    def __init__(self):\n",
    "        self.password = None\n",
    "\n",
    "    def __getattribute__(self, item):\n",
    "        \"\"\"\n",
    "        Метод __getattribute__ вызывается при получении атрибутов\n",
    "        \"\"\"\n",
    "\n",
    "        # Если запрошено поле secret_field и пароль верный\n",
    "        if item == 'secret_field' and self.password == '9ea)fc':\n",
    "            # то возвращаем значение\n",
    "            return 'secret value'\n",
    "        else:\n",
    "            # иначе вызываем метод __getattribute__ класса object\n",
    "            return object.__getattribute__(self, item)\n",
    "\n",
    "\n",
    "# Создание экземпляра класса\n",
    "obj = MyClass()\n",
    "\n",
    "# Разблокирование секретного поля\n",
    "obj.password = '9ea)fc'\n",
    "\n",
    "# Вывод значения secret field.\n",
    "# Значение будет получено, если раскомментировать предыдущую\n",
    "# строку программного кода, иначе будет получена ошибка.\n",
    "print(obj.secret_field)"
   ]
  },
  {
   "cell_type": "code",
   "execution_count": null,
   "metadata": {
    "collapsed": true
   },
   "outputs": [],
   "source": []
  }
 ],
 "metadata": {
  "kernelspec": {
   "display_name": "Python 3",
   "language": "python",
   "name": "python3"
  },
  "language_info": {
   "codemirror_mode": {
    "name": "ipython",
    "version": 3
   },
   "file_extension": ".py",
   "mimetype": "text/x-python",
   "name": "python",
   "nbconvert_exporter": "python",
   "pygments_lexer": "ipython3",
   "version": "3.5.2"
  }
 },
 "nbformat": 4,
 "nbformat_minor": 0
}
